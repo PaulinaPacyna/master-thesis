{
 "cells": [
  {
   "cell_type": "code",
   "execution_count": 1,
   "metadata": {
    "colab": {
     "base_uri": "https://localhost:8080/"
    },
    "id": "-TcDXfukt9nE",
    "outputId": "d0f4fdb7-6366-4d8e-b34e-076728905b09"
   },
   "outputs": [
    {
     "name": "stdout",
     "output_type": "stream",
     "text": [
      "Drive already mounted at /content/drive; to attempt to forcibly remount, call drive.mount(\"/content/drive\", force_remount=True).\n"
     ]
    }
   ],
   "source": [
    "import os, sys\n",
    "\n",
    "if os.path.abspath(\".\") == \"/content\":  # google colab\n",
    "    %pip install sktime keras==2.8.0 tensorflow==2.8.2 keras-nlp==0.4.0 mlflow tensorflow_addons==0.17.1  --quiet\n",
    "    from google.colab import drive\n",
    "\n",
    "    drive.mount(\"/content/drive\")\n",
    "\n",
    "    os.chdir(\"/content/drive/My Drive/master-thesis/src\")\n",
    "    %pip install sktime keras==2.8.0 tensorflow==2.8.2 keras-nlp==0.4.0 mlflow tensorflow_addons==0.17.1  --quiet"
   ]
  },
  {
   "cell_type": "code",
   "execution_count": null,
   "metadata": {
    "colab": {
     "base_uri": "https://localhost:8080/"
    },
    "id": "TnaJrIrQt9nH",
    "outputId": "79180210-1884-46a8-d3c3-2b73959fe656"
   },
   "outputs": [
    {
     "metadata": {
      "tags": null
     },
     "name": "stderr",
     "output_type": "stream",
     "text": [
      "INFO:root:Loading only one category: IMAGE\n",
      "INFO:root:Loading only one category: IMAGE\n",
      "WARNING:root:Changing param values is not allowed. Param with key='gen_indices' was already logged with value='range(0, 41454)' for run ID='ba8b3cf9f7a94659b99640c965657cec'. Attempted logging new value 'range(0, 13818)'.\n"
     ]
    },
    {
     "metadata": {
      "tags": null
     },
     "name": "stdout",
     "output_type": "stream",
     "text": [
      "Epoch 1/10\n",
      "   6/1620 [..............................] - ETA: 2:54 - loss: 5.6913 - accuracy: 0.0039"
     ]
    },
    {
     "metadata": {
      "tags": null
     },
     "name": "stderr",
     "output_type": "stream",
     "text": [
      "WARNING:tensorflow:Callback method `on_train_batch_end` is slow compared to the batch time (batch time: 0.0397s vs `on_train_batch_end` time: 0.0624s). Check your callbacks.\n"
     ]
    },
    {
     "metadata": {
      "tags": null
     },
     "name": "stdout",
     "output_type": "stream",
     "text": [
      "1620/1620 [==============================] - ETA: 0s - loss: 2.2828 - accuracy: 0.5138"
     ]
    },
    {
     "metadata": {
      "tags": null
     },
     "name": "stderr",
     "output_type": "stream",
     "text": [
      "INFO:tensorflow:Assets written to: ./data/models/baseline_approach/source/category=IMAGE/dataset=Adiac/assets\n"
     ]
    },
    {
     "metadata": {
      "tags": null
     },
     "name": "stdout",
     "output_type": "stream",
     "text": [
      "1620/1620 [==============================] - 212s 129ms/step - loss: 2.2828 - accuracy: 0.5138 - val_loss: 1.5781 - val_accuracy: 0.5965\n",
      "Epoch 2/10\n",
      "1620/1620 [==============================] - ETA: 0s - loss: 0.8106 - accuracy: 0.7655"
     ]
    },
    {
     "metadata": {
      "tags": null
     },
     "name": "stderr",
     "output_type": "stream",
     "text": [
      "INFO:tensorflow:Assets written to: ./data/models/baseline_approach/source/category=IMAGE/dataset=Adiac/assets\n"
     ]
    },
    {
     "metadata": {
      "tags": null
     },
     "name": "stdout",
     "output_type": "stream",
     "text": [
      "1620/1620 [==============================] - 210s 129ms/step - loss: 0.8106 - accuracy: 0.7655 - val_loss: 1.3809 - val_accuracy: 0.6395\n",
      "Epoch 3/10\n",
      "1620/1620 [==============================] - 206s 127ms/step - loss: 0.5934 - accuracy: 0.8124 - val_loss: 1.3575 - val_accuracy: 0.6356\n",
      "Epoch 4/10\n",
      "1620/1620 [==============================] - ETA: 0s - loss: 0.5074 - accuracy: 0.8303"
     ]
    },
    {
     "metadata": {
      "tags": null
     },
     "name": "stderr",
     "output_type": "stream",
     "text": [
      "INFO:tensorflow:Assets written to: ./data/models/baseline_approach/source/category=IMAGE/dataset=Adiac/assets\n"
     ]
    },
    {
     "metadata": {
      "tags": null
     },
     "name": "stdout",
     "output_type": "stream",
     "text": [
      "1620/1620 [==============================] - 212s 131ms/step - loss: 0.5074 - accuracy: 0.8303 - val_loss: 1.3585 - val_accuracy: 0.6402\n",
      "Epoch 5/10\n",
      "1620/1620 [==============================] - ETA: 0s - loss: 0.4581 - accuracy: 0.8414"
     ]
    },
    {
     "metadata": {
      "tags": null
     },
     "name": "stderr",
     "output_type": "stream",
     "text": [
      "INFO:tensorflow:Assets written to: ./data/models/baseline_approach/source/category=IMAGE/dataset=Adiac/assets\n"
     ]
    },
    {
     "metadata": {
      "tags": null
     },
     "name": "stdout",
     "output_type": "stream",
     "text": [
      "1620/1620 [==============================] - 214s 132ms/step - loss: 0.4581 - accuracy: 0.8414 - val_loss: 1.3715 - val_accuracy: 0.6414\n",
      "Epoch 6/10\n",
      "1620/1620 [==============================] - ETA: 0s - loss: 0.4298 - accuracy: 0.8476"
     ]
    },
    {
     "metadata": {
      "tags": null
     },
     "name": "stderr",
     "output_type": "stream",
     "text": [
      "INFO:tensorflow:Assets written to: ./data/models/baseline_approach/source/category=IMAGE/dataset=Adiac/assets\n"
     ]
    },
    {
     "metadata": {
      "tags": null
     },
     "name": "stdout",
     "output_type": "stream",
     "text": [
      "1620/1620 [==============================] - 208s 128ms/step - loss: 0.4298 - accuracy: 0.8476 - val_loss: 1.3924 - val_accuracy: 0.6421\n",
      "Epoch 7/10\n",
      "1620/1620 [==============================] - ETA: 0s - loss: 0.4092 - accuracy: 0.8518"
     ]
    },
    {
     "metadata": {
      "tags": null
     },
     "name": "stderr",
     "output_type": "stream",
     "text": [
      "INFO:tensorflow:Assets written to: ./data/models/baseline_approach/source/category=IMAGE/dataset=Adiac/assets\n"
     ]
    },
    {
     "metadata": {
      "tags": null
     },
     "name": "stdout",
     "output_type": "stream",
     "text": [
      "1620/1620 [==============================] - 211s 130ms/step - loss: 0.4092 - accuracy: 0.8518 - val_loss: 1.4089 - val_accuracy: 0.6426\n",
      "Epoch 8/10\n",
      "1620/1620 [==============================] - ETA: 0s - loss: 0.3937 - accuracy: 0.8560"
     ]
    },
    {
     "metadata": {
      "tags": null
     },
     "name": "stderr",
     "output_type": "stream",
     "text": [
      "INFO:tensorflow:Assets written to: ./data/models/baseline_approach/source/category=IMAGE/dataset=Adiac/assets\n"
     ]
    },
    {
     "metadata": {
      "tags": null
     },
     "name": "stdout",
     "output_type": "stream",
     "text": [
      "1620/1620 [==============================] - 211s 130ms/step - loss: 0.3937 - accuracy: 0.8560 - val_loss: 1.4314 - val_accuracy: 0.6468\n",
      "Epoch 9/10\n",
      "1620/1620 [==============================] - 206s 127ms/step - loss: 0.3830 - accuracy: 0.8583 - val_loss: 1.4448 - val_accuracy: 0.6427\n",
      "Epoch 10/10\n",
      "1620/1620 [==============================] - 204s 126ms/step - loss: 0.3738 - accuracy: 0.8603 - val_loss: 1.4607 - val_accuracy: 0.6456\n"
     ]
    },
    {
     "metadata": {
      "tags": null
     },
     "name": "stderr",
     "output_type": "stream",
     "text": [
      "INFO:root:Loading only one dataset: Adiac\n",
      "INFO:root:Loading only one dataset: Adiac\n",
      "WARNING:root:Param value '[0.0018018  0.0018018  0.0018018  0.00142248 0.0018018  0.00142248\n",
      " 0.00168919 0.0012285  0.0018018  0.00168919 0.00142248 0.0018018\n",
      " 0.00142248 0.0012285  0.0018018  0.00158983 0.00168919 0.0018018\n",
      " 0.0018018  0.0018018  0.0018018  0.0018018  0.0018' had length 6465, which exceeded length limit of 500\n",
      "WARNING:root:Param value '[0.0045045  0.00540541 0.0045045  0.00540541 0.0045045  0.0045045\n",
      " 0.00540541 0.00540541 0.003861   0.0045045  0.00540541 0.0045045\n",
      " 0.003861   0.00540541 0.00540541 0.00540541 0.003861   0.00540541\n",
      " 0.00540541 0.00540541 0.003861   0.00540541 0.0038' had length 2180, which exceeded length limit of 500\n"
     ]
    },
    {
     "metadata": {
      "tags": null
     },
     "name": "stdout",
     "output_type": "stream",
     "text": [
      "Epoch 1/10\n",
      " 6/30 [=====>........................] - ETA: 2s - loss: 3.9610 - accuracy: 0.0273"
     ]
    },
    {
     "metadata": {
      "tags": null
     },
     "name": "stderr",
     "output_type": "stream",
     "text": [
      "WARNING:tensorflow:Callback method `on_train_batch_end` is slow compared to the batch time (batch time: 0.0397s vs `on_train_batch_end` time: 0.0759s). Check your callbacks.\n"
     ]
    },
    {
     "metadata": {
      "tags": null
     },
     "name": "stdout",
     "output_type": "stream",
     "text": [
      "30/30 [==============================] - ETA: 0s - loss: 3.6300 - accuracy: 0.0556"
     ]
    },
    {
     "metadata": {
      "tags": null
     },
     "name": "stderr",
     "output_type": "stream",
     "text": [
      "INFO:tensorflow:Assets written to: ./data/models/baseline_approach/dest/dataset=Adiac/assets\n"
     ]
    },
    {
     "metadata": {
      "tags": null
     },
     "name": "stdout",
     "output_type": "stream",
     "text": [
      "30/30 [==============================] - 9s 266ms/step - loss: 3.6300 - accuracy: 0.0556 - val_loss: 3.3591 - val_accuracy: 0.0918\n",
      "Epoch 2/10\n",
      "30/30 [==============================] - ETA: 0s - loss: 3.2463 - accuracy: 0.1464"
     ]
    },
    {
     "metadata": {
      "tags": null
     },
     "name": "stderr",
     "output_type": "stream",
     "text": [
      "INFO:tensorflow:Assets written to: ./data/models/baseline_approach/dest/dataset=Adiac/assets\n"
     ]
    },
    {
     "metadata": {
      "tags": null
     },
     "name": "stdout",
     "output_type": "stream",
     "text": [
      "30/30 [==============================] - 6s 201ms/step - loss: 3.2463 - accuracy: 0.1464 - val_loss: 3.0625 - val_accuracy: 0.3622\n",
      "Epoch 3/10\n",
      "30/30 [==============================] - ETA: 0s - loss: 2.9672 - accuracy: 0.2074"
     ]
    },
    {
     "metadata": {
      "tags": null
     },
     "name": "stderr",
     "output_type": "stream",
     "text": [
      "INFO:tensorflow:Assets written to: ./data/models/baseline_approach/dest/dataset=Adiac/assets\n"
     ]
    },
    {
     "metadata": {
      "tags": null
     },
     "name": "stdout",
     "output_type": "stream",
     "text": [
      "30/30 [==============================] - 7s 226ms/step - loss: 2.9672 - accuracy: 0.2074 - val_loss: 2.7883 - val_accuracy: 0.3673\n",
      "Epoch 4/10\n",
      "30/30 [==============================] - ETA: 0s - loss: 2.7251 - accuracy: 0.2605"
     ]
    },
    {
     "metadata": {
      "tags": null
     },
     "name": "stderr",
     "output_type": "stream",
     "text": [
      "INFO:tensorflow:Assets written to: ./data/models/baseline_approach/dest/dataset=Adiac/assets\n"
     ]
    },
    {
     "metadata": {
      "tags": null
     },
     "name": "stdout",
     "output_type": "stream",
     "text": [
      "30/30 [==============================] - 6s 208ms/step - loss: 2.7251 - accuracy: 0.2605 - val_loss: 2.5407 - val_accuracy: 0.4541\n",
      "Epoch 5/10\n",
      "30/30 [==============================] - ETA: 0s - loss: 2.4975 - accuracy: 0.3060"
     ]
    },
    {
     "metadata": {
      "tags": null
     },
     "name": "stderr",
     "output_type": "stream",
     "text": [
      "INFO:tensorflow:Assets written to: ./data/models/baseline_approach/dest/dataset=Adiac/assets\n"
     ]
    },
    {
     "metadata": {
      "tags": null
     },
     "name": "stdout",
     "output_type": "stream",
     "text": [
      "30/30 [==============================] - 6s 195ms/step - loss: 2.4975 - accuracy: 0.3060 - val_loss: 2.3305 - val_accuracy: 0.4847\n",
      "Epoch 6/10\n",
      "30/30 [==============================] - ETA: 0s - loss: 2.3020 - accuracy: 0.3582"
     ]
    },
    {
     "metadata": {
      "tags": null
     },
     "name": "stderr",
     "output_type": "stream",
     "text": [
      "INFO:tensorflow:Assets written to: ./data/models/baseline_approach/dest/dataset=Adiac/assets\n"
     ]
    },
    {
     "metadata": {
      "tags": null
     },
     "name": "stdout",
     "output_type": "stream",
     "text": [
      "30/30 [==============================] - 7s 245ms/step - loss: 2.3020 - accuracy: 0.3582 - val_loss: 2.1677 - val_accuracy: 0.5000\n",
      "Epoch 7/10\n",
      "30/30 [==============================] - ETA: 0s - loss: 2.1454 - accuracy: 0.3878"
     ]
    },
    {
     "metadata": {
      "tags": null
     },
     "name": "stderr",
     "output_type": "stream",
     "text": [
      "INFO:tensorflow:Assets written to: ./data/models/baseline_approach/dest/dataset=Adiac/assets\n"
     ]
    },
    {
     "metadata": {
      "tags": null
     },
     "name": "stdout",
     "output_type": "stream",
     "text": [
      "30/30 [==============================] - 6s 201ms/step - loss: 2.1454 - accuracy: 0.3878 - val_loss: 2.0458 - val_accuracy: 0.5204\n",
      "Epoch 8/10\n",
      "30/30 [==============================] - ETA: 0s - loss: 2.0242 - accuracy: 0.4129"
     ]
    },
    {
     "metadata": {
      "tags": null
     },
     "name": "stderr",
     "output_type": "stream",
     "text": [
      "INFO:tensorflow:Assets written to: ./data/models/baseline_approach/dest/dataset=Adiac/assets\n"
     ]
    },
    {
     "metadata": {
      "tags": null
     },
     "name": "stdout",
     "output_type": "stream",
     "text": [
      "30/30 [==============================] - 8s 273ms/step - loss: 2.0242 - accuracy: 0.4129 - val_loss: 1.9149 - val_accuracy: 0.5306\n",
      "Epoch 9/10\n",
      "30/30 [==============================] - ETA: 0s - loss: 1.9209 - accuracy: 0.4435"
     ]
    },
    {
     "metadata": {
      "tags": null
     },
     "name": "stderr",
     "output_type": "stream",
     "text": [
      "INFO:tensorflow:Assets written to: ./data/models/baseline_approach/dest/dataset=Adiac/assets\n"
     ]
    },
    {
     "metadata": {
      "tags": null
     },
     "name": "stdout",
     "output_type": "stream",
     "text": [
      "30/30 [==============================] - 6s 198ms/step - loss: 1.9209 - accuracy: 0.4435 - val_loss: 1.8247 - val_accuracy: 0.5765\n",
      "Epoch 10/10\n",
      "30/30 [==============================] - 4s 117ms/step - loss: 1.8247 - accuracy: 0.4760 - val_loss: 1.7573 - val_accuracy: 0.5459\n"
     ]
    },
    {
     "metadata": {
      "tags": null
     },
     "name": "stderr",
     "output_type": "stream",
     "text": [
      "INFO:root:Loading only one dataset: Adiac\n",
      "INFO:root:Loading only one dataset: Adiac\n",
      "WARNING:root:The given value for groups will be overwritten.\n",
      "WARNING:root:The given value for groups will be overwritten.\n",
      "WARNING:root:The given value for groups will be overwritten.\n",
      "WARNING:root:The given value for groups will be overwritten.\n",
      "WARNING:root:Param value '[0.0018018  0.00168919 0.0018018  0.00168919 0.0018018  0.0018018\n",
      " 0.00142248 0.0018018  0.0018018  0.0018018  0.0018018  0.00158983\n",
      " 0.0018018  0.00168919 0.0018018  0.00142248 0.0018018  0.0018018\n",
      " 0.00142248 0.0018018  0.00158983 0.00158983 0.0018' had length 6460, which exceeded length limit of 500\n",
      "WARNING:root:Param value '[0.00540541 0.00540541 0.0045045  0.0045045  0.003861   0.00540541\n",
      " 0.0045045  0.00540541 0.003861   0.00540541 0.00540541 0.00540541\n",
      " 0.00540541 0.0045045  0.00540541 0.00540541 0.003861   0.00540541\n",
      " 0.00540541 0.0045045  0.00540541 0.00540541 0.00' had length 2174, which exceeded length limit of 500\n"
     ]
    },
    {
     "metadata": {
      "tags": null
     },
     "name": "stdout",
     "output_type": "stream",
     "text": [
      "Epoch 1/10\n",
      " 6/30 [=====>........................] - ETA: 2s - loss: 3.6078 - accuracy: 0.0339"
     ]
    },
    {
     "metadata": {
      "tags": null
     },
     "name": "stderr",
     "output_type": "stream",
     "text": [
      "WARNING:tensorflow:Callback method `on_train_batch_end` is slow compared to the batch time (batch time: 0.0426s vs `on_train_batch_end` time: 0.0754s). Check your callbacks.\n"
     ]
    },
    {
     "metadata": {
      "tags": null
     },
     "name": "stdout",
     "output_type": "stream",
     "text": [
      "30/30 [==============================] - ETA: 0s - loss: 3.5898 - accuracy: 0.0533"
     ]
    },
    {
     "metadata": {
      "tags": null
     },
     "name": "stderr",
     "output_type": "stream",
     "text": [
      "INFO:tensorflow:Assets written to: ./data/models/baseline_approach/dest_plain/dataset=Adiac/assets\n"
     ]
    },
    {
     "metadata": {
      "tags": null
     },
     "name": "stdout",
     "output_type": "stream",
     "text": [
      "30/30 [==============================] - 8s 219ms/step - loss: 3.5898 - accuracy: 0.0533 - val_loss: 3.5675 - val_accuracy: 0.0765\n",
      "Epoch 2/10\n",
      "30/30 [==============================] - ETA: 0s - loss: 3.5133 - accuracy: 0.1108"
     ]
    },
    {
     "metadata": {
      "tags": null
     },
     "name": "stderr",
     "output_type": "stream",
     "text": [
      "INFO:tensorflow:Assets written to: ./data/models/baseline_approach/dest_plain/dataset=Adiac/assets\n"
     ]
    },
    {
     "metadata": {
      "tags": null
     },
     "name": "stdout",
     "output_type": "stream",
     "text": [
      "30/30 [==============================] - 6s 199ms/step - loss: 3.5133 - accuracy: 0.1108 - val_loss: 3.4660 - val_accuracy: 0.1633\n",
      "Epoch 3/10\n",
      "30/30 [==============================] - 4s 118ms/step - loss: 3.3770 - accuracy: 0.1354 - val_loss: 3.3048 - val_accuracy: 0.1582\n",
      "Epoch 4/10\n",
      "30/30 [==============================] - ETA: 0s - loss: 3.2188 - accuracy: 0.1565"
     ]
    },
    {
     "metadata": {
      "tags": null
     },
     "name": "stderr",
     "output_type": "stream",
     "text": [
      "INFO:tensorflow:Assets written to: ./data/models/baseline_approach/dest_plain/dataset=Adiac/assets\n"
     ]
    },
    {
     "metadata": {
      "tags": null
     },
     "name": "stdout",
     "output_type": "stream",
     "text": [
      "30/30 [==============================] - 7s 246ms/step - loss: 3.2188 - accuracy: 0.1565 - val_loss: 3.1109 - val_accuracy: 0.1684\n",
      "Epoch 5/10\n",
      "30/30 [==============================] - ETA: 0s - loss: 3.0334 - accuracy: 0.1906"
     ]
    },
    {
     "metadata": {
      "tags": null
     },
     "name": "stderr",
     "output_type": "stream",
     "text": [
      "INFO:tensorflow:Assets written to: ./data/models/baseline_approach/dest_plain/dataset=Adiac/assets\n"
     ]
    },
    {
     "metadata": {
      "tags": null
     },
     "name": "stdout",
     "output_type": "stream",
     "text": [
      "30/30 [==============================] - 6s 197ms/step - loss: 3.0334 - accuracy: 0.1906 - val_loss: 2.8376 - val_accuracy: 0.2551\n",
      "Epoch 6/10\n",
      "30/30 [==============================] - 4s 118ms/step - loss: 2.8458 - accuracy: 0.2309 - val_loss: 2.6844 - val_accuracy: 0.2500\n",
      "Epoch 7/10\n",
      "30/30 [==============================] - ETA: 0s - loss: 2.6710 - accuracy: 0.2647"
     ]
    },
    {
     "metadata": {
      "tags": null
     },
     "name": "stderr",
     "output_type": "stream",
     "text": [
      "INFO:tensorflow:Assets written to: ./data/models/baseline_approach/dest_plain/dataset=Adiac/assets\n"
     ]
    },
    {
     "metadata": {
      "tags": null
     },
     "name": "stdout",
     "output_type": "stream",
     "text": [
      "30/30 [==============================] - 7s 247ms/step - loss: 2.6710 - accuracy: 0.2647 - val_loss: 2.4982 - val_accuracy: 0.3214\n",
      "Epoch 8/10\n",
      "30/30 [==============================] - ETA: 0s - loss: 2.4986 - accuracy: 0.2970"
     ]
    },
    {
     "metadata": {
      "tags": null
     },
     "name": "stderr",
     "output_type": "stream",
     "text": [
      "INFO:tensorflow:Assets written to: ./data/models/baseline_approach/dest_plain/dataset=Adiac/assets\n"
     ]
    },
    {
     "metadata": {
      "tags": null
     },
     "name": "stdout",
     "output_type": "stream",
     "text": [
      "30/30 [==============================] - 6s 196ms/step - loss: 2.4986 - accuracy: 0.2970 - val_loss: 2.3494 - val_accuracy: 0.3980\n",
      "Epoch 9/10\n",
      "30/30 [==============================] - ETA: 0s - loss: 2.3629 - accuracy: 0.3186"
     ]
    },
    {
     "metadata": {
      "tags": null
     },
     "name": "stderr",
     "output_type": "stream",
     "text": [
      "INFO:tensorflow:Assets written to: ./data/models/baseline_approach/dest_plain/dataset=Adiac/assets\n"
     ]
    },
    {
     "metadata": {
      "tags": null
     },
     "name": "stdout",
     "output_type": "stream",
     "text": [
      "30/30 [==============================] - 6s 214ms/step - loss: 2.3629 - accuracy: 0.3186 - val_loss: 2.2535 - val_accuracy: 0.4031\n",
      "Epoch 10/10\n",
      "30/30 [==============================] - ETA: 0s - loss: 2.2622 - accuracy: 0.3423"
     ]
    },
    {
     "metadata": {
      "tags": null
     },
     "name": "stderr",
     "output_type": "stream",
     "text": [
      "INFO:tensorflow:Assets written to: ./data/models/baseline_approach/dest_plain/dataset=Adiac/assets\n"
     ]
    },
    {
     "metadata": {
      "tags": null
     },
     "name": "stdout",
     "output_type": "stream",
     "text": [
      "\b\b\b\b\b\b\b\b\b\b\b\b\b\b\b\b\b\b\b\b\b\b\b\b\b\b\b\b\b\b\b\b\b\b\b\b\b\b\b\b\b\b\b\b\b\b\b\b\b\b\b\b\b\b\b\b\b\b\b\b\b\b\b\b\b\b\b\b\b\b\b\b\b\b\b\b\b\b\b\b\b\b\r",
      "30/30 [==============================] - 7s 218ms/step - loss: 2.2622 - accuracy: 0.3423 - val_loss: 2.1048 - val_accuracy: 0.4490\n"
     ]
    },
    {
     "metadata": {
      "tags": null
     },
     "name": "stderr",
     "output_type": "stream",
     "text": [
      "INFO:root:Loading only one category: IMAGE\n",
      "INFO:root:Loading only one category: IMAGE\n",
      "WARNING:root:Changing param values is not allowed. Param with key='gen_indices' was already logged with value='range(0, 41881)' for run ID='30fc73864f234ec3aa49d29b58c3a62c'. Attempted logging new value 'range(0, 13961)'.\n"
     ]
    },
    {
     "metadata": {
      "tags": null
     },
     "name": "stdout",
     "output_type": "stream",
     "text": [
      "Epoch 1/10\n",
      "   6/1640 [..............................] - ETA: 3:13 - loss: 5.7981 - accuracy: 0.0013"
     ]
    },
    {
     "metadata": {
      "tags": null
     },
     "name": "stderr",
     "output_type": "stream",
     "text": [
      "WARNING:tensorflow:Callback method `on_train_batch_end` is slow compared to the batch time (batch time: 0.0456s vs `on_train_batch_end` time: 0.0764s). Check your callbacks.\n"
     ]
    },
    {
     "metadata": {
      "tags": null
     },
     "name": "stdout",
     "output_type": "stream",
     "text": [
      "1640/1640 [==============================] - ETA: 0s - loss: 2.4344 - accuracy: 0.4675"
     ]
    },
    {
     "metadata": {
      "tags": null
     },
     "name": "stderr",
     "output_type": "stream",
     "text": [
      "INFO:tensorflow:Assets written to: ./data/models/baseline_approach/source/category=IMAGE/dataset=ArrowHead/assets\n"
     ]
    },
    {
     "metadata": {
      "tags": null
     },
     "name": "stdout",
     "output_type": "stream",
     "text": [
      "1640/1640 [==============================] - 208s 126ms/step - loss: 2.4344 - accuracy: 0.4675 - val_loss: 1.6713 - val_accuracy: 0.5644\n",
      "Epoch 2/10\n",
      "1640/1640 [==============================] - ETA: 0s - loss: 0.9588 - accuracy: 0.7257"
     ]
    },
    {
     "metadata": {
      "tags": null
     },
     "name": "stderr",
     "output_type": "stream",
     "text": [
      "INFO:tensorflow:Assets written to: ./data/models/baseline_approach/source/category=IMAGE/dataset=ArrowHead/assets\n"
     ]
    },
    {
     "name": "stdout",
     "output_type": "stream",
     "text": [
      "1640/1640 [==============================] - 210s 128ms/step - loss: 0.9588 - accuracy: 0.7257 - val_loss: 1.3986 - val_accuracy: 0.6215\n",
      "Epoch 3/10\n",
      "1640/1640 [==============================] - ETA: 0s - loss: 0.7095 - accuracy: 0.7794"
     ]
    },
    {
     "name": "stderr",
     "output_type": "stream",
     "text": [
      "INFO:tensorflow:Assets written to: ./data/models/baseline_approach/source/category=IMAGE/dataset=ArrowHead/assets\n"
     ]
    },
    {
     "name": "stdout",
     "output_type": "stream",
     "text": [
      "\b\b\b\b\b\b\b\b\b\b\b\b\b\b\b\b\b\b\b\b\b\b\b\b\b\b\b\b\b\b\b\b\b\b\b\b\b\b\b\b\b\b\b\b\b\b\b\b\b\b\b\b\b\b\b\b\b\b\b\b\b\b\b\b\b\b\b\b\b\b\b\b\b\b\b\b\b\b\b\b\b\b\b\b\b\b\r",
      "1640/1640 [==============================] - 210s 128ms/step - loss: 0.7095 - accuracy: 0.7794 - val_loss: 1.3499 - val_accuracy: 0.6306\n",
      "Epoch 4/10\n",
      "1640/1640 [==============================] - ETA: 0s - loss: 0.5975 - accuracy: 0.8047"
     ]
    },
    {
     "name": "stderr",
     "output_type": "stream",
     "text": [
      "INFO:tensorflow:Assets written to: ./data/models/baseline_approach/source/category=IMAGE/dataset=ArrowHead/assets\n"
     ]
    },
    {
     "name": "stdout",
     "output_type": "stream",
     "text": [
      "\b\b\b\b\b\b\b\b\b\b\b\b\b\b\b\b\b\b\b\b\b\b\b\b\b\b\b\b\b\b\b\b\b\b\b\b\b\b\b\b\b\b\b\b\b\b\b\b\b\b\b\b\b\b\b\b\b\b\b\b\b\b\b\b\b\b\b\b\b\b\b\b\b\b\b\b\b\b\b\b\b\b\b\b\b\b\r",
      "1640/1640 [==============================] - 209s 128ms/step - loss: 0.5975 - accuracy: 0.8047 - val_loss: 1.3149 - val_accuracy: 0.6515\n",
      "Epoch 5/10\n",
      "1272/1640 [======================>.......] - ETA: 45s - loss: 0.5427 - accuracy: 0.8171"
     ]
    }
   ],
   "source": [
    "import experiments.baseline_category "
   ]
  }
 ],
 "metadata": {
  "accelerator": "GPU",
  "colab": {
   "provenance": []
  },
  "environment": {
   "kernel": "python3",
   "name": "tf2-gpu.2-8.m100",
   "type": "gcloud",
   "uri": "gcr.io/deeplearning-platform-release/tf2-gpu.2-8:m100"
  },
  "gpuClass": "standard",
  "kernelspec": {
   "display_name": "uni",
   "language": "python",
   "name": "uni"
  },
  "language_info": {
   "codemirror_mode": {
    "name": "ipython",
    "version": 3
   },
   "file_extension": ".py",
   "mimetype": "text/x-python",
   "name": "python",
   "nbconvert_exporter": "python",
   "pygments_lexer": "ipython3",
   "version": "3.8.13"
  }
 },
 "nbformat": 4,
 "nbformat_minor": 1
}
