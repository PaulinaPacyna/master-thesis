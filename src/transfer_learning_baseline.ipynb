{
  "cells": [
    {
      "cell_type": "code",
      "execution_count": 1,
      "metadata": {
        "colab": {
          "base_uri": "https://localhost:8080/"
        },
        "id": "-TcDXfukt9nE",
        "outputId": "d0f4fdb7-6366-4d8e-b34e-076728905b09"
      },
      "outputs": [
        {
          "output_type": "stream",
          "name": "stdout",
          "text": [
            "Drive already mounted at /content/drive; to attempt to forcibly remount, call drive.mount(\"/content/drive\", force_remount=True).\n"
          ]
        }
      ],
      "source": [
        "import os, sys\n",
        "\n",
        "if os.path.abspath(\".\") == \"/content\":  # google colab\n",
        "    %pip install sktime keras==2.8.0 tensorflow==2.8.2 keras-nlp==0.4.0 mlflow tensorflow_addons==0.17.1  --quiet\n",
        "    from google.colab import drive\n",
        "\n",
        "    drive.mount(\"/content/drive\")\n",
        "\n",
        "    os.chdir(\"/content/drive/My Drive/master-thesis/src\")\n",
        "    %pip install sktime keras==2.8.0 tensorflow==2.8.2 keras-nlp==0.4.0 mlflow tensorflow_addons==0.17.1  --quiet"
      ]
    },
    {
      "cell_type": "code",
      "execution_count": null,
      "metadata": {
        "id": "TnaJrIrQt9nH",
        "outputId": "cf3a6c3f-6ef4-4662-8c09-1fe371634914",
        "colab": {
          "base_uri": "https://localhost:8080/"
        }
      },
      "outputs": [
        {
          "output_type": "stream",
          "name": "stderr",
          "text": [
            "INFO:root:Loading only one category: IMAGE\n",
            "INFO:root:Loading only one category: IMAGE\n",
            "WARNING:root:Changing param values is not allowed. Param with key='gen_indices' was already logged with value='range(0, 41454)' for run ID='ba8b3cf9f7a94659b99640c965657cec'. Attempted logging new value 'range(0, 13818)'.\n"
          ]
        },
        {
          "output_type": "stream",
          "name": "stdout",
          "text": [
            "Epoch 1/10\n",
            "   6/1620 [..............................] - ETA: 2:54 - loss: 5.6913 - accuracy: 0.0039"
          ]
        },
        {
          "output_type": "stream",
          "name": "stderr",
          "text": [
            "WARNING:tensorflow:Callback method `on_train_batch_end` is slow compared to the batch time (batch time: 0.0397s vs `on_train_batch_end` time: 0.0624s). Check your callbacks.\n"
          ]
        },
        {
          "output_type": "stream",
          "name": "stdout",
          "text": [
            "1620/1620 [==============================] - ETA: 0s - loss: 2.2828 - accuracy: 0.5138"
          ]
        },
        {
          "output_type": "stream",
          "name": "stderr",
          "text": [
            "INFO:tensorflow:Assets written to: ./data/models/baseline_approach/source/category=IMAGE/dataset=Adiac/assets\n"
          ]
        },
        {
          "output_type": "stream",
          "name": "stdout",
          "text": [
            "\b\b\b\b\b\b\b\b\b\b\b\b\b\b\b\b\b\b\b\b\b\b\b\b\b\b\b\b\b\b\b\b\b\b\b\b\b\b\b\b\b\b\b\b\b\b\b\b\b\b\b\b\b\b\b\b\b\b\b\b\b\b\b\b\b\b\b\b\b\b\b\b\b\b\b\b\b\b\b\b\b\b\b\b\b\b\r1620/1620 [==============================] - 212s 129ms/step - loss: 2.2828 - accuracy: 0.5138 - val_loss: 1.5781 - val_accuracy: 0.5965\n",
            "Epoch 2/10\n",
            "1620/1620 [==============================] - ETA: 0s - loss: 0.8106 - accuracy: 0.7655"
          ]
        },
        {
          "output_type": "stream",
          "name": "stderr",
          "text": [
            "INFO:tensorflow:Assets written to: ./data/models/baseline_approach/source/category=IMAGE/dataset=Adiac/assets\n"
          ]
        },
        {
          "output_type": "stream",
          "name": "stdout",
          "text": [
            "\b\b\b\b\b\b\b\b\b\b\b\b\b\b\b\b\b\b\b\b\b\b\b\b\b\b\b\b\b\b\b\b\b\b\b\b\b\b\b\b\b\b\b\b\b\b\b\b\b\b\b\b\b\b\b\b\b\b\b\b\b\b\b\b\b\b\b\b\b\b\b\b\b\b\b\b\b\b\b\b\b\b\b\b\b\b\r1620/1620 [==============================] - 210s 129ms/step - loss: 0.8106 - accuracy: 0.7655 - val_loss: 1.3809 - val_accuracy: 0.6395\n",
            "Epoch 3/10\n",
            " 345/1620 [=====>........................] - ETA: 2:39 - loss: 0.6429 - accuracy: 0.8023"
          ]
        }
      ],
      "source": [
        "import experiments.baseline_category"
      ]
    }
  ],
  "metadata": {
    "accelerator": "GPU",
    "colab": {
      "provenance": []
    },
    "environment": {
      "kernel": "python3",
      "name": "tf2-gpu.2-8.m100",
      "type": "gcloud",
      "uri": "gcr.io/deeplearning-platform-release/tf2-gpu.2-8:m100"
    },
    "gpuClass": "standard",
    "kernelspec": {
      "display_name": "uni",
      "language": "python",
      "name": "uni"
    },
    "language_info": {
      "codemirror_mode": {
        "name": "ipython",
        "version": 3
      },
      "file_extension": ".py",
      "mimetype": "text/x-python",
      "name": "python",
      "nbconvert_exporter": "python",
      "pygments_lexer": "ipython3",
      "version": "3.8.13"
    }
  },
  "nbformat": 4,
  "nbformat_minor": 0
}