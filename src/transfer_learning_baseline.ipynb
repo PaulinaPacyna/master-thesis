{
 "cells": [
  {
   "cell_type": "code",
   "execution_count": null,
   "metadata": {
    "colab": {
     "base_uri": "https://localhost:8080/"
    },
    "id": "-TcDXfukt9nE",
    "outputId": "671f7c9b-de31-4f86-d371-7cb8dd58d663"
   },
   "outputs": [],
   "source": [
    "import os, sys\n",
    "\n",
    "if os.path.abspath(\".\") == \"/content\":  # google colab\n",
    "    from google.colab import drive\n",
    "\n",
    "    drive.mount(\"/content/drive\")\n",
    "\n",
    "    os.chdir(\"/content/drive/My Drive/master-thesis/src\")\n",
    "    %pip install sktime keras==2.9.0 tensorflow==2.9.1 keras-nlp==0.4.0 mlflow==2.1.1 tensorflow_addons==0.19.0 tslearn --quiet"
   ]
  },
  {
   "cell_type": "code",
   "execution_count": null,
   "metadata": {
    "colab": {
     "base_uri": "https://localhost:8080/"
    },
    "id": "TnaJrIrQt9nH",
    "outputId": "6ad518c2-0834-4f92-92b5-255930aff34b"
   },
   "outputs": [],
   "source": [
    "import experiments.transfer_learning.baseline_dba_selection_8"
   ]
  }
 ],
 "metadata": {
  "accelerator": "GPU",
  "colab": {
   "gpuType": "T4",
   "provenance": []
  },
  "environment": {
   "kernel": "python3",
   "name": "tf2-gpu.2-8.m100",
   "type": "gcloud",
   "uri": "gcr.io/deeplearning-platform-release/tf2-gpu.2-8:m100"
  },
  "gpuClass": "standard",
  "kernelspec": {
   "display_name": "uni",
   "language": "python",
   "name": "uni"
  },
  "language_info": {
   "codemirror_mode": {
    "name": "ipython",
    "version": 3
   },
   "file_extension": ".py",
   "mimetype": "text/x-python",
   "name": "python",
   "nbconvert_exporter": "python",
   "pygments_lexer": "ipython3",
   "version": "3.8.13"
  }
 },
 "nbformat": 4,
 "nbformat_minor": 1
}
