{
 "cells": [
  {
   "cell_type": "code",
   "execution_count": 1,
   "metadata": {
    "id": "61GyTOmlhnCj"
   },
   "outputs": [],
   "source": [
    "import sys, os\n",
    "sys.path.append(\"dl_tsc\")\n",
    "from dl_tsc.classifiers.fcn import Classifier_FCN\n",
    "from preprocessing import DataGenerator\n",
    "import numpy as np\n",
    "import sklearn\n",
    "from sklearn.model_selection import train_test_split"
   ]
  },
  {
   "cell_type": "code",
   "execution_count": 2,
   "metadata": {
    "id": "CiW2q4Tii_OB"
   },
   "outputs": [],
   "source": [
    "data_path = './data'\n",
    "X, y = np.load(f\"{data_path}/X.npy\", allow_pickle=True), np.load(f\"{data_path}//y.npy\")\n",
    "y_encoder = sklearn.preprocessing.OneHotEncoder(categories='auto')\n",
    "y = y_encoder.fit_transform(y.reshape(-1, 1)).toarray()"
   ]
  },
  {
   "cell_type": "code",
   "execution_count": 3,
   "metadata": {
    "id": "Q7cJtoLrlqdq"
   },
   "outputs": [],
   "source": [
    "number_of_classes = y.shape[1]\n",
    "output_directory=f'{data_path}/models/fcn/outputs'\n",
    "os.makedirs(output_directory, exist_ok=True)"
   ]
  },
  {
   "cell_type": "code",
   "execution_count": null,
   "metadata": {
    "colab": {
     "base_uri": "https://localhost:8080/"
    },
    "id": "XGR7tis8l10X",
    "outputId": "61023cf7-e5a6-480e-8c9a-90c65e41136a"
   },
   "outputs": [],
   "source": [
    "fcn = Classifier_FCN(output_directory=output_directory,\n",
    "                   input_shape=(None, 1),\n",
    "                  nb_classes=number_of_classes, \n",
    "                     verbose=True)"
   ]
  },
  {
   "cell_type": "code",
   "execution_count": 5,
   "metadata": {
    "id": "uG9EUD_ZmF2S"
   },
   "outputs": [],
   "source": [
    "X_train, X_val, y_train, y_val = train_test_split(X[[not np.isnan(x).any() for x in X]], \n",
    "                                                  y[[not np.isnan(x).any() for x in X]], test_size=0.01)"
   ]
  },
  {
   "cell_type": "code",
   "execution_count": 6,
   "metadata": {
    "id": "nO3nt3xTmXcv"
   },
   "outputs": [],
   "source": [
    "data_generator = DataGenerator(X_train, y_train)"
   ]
  },
  {
   "cell_type": "code",
   "execution_count": null,
   "metadata": {
    "colab": {
     "base_uri": "https://localhost:8080/",
     "height": 487
    },
    "id": "6czMUmfDmMkL",
    "outputId": "96440ebd-7715-455d-ad4c-741de27ea5b5"
   },
   "outputs": [],
   "source": [
    "hist = fcn.model.fit(data_generator)"
   ]
  },
  {
   "cell_type": "code",
   "execution_count": null,
   "metadata": {
    "id": "lMWo5qMkmRu6"
   },
   "outputs": [],
   "source": []
  }
 ],
 "metadata": {
  "accelerator": "GPU",
  "colab": {
   "authorship_tag": "ABX9TyOrHJZU4U+gCTLkVeidFSBQ",
   "include_colab_link": true,
   "mount_file_id": "1v9_e2FfKNUJ3QhzXBLbRFtVs2gx3kfOR",
   "provenance": []
  },
  "environment": {
   "kernel": "python3",
   "name": "tf2-gpu.2-8.m100",
   "type": "gcloud",
   "uri": "gcr.io/deeplearning-platform-release/tf2-gpu.2-8:m100"
  },
  "gpuClass": "standard",
  "kernelspec": {
   "display_name": "Python 3",
   "language": "python",
   "name": "python3"
  },
  "language_info": {
   "codemirror_mode": {
    "name": "ipython",
    "version": 3
   },
   "file_extension": ".py",
   "mimetype": "text/x-python",
   "name": "python",
   "nbconvert_exporter": "python",
   "pygments_lexer": "ipython3",
   "version": "3.7.12"
  }
 },
 "nbformat": 4,
 "nbformat_minor": 4
}
