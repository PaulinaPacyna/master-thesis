{
 "cells": [
  {
   "cell_type": "code",
   "execution_count": 1,
   "metadata": {
    "id": "61GyTOmlhnCj"
   },
   "outputs": [],
   "source": [
    "import sys, os\n",
    "from models import FCN_model\n",
    "from preprocessing import ConstantLengthDataGenerator\n",
    "import numpy as np\n",
    "import tensorflow.keras as keras\n",
    "import matplotlib.pyplot as plt\n",
    "import sklearn\n",
    "from sklearn.model_selection import train_test_split\n",
    "import mlflow\n",
    "\n",
    "mlflow.set_experiment(\"FCN\")\n",
    "mlflow.tensorflow.autolog()"
   ]
  },
  {
   "cell_type": "code",
   "execution_count": 2,
   "metadata": {
    "id": "CiW2q4Tii_OB"
   },
   "outputs": [
    {
     "data": {
      "text/plain": [
       "((60555, 1), (60555,))"
      ]
     },
     "execution_count": 2,
     "metadata": {},
     "output_type": "execute_result"
    }
   ],
   "source": [
    "data_path = \"./data\"\n",
    "X, y = np.load(f\"{data_path}/X.npy\", allow_pickle=True), np.load(f\"{data_path}/y.npy\")\n",
    "y.shape, X.shape"
   ]
  },
  {
   "cell_type": "code",
   "execution_count": 3,
   "metadata": {
    "id": "CiW2q4Tii_OB",
    "scrolled": true
   },
   "outputs": [
    {
     "data": {
      "text/plain": [
       "array(['GunPointAgeSpan_1', 'GunPointAgeSpan_2',\n",
       "       'GunPointMaleVersusFemale_1', 'GunPointMaleVersusFemale_2',\n",
       "       'GunPointOldVersusYoung_1', 'GunPointOldVersusYoung_2',\n",
       "       'GunPoint_1', 'GunPoint_2'], dtype='<U42')"
      ]
     },
     "execution_count": 3,
     "metadata": {},
     "output_type": "execute_result"
    }
   ],
   "source": [
    "mask = np.char.startswith(y, \"GunPoint\").reshape(-1)\n",
    "y = y[mask, :]\n",
    "X = X[mask]\n",
    "mlflow.log_param(\"y.unique\", np.unique(y))"
   ]
  },
  {
   "cell_type": "code",
   "execution_count": 4,
   "metadata": {
    "id": "CiW2q4Tii_OB"
   },
   "outputs": [
    {
     "data": {
      "text/plain": [
       "((456, 8), (456,))"
      ]
     },
     "execution_count": 4,
     "metadata": {},
     "output_type": "execute_result"
    }
   ],
   "source": [
    "y_encoder = sklearn.preprocessing.OneHotEncoder(categories=\"auto\")\n",
    "y = y_encoder.fit_transform(y.reshape(-1, 1)).toarray()\n",
    "mlflow.log_param(\"y.shape\", y.shape)\n",
    "y.shape, X.shape"
   ]
  },
  {
   "cell_type": "code",
   "execution_count": 5,
   "metadata": {
    "id": "Q7cJtoLrlqdq"
   },
   "outputs": [],
   "source": [
    "number_of_classes = y.shape[1]\n",
    "initial_learning_rate = 1e-4\n",
    "output_directory = f\"{data_path}/models/fcn/outputs\"\n",
    "batch_size = 128\n",
    "os.makedirs(output_directory, exist_ok=True)"
   ]
  },
  {
   "cell_type": "code",
   "execution_count": 6,
   "metadata": {},
   "outputs": [],
   "source": [
    "input_layer = keras.layers.Input(shape=(None, 1))\n",
    "fcn_model = FCN_model(number_of_classes=number_of_classes)(input_layer)\n",
    "model = keras.models.Model(inputs=input_layer, outputs=fcn_model)\n",
    "\n",
    "lr_schedule = keras.optimizers.schedules.ExponentialDecay(\n",
    "    initial_learning_rate=initial_learning_rate, decay_steps=3, decay_rate=1\n",
    ")\n",
    "model.compile(\n",
    "    loss=\"categorical_crossentropy\",\n",
    "    optimizer=keras.optimizers.Adam(lr_schedule),\n",
    "    metrics=[\"accuracy\"],\n",
    "    #     run_eagerly=True,\n",
    ")"
   ]
  },
  {
   "cell_type": "code",
   "execution_count": 7,
   "metadata": {},
   "outputs": [
    {
     "name": "stdout",
     "output_type": "stream",
     "text": [
      "Model: \"model\"\n",
      "_________________________________________________________________\n",
      " Layer (type)                Output Shape              Param #   \n",
      "=================================================================\n",
      " input_1 (InputLayer)        [(None, None, 1)]         0         \n",
      "                                                                 \n",
      " conv1d (Conv1D)             (None, None, 128)         1536      \n",
      "                                                                 \n",
      " batch_normalization (BatchN  (None, None, 128)        512       \n",
      " ormalization)                                                   \n",
      "                                                                 \n",
      " activation (Activation)     (None, None, 128)         0         \n",
      "                                                                 \n",
      " conv1d_1 (Conv1D)           (None, None, 256)         164096    \n",
      "                                                                 \n",
      " batch_normalization_1 (Batc  (None, None, 256)        1024      \n",
      " hNormalization)                                                 \n",
      "                                                                 \n",
      " activation_1 (Activation)   (None, None, 256)         0         \n",
      "                                                                 \n",
      " conv1d_2 (Conv1D)           (None, None, 128)         98432     \n",
      "                                                                 \n",
      " batch_normalization_2 (Batc  (None, None, 128)        512       \n",
      " hNormalization)                                                 \n",
      "                                                                 \n",
      " activation_2 (Activation)   (None, None, 128)         0         \n",
      "                                                                 \n",
      " global_average_pooling1d (G  (None, 128)              0         \n",
      " lobalAveragePooling1D)                                          \n",
      "                                                                 \n",
      " dense (Dense)               (None, 8)                 1032      \n",
      "                                                                 \n",
      "=================================================================\n",
      "Total params: 267,144\n",
      "Trainable params: 266,120\n",
      "Non-trainable params: 1,024\n",
      "_________________________________________________________________\n"
     ]
    }
   ],
   "source": [
    "model.summary()"
   ]
  },
  {
   "cell_type": "code",
   "execution_count": 8,
   "metadata": {
    "id": "uG9EUD_ZmF2S"
   },
   "outputs": [],
   "source": [
    "X_train, X_val, y_train, y_val = train_test_split(X, y, test_size=0.25)"
   ]
  },
  {
   "cell_type": "code",
   "execution_count": 9,
   "metadata": {
    "id": "nO3nt3xTmXcv"
   },
   "outputs": [],
   "source": [
    "kwargs = {\"min_length\": 256, \"max_length\": 256, \"logging_call\": mlflow.log_params}\n",
    "data_generator_train = ConstantLengthDataGenerator(\n",
    "    X_train, y_train, batch_size=batch_size, **kwargs\n",
    ")\n",
    "data_generator_val = ConstantLengthDataGenerator(\n",
    "    X_val, y_val, batch_size=len(y_val), **kwargs\n",
    ")"
   ]
  },
  {
   "cell_type": "code",
   "execution_count": 10,
   "metadata": {},
   "outputs": [
    {
     "data": {
      "text/plain": [
       "(array([[-1.166 , -1.165 , -1.166 , ...,  0.    ,  0.    ,  0.    ],\n",
       "        [-1.046 , -1.032 , -1.003 , ...,  0.    ,  0.    ,  0.    ],\n",
       "        [-0.701 , -0.7007, -0.701 , ...,  0.    ,  0.    ,  0.    ],\n",
       "        ...,\n",
       "        [-1.019 , -1.025 , -1.027 , ...,  0.    ,  0.    ,  0.    ],\n",
       "        [-0.5796, -0.5845, -0.5913, ..., -0.6284, -0.629 , -0.6294],\n",
       "        [-0.6714, -0.6714, -0.671 , ..., -0.554 , -0.5557, -0.5566]],\n",
       "       dtype=float16),\n",
       " array([[0., 0., 0., ..., 0., 1., 0.],\n",
       "        [0., 0., 0., ..., 0., 0., 0.],\n",
       "        [0., 0., 1., ..., 0., 0., 0.],\n",
       "        ...,\n",
       "        [0., 0., 0., ..., 0., 0., 0.],\n",
       "        [0., 0., 0., ..., 0., 0., 0.],\n",
       "        [0., 0., 1., ..., 0., 0., 0.]]))"
      ]
     },
     "execution_count": 10,
     "metadata": {},
     "output_type": "execute_result"
    }
   ],
   "source": [
    "next(data_generator_train)"
   ]
  },
  {
   "cell_type": "code",
   "execution_count": null,
   "metadata": {
    "colab": {
     "base_uri": "https://localhost:8080/",
     "height": 487
    },
    "id": "6czMUmfDmMkL",
    "outputId": "96440ebd-7715-455d-ad4c-741de27ea5b5",
    "scrolled": false,
    "tags": []
   },
   "outputs": [
    {
     "name": "stdout",
     "output_type": "stream",
     "text": [
      "Epoch 1/60\n",
      "20/20 [==============================] - 18s 812ms/step - loss: 2.0889 - accuracy: 0.1609 - val_loss: 2.0809 - val_accuracy: 0.1228\n",
      "Epoch 2/60\n",
      "20/20 [==============================] - 16s 797ms/step - loss: 1.9995 - accuracy: 0.2129 - val_loss: 2.0923 - val_accuracy: 0.0965\n",
      "Epoch 3/60\n",
      "20/20 [==============================] - 15s 761ms/step - loss: 1.9624 - accuracy: 0.2574 - val_loss: 2.1076 - val_accuracy: 0.0965\n",
      "Epoch 4/60\n",
      "20/20 [==============================] - 15s 754ms/step - loss: 1.9667 - accuracy: 0.2480 - val_loss: 2.1216 - val_accuracy: 0.0965\n",
      "Epoch 5/60\n",
      "20/20 [==============================] - 15s 762ms/step - loss: 1.9331 - accuracy: 0.2812 - val_loss: 2.1336 - val_accuracy: 0.0965\n",
      "Epoch 6/60\n",
      "20/20 [==============================] - 16s 782ms/step - loss: 1.9112 - accuracy: 0.2937 - val_loss: 2.1451 - val_accuracy: 0.0965\n",
      "Epoch 7/60\n",
      "20/20 [==============================] - 16s 770ms/step - loss: 1.8826 - accuracy: 0.2742 - val_loss: 2.1577 - val_accuracy: 0.0965\n",
      "Epoch 8/60\n",
      "20/20 [==============================] - 15s 760ms/step - loss: 1.8835 - accuracy: 0.3008 - val_loss: 2.1843 - val_accuracy: 0.0965\n",
      "Epoch 9/60\n",
      "20/20 [==============================] - 16s 801ms/step - loss: 1.8559 - accuracy: 0.3055 - val_loss: 2.1904 - val_accuracy: 0.0965\n",
      "Epoch 10/60\n",
      "20/20 [==============================] - 17s 829ms/step - loss: 1.8527 - accuracy: 0.2957 - val_loss: 2.1880 - val_accuracy: 0.0965\n",
      "Epoch 11/60\n",
      "20/20 [==============================] - 16s 788ms/step - loss: 1.8266 - accuracy: 0.3117 - val_loss: 2.1973 - val_accuracy: 0.0965\n",
      "Epoch 12/60\n",
      "20/20 [==============================] - 16s 812ms/step - loss: 1.8262 - accuracy: 0.3094 - val_loss: 2.1892 - val_accuracy: 0.0965\n",
      "Epoch 13/60\n",
      "20/20 [==============================] - 16s 780ms/step - loss: 1.8053 - accuracy: 0.3301 - val_loss: 2.1731 - val_accuracy: 0.0965\n",
      "Epoch 14/60\n",
      "20/20 [==============================] - 15s 771ms/step - loss: 1.7858 - accuracy: 0.3324 - val_loss: 2.1736 - val_accuracy: 0.0965\n",
      "Epoch 15/60\n",
      "20/20 [==============================] - 15s 768ms/step - loss: 1.7846 - accuracy: 0.3297 - val_loss: 2.1778 - val_accuracy: 0.0965\n",
      "Epoch 16/60\n",
      "20/20 [==============================] - 15s 760ms/step - loss: 1.7914 - accuracy: 0.3203 - val_loss: 2.1640 - val_accuracy: 0.0965\n",
      "Epoch 17/60\n",
      "20/20 [==============================] - 15s 747ms/step - loss: 1.8012 - accuracy: 0.3137 - val_loss: 2.1567 - val_accuracy: 0.0965\n",
      "Epoch 18/60\n",
      "20/20 [==============================] - 15s 758ms/step - loss: 1.7790 - accuracy: 0.3191 - val_loss: 2.1519 - val_accuracy: 0.1228\n",
      "Epoch 19/60\n",
      "20/20 [==============================] - 16s 776ms/step - loss: 1.7723 - accuracy: 0.3156 - val_loss: 2.1300 - val_accuracy: 0.1754\n",
      "Epoch 20/60\n",
      "20/20 [==============================] - 15s 768ms/step - loss: 1.7338 - accuracy: 0.3309 - val_loss: 2.1067 - val_accuracy: 0.1842\n",
      "Epoch 21/60\n",
      "20/20 [==============================] - 15s 766ms/step - loss: 1.7252 - accuracy: 0.3406 - val_loss: 2.0586 - val_accuracy: 0.2368\n",
      "Epoch 22/60\n",
      "20/20 [==============================] - 16s 795ms/step - loss: 1.7283 - accuracy: 0.3246 - val_loss: 2.0529 - val_accuracy: 0.1667\n",
      "Epoch 23/60\n",
      "20/20 [==============================] - 17s 860ms/step - loss: 1.7261 - accuracy: 0.3199 - val_loss: 2.0921 - val_accuracy: 0.1667\n",
      "Epoch 24/60\n",
      "20/20 [==============================] - 18s 878ms/step - loss: 1.7424 - accuracy: 0.3086 - val_loss: 1.9959 - val_accuracy: 0.1930\n",
      "Epoch 25/60\n",
      "20/20 [==============================] - 21s 1s/step - loss: 1.7220 - accuracy: 0.3133 - val_loss: 1.9631 - val_accuracy: 0.1491\n",
      "Epoch 26/60\n",
      "20/20 [==============================] - 17s 827ms/step - loss: 1.7177 - accuracy: 0.3297 - val_loss: 1.9459 - val_accuracy: 0.1491\n",
      "Epoch 27/60\n",
      "20/20 [==============================] - 18s 885ms/step - loss: 1.7117 - accuracy: 0.3426 - val_loss: 1.9324 - val_accuracy: 0.1404\n",
      "Epoch 28/60\n",
      "20/20 [==============================] - 17s 840ms/step - loss: 1.7054 - accuracy: 0.3379 - val_loss: 1.9583 - val_accuracy: 0.1667\n",
      "Epoch 29/60\n",
      " 6/20 [========>.....................] - ETA: 11s - loss: 1.6605 - accuracy: 0.3711"
     ]
    }
   ],
   "source": [
    "history = model.fit(\n",
    "    data_generator_train, epochs=60, validation_data=next(data_generator_val)\n",
    ")"
   ]
  },
  {
   "cell_type": "code",
   "execution_count": null,
   "metadata": {},
   "outputs": [],
   "source": [
    "figure = plt.figure()\n",
    "plt.plot(history.history[\"accuracy\"])\n",
    "plt.plot(history.history[\"val_accuracy\"])\n",
    "plt.title(\"model accuracy\")\n",
    "plt.ylabel(\"accuracy\")\n",
    "plt.xlabel(\"epoch\")\n",
    "plt.legend([\"train\", \"validation\"], loc=\"upper left\")\n",
    "figure"
   ]
  },
  {
   "cell_type": "code",
   "execution_count": null,
   "metadata": {},
   "outputs": [],
   "source": [
    "mlflow.log_figure(figure, \"data/figures/acc.png\")"
   ]
  },
  {
   "cell_type": "code",
   "execution_count": null,
   "metadata": {},
   "outputs": [],
   "source": [
    "figure = plt.figure()\n",
    "plt.plot(history.history[\"loss\"])\n",
    "plt.plot(history.history[\"val_loss\"])\n",
    "plt.title(\"model loss\")\n",
    "plt.ylabel(\"loss\")\n",
    "plt.xlabel(\"epoch\")\n",
    "plt.legend([\"train\", \"validation\"], loc=\"upper left\")\n",
    "figure"
   ]
  },
  {
   "cell_type": "code",
   "execution_count": null,
   "metadata": {},
   "outputs": [],
   "source": [
    "mlflow.log_figure(figure, \"data/figures/loss.png\")"
   ]
  },
  {
   "cell_type": "code",
   "execution_count": null,
   "metadata": {},
   "outputs": [],
   "source": [
    "mlflow.log_artifact(\"models\")\n",
    "mlflow.log_artifact(\"preprocessing\")"
   ]
  },
  {
   "cell_type": "code",
   "execution_count": null,
   "metadata": {},
   "outputs": [],
   "source": [
    "mlflow.end_run()"
   ]
  },
  {
   "cell_type": "code",
   "execution_count": null,
   "metadata": {},
   "outputs": [],
   "source": []
  }
 ],
 "metadata": {
  "accelerator": "GPU",
  "colab": {
   "authorship_tag": "ABX9TyOrHJZU4U+gCTLkVeidFSBQ",
   "include_colab_link": true,
   "mount_file_id": "1v9_e2FfKNUJ3QhzXBLbRFtVs2gx3kfOR",
   "provenance": []
  },
  "environment": {
   "kernel": "python3",
   "name": "tf2-gpu.2-8.m100",
   "type": "gcloud",
   "uri": "gcr.io/deeplearning-platform-release/tf2-gpu.2-8:m100"
  },
  "gpuClass": "standard",
  "kernelspec": {
   "display_name": "uni",
   "language": "python",
   "name": "uni"
  },
  "language_info": {
   "codemirror_mode": {
    "name": "ipython",
    "version": 3
   },
   "file_extension": ".py",
   "mimetype": "text/x-python",
   "name": "python",
   "nbconvert_exporter": "python",
   "pygments_lexer": "ipython3",
   "version": "3.8.13"
  }
 },
 "nbformat": 4,
 "nbformat_minor": 4
}
