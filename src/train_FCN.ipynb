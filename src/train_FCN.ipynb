{
 "cells": [
  {
   "cell_type": "code",
   "execution_count": 1,
   "id": "91b94ca6",
   "metadata": {},
   "outputs": [],
   "source": [
    "import sys, os\n",
    "sys.path.append(os.path.abspath(\"dl_tsc\")) \n",
    "from dl_tsc.classifiers.fcn import Classifier_FCN\n",
    "import numpy as np\n",
    "from preprocessing import DataGenerator\n",
    "import sklearn\n",
    "from sklearn.model_selection import train_test_split"
   ]
  },
  {
   "cell_type": "code",
   "execution_count": 2,
   "id": "4b781835",
   "metadata": {},
   "outputs": [],
   "source": [
    "X, y = np.load(\"data/concatenated/X.npy\", allow_pickle=True), np.load(\"data/concatenated/y.npy\")"
   ]
  },
  {
   "cell_type": "code",
   "execution_count": 3,
   "id": "04d64b51",
   "metadata": {},
   "outputs": [],
   "source": [
    "number_of_classes = len(np.unique(y))\n",
    "output_directory='models/fcn/outputs'\n",
    "os.makedirs(output_directory, exist_ok=True)"
   ]
  },
  {
   "cell_type": "code",
   "execution_count": 4,
   "id": "4f6b9e3e",
   "metadata": {
    "scrolled": true
   },
   "outputs": [
    {
     "name": "stdout",
     "output_type": "stream",
     "text": [
      "Model: \"model\"\n",
      "_________________________________________________________________\n",
      " Layer (type)                Output Shape              Param #   \n",
      "=================================================================\n",
      " input_1 (InputLayer)        [(None, None, 1)]         0         \n",
      "                                                                 \n",
      " conv1d (Conv1D)             (None, None, 128)         1152      \n",
      "                                                                 \n",
      " batch_normalization (BatchN  (None, None, 128)        512       \n",
      " ormalization)                                                   \n",
      "                                                                 \n",
      " activation (Activation)     (None, None, 128)         0         \n",
      "                                                                 \n",
      " conv1d_1 (Conv1D)           (None, None, 256)         164096    \n",
      "                                                                 \n",
      " batch_normalization_1 (Batc  (None, None, 256)        1024      \n",
      " hNormalization)                                                 \n",
      "                                                                 \n",
      " activation_1 (Activation)   (None, None, 256)         0         \n",
      "                                                                 \n",
      " conv1d_2 (Conv1D)           (None, None, 128)         98432     \n",
      "                                                                 \n",
      " batch_normalization_2 (Batc  (None, None, 128)        512       \n",
      " hNormalization)                                                 \n",
      "                                                                 \n",
      " activation_2 (Activation)   (None, None, 128)         0         \n",
      "                                                                 \n",
      " global_average_pooling1d (G  (None, 128)              0         \n",
      " lobalAveragePooling1D)                                          \n",
      "                                                                 \n",
      " dense (Dense)               (None, 1118)              144222    \n",
      "                                                                 \n",
      "=================================================================\n",
      "Total params: 409,950\n",
      "Trainable params: 408,926\n",
      "Non-trainable params: 1,024\n",
      "_________________________________________________________________\n"
     ]
    }
   ],
   "source": [
    "fcn = Classifier_FCN(output_directory=output_directory,\n",
    "                   input_shape=(None, 1),\n",
    "                  nb_classes=number_of_classes, \n",
    "                     verbose=True)"
   ]
  },
  {
   "cell_type": "code",
   "execution_count": 7,
   "id": "827db9ab",
   "metadata": {},
   "outputs": [],
   "source": [
    "X_train, X_val, y_train, y_val = train_test_split(X[[not np.isnan(x).any() for x in X]], \n",
    "                                                  y[[not np.isnan(x).any() for x in X]], test_size=0.01)"
   ]
  },
  {
   "cell_type": "code",
   "execution_count": 8,
   "id": "61aed557",
   "metadata": {
    "scrolled": false
   },
   "outputs": [
    {
     "data": {
      "text/plain": [
       "(array([[ 3.08000e-01,  3.08000e-01,  1.92000e-01, ...,  6.54000e-01,\n",
       "          6.54000e-01,  6.92000e-01],\n",
       "        [ 3.70000e-02, -3.70000e-02, -7.40000e-02, ..., -4.07000e-01,\n",
       "         -4.07000e-01, -3.70000e-01],\n",
       "        [ 3.80000e-02,  1.54000e-01,  1.54000e-01, ..., -1.30800e+00,\n",
       "         -1.19200e+00, -1.07700e+00],\n",
       "        ...,\n",
       "        [-6.93940e+01, -6.93710e+01, -6.93009e+01, ...,  4.79756e+01,\n",
       "          5.07696e+01,  5.32900e+01],\n",
       "        [ 2.22000e-01,  1.85000e-01,  2.22000e-01, ...,  8.52000e-01,\n",
       "          7.41000e-01,  6.30000e-01],\n",
       "        [ 2.62135e+02,  2.62267e+02,  2.62753e+02, ...,  4.16051e+01,\n",
       "          3.92592e+01,  3.73463e+01]]),\n",
       " array([[0., 0., 0., ..., 0., 0., 0.],\n",
       "        [0., 0., 0., ..., 0., 0., 0.],\n",
       "        [0., 0., 0., ..., 0., 0., 0.],\n",
       "        ...,\n",
       "        [0., 0., 0., ..., 0., 0., 0.],\n",
       "        [0., 0., 0., ..., 0., 0., 0.],\n",
       "        [0., 0., 0., ..., 0., 0., 0.]]))"
      ]
     },
     "execution_count": 8,
     "metadata": {},
     "output_type": "execute_result"
    }
   ],
   "source": [
    "data_generator = DataGenerator(X_train, y_train)\n",
    "data_generator[0]"
   ]
  },
  {
   "cell_type": "code",
   "execution_count": null,
   "id": "128e5856",
   "metadata": {
    "scrolled": true
   },
   "outputs": [
    {
     "name": "stderr",
     "output_type": "stream",
     "text": [
      "C:\\Users\\pacyn\\AppData\\Local\\Temp\\ipykernel_20336\\2491985383.py:1: UserWarning: `Model.fit_generator` is deprecated and will be removed in a future version. Please use `Model.fit`, which supports generators.\n",
      "  hist = fcn.model.fit_generator(data_generator)\n"
     ]
    },
    {
     "name": "stdout",
     "output_type": "stream",
     "text": [
      "282/374 [=====================>........] - ETA: 4:30 - loss: 8.4968 - accuracy: 0.0011"
     ]
    }
   ],
   "source": [
    "hist = fcn.model.fit_generator(data_generator)"
   ]
  },
  {
   "cell_type": "code",
   "execution_count": null,
   "id": "3953fca3",
   "metadata": {},
   "outputs": [],
   "source": [
    "out = fcn.model.predict_generator(DataGenerator(X_val, y_val))"
   ]
  },
  {
   "cell_type": "code",
   "execution_count": null,
   "id": "be123403",
   "metadata": {},
   "outputs": [],
   "source": []
  }
 ],
 "metadata": {
  "kernelspec": {
   "display_name": "uni",
   "language": "python",
   "name": "uni"
  },
  "language_info": {
   "codemirror_mode": {
    "name": "ipython",
    "version": 3
   },
   "file_extension": ".py",
   "mimetype": "text/x-python",
   "name": "python",
   "nbconvert_exporter": "python",
   "pygments_lexer": "ipython3",
   "version": "3.8.13"
  }
 },
 "nbformat": 4,
 "nbformat_minor": 5
}
