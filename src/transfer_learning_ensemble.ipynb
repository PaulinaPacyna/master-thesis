{
  "cells": [
    {
      "cell_type": "code",
      "execution_count": 1,
      "metadata": {
        "colab": {
          "base_uri": "https://localhost:8080/"
        },
        "id": "-TcDXfukt9nE",
        "outputId": "0166319b-4420-4c64-ce8b-7779c2c1b2da"
      },
      "outputs": [
        {
          "output_type": "stream",
          "name": "stdout",
          "text": [
            "Drive already mounted at /content/drive; to attempt to forcibly remount, call drive.mount(\"/content/drive\", force_remount=True).\n"
          ]
        }
      ],
      "source": [
        "import os, sys\n",
        "\n",
        "if os.path.abspath(\".\") == \"/content\":  # google colab\n",
        "    from google.colab import drive\n",
        "\n",
        "    drive.mount(\"/content/drive\")\n",
        "\n",
        "    os.chdir(\"/content/drive/My Drive/master-thesis/src\")\n",
        "    %pip install sktime keras==2.8.0 tensorflow==2.8.2 keras-nlp==0.4.0 mlflow GitPython tensorflow_addons==0.17.1 databricks-cli  --quiet"
      ]
    },
    {
      "cell_type": "code",
      "execution_count": 2,
      "metadata": {
        "id": "TnaJrIrQt9nH"
      },
      "outputs": [],
      "source": [
        "from experiments import train_plain_model, train_ensemble_model\n",
        "from mlflow_logging import MlFlowLogging\n",
        "from reading import ConcatenatedDataset\n",
        "import mlflow"
      ]
    },
    {
      "cell_type": "code",
      "source": [
        "mlflow.set_experiment(\"Transfer learning - same category, ensemble - 1 encoder\")\n",
        "mlflow.tensorflow.autolog(log_models=False)\n",
        "mlflow_logging = MlFlowLogging()\n",
        "category = \"IMAGE\"\n",
        "component_experiment_id = \"103427775450294357\"\n",
        "for target_dataset in ConcatenatedDataset().return_datasets_for_category(category):\n",
        "    with mlflow.start_run(run_name=f\"Parent run - {target_dataset}\"):\n",
        "        ensemble_training_results = train_ensemble_model(\n",
        "            category=category,\n",
        "            target_dataset=target_dataset,\n",
        "            component_experiment_id=component_experiment_id,\n",
        "        )\n",
        "        plain_training_results = train_plain_model(\n",
        "            ensemble_training_results[\"model\"], target_dataset=target_dataset\n",
        "        )\n",
        "        history = {\n",
        "            **ensemble_training_results[\"history\"],\n",
        "            **plain_training_results[\"history\"],\n",
        "        }\n",
        "        mlflow_logging.log_history(history)"
      ],
      "metadata": {
        "id": "sLZ2Cgd9YP3V",
        "colab": {
          "base_uri": "https://localhost:8080/"
        },
        "outputId": "1ce8fb65-39d3-475e-9a8b-c4627521b78f"
      },
      "execution_count": null,
      "outputs": [
        {
          "metadata": {
            "tags": null
          },
          "name": "stderr",
          "output_type": "stream",
          "text": [
            "INFO:root:Loading only one dataset: Adiac\n",
            "INFO:root:Loading only one dataset: Adiac\n",
            "WARNING:root:The given value for groups will be overwritten.\n",
            "WARNING:root:The given value for groups will be overwritten.\n",
            "WARNING:root:The given value for groups will be overwritten.\n",
            "WARNING:root:The given value for groups will be overwritten.\n",
            "WARNING:root:The given value for groups will be overwritten.\n",
            "WARNING:root:The given value for groups will be overwritten.\n",
            "WARNING:root:The given value for groups will be overwritten.\n",
            "WARNING:root:The given value for groups will be overwritten.\n",
            "WARNING:root:The given value for groups will be overwritten.\n",
            "WARNING:root:The given value for groups will be overwritten.\n",
            "WARNING:root:The given value for groups will be overwritten.\n",
            "WARNING:root:The given value for groups will be overwritten.\n",
            "WARNING:root:The given value for groups will be overwritten.\n",
            "WARNING:root:The given value for groups will be overwritten.\n",
            "WARNING:root:The given value for groups will be overwritten.\n",
            "WARNING:root:The given value for groups will be overwritten.\n",
            "WARNING:root:The given value for groups will be overwritten.\n",
            "WARNING:root:The given value for groups will be overwritten.\n",
            "WARNING:root:The given value for groups will be overwritten.\n",
            "WARNING:root:The given value for groups will be overwritten.\n",
            "WARNING:root:Param value '[0.0018018  0.0018018  0.00142248 0.0018018  0.0018018  0.0018018\n",
            " 0.00142248 0.0018018  0.0018018  0.00142248 0.0018018  0.00142248\n",
            " 0.00168919 0.00168919 0.00142248 0.00158983 0.0018018  0.0018018\n",
            " 0.00168919 0.00142248 0.0018018  0.0018018  0.0018' had length 6462, which exceeded length limit of 500\n",
            "WARNING:root:Param value '[0.00540541 0.00540541 0.003861   0.00540541 0.0045045  0.00540541\n",
            " 0.0045045  0.00540541 0.00540541 0.00540541 0.00540541 0.0045045\n",
            " 0.00540541 0.00540541 0.00540541 0.00540541 0.00540541 0.0045045\n",
            " 0.00540541 0.003861   0.00540541 0.0045045  0.0054' had length 2174, which exceeded length limit of 500\n"
          ]
        },
        {
          "metadata": {
            "tags": null
          },
          "name": "stdout",
          "output_type": "stream",
          "text": [
            "Epoch 1/10\n",
            "  6/190 [..............................] - ETA: 18s - loss: 3.6171 - accuracy: 0.0365"
          ]
        },
        {
          "metadata": {
            "tags": null
          },
          "name": "stderr",
          "output_type": "stream",
          "text": [
            "WARNING:tensorflow:Callback method `on_train_batch_end` is slow compared to the batch time (batch time: 0.0399s vs `on_train_batch_end` time: 0.0917s). Check your callbacks.\n"
          ]
        },
        {
          "metadata": {
            "tags": null
          },
          "name": "stdout",
          "output_type": "stream",
          "text": [
            "190/190 [==============================] - 33s 112ms/step - loss: 3.3746 - accuracy: 0.1576 - val_loss: 3.2436 - val_accuracy: 0.2245\n",
            "Epoch 2/10\n",
            "190/190 [==============================] - 20s 105ms/step - loss: 2.7748 - accuracy: 0.3293 - val_loss: 2.7026 - val_accuracy: 0.3214\n",
            "Epoch 3/10\n",
            "190/190 [==============================] - 21s 110ms/step - loss: 2.2593 - accuracy: 0.4613 - val_loss: 2.3224 - val_accuracy: 0.3520\n",
            "Epoch 4/10\n",
            "190/190 [==============================] - 21s 110ms/step - loss: 1.9583 - accuracy: 0.5355 - val_loss: 2.0674 - val_accuracy: 0.4796\n",
            "Epoch 5/10\n",
            "190/190 [==============================] - 21s 110ms/step - loss: 1.7453 - accuracy: 0.5857 - val_loss: 1.9143 - val_accuracy: 0.4592\n",
            "Epoch 6/10\n",
            "190/190 [==============================] - 21s 111ms/step - loss: 1.6065 - accuracy: 0.6270 - val_loss: 1.7983 - val_accuracy: 0.5153\n",
            "Epoch 7/10\n",
            "190/190 [==============================] - 22s 112ms/step - loss: 1.4957 - accuracy: 0.6530 - val_loss: 1.7229 - val_accuracy: 0.5408\n",
            "Epoch 8/10\n",
            "190/190 [==============================] - 22s 113ms/step - loss: 1.4060 - accuracy: 0.6684 - val_loss: 1.6369 - val_accuracy: 0.5306\n",
            "Epoch 9/10\n",
            "190/190 [==============================] - 21s 112ms/step - loss: 1.3404 - accuracy: 0.6806 - val_loss: 1.5946 - val_accuracy: 0.5408\n",
            "Epoch 10/10\n",
            "190/190 [==============================] - 22s 113ms/step - loss: 1.2758 - accuracy: 0.6933 - val_loss: 1.5602 - val_accuracy: 0.5459\n"
          ]
        },
        {
          "metadata": {
            "tags": null
          },
          "name": "stderr",
          "output_type": "stream",
          "text": [
            "INFO:root:Loading only one dataset: Adiac\n",
            "INFO:root:Loading only one dataset: Adiac\n",
            "WARNING:root:The given value for groups will be overwritten.\n",
            "WARNING:root:The given value for groups will be overwritten.\n",
            "WARNING:root:The given value for groups will be overwritten.\n",
            "WARNING:root:The given value for groups will be overwritten.\n",
            "WARNING:root:The given value for groups will be overwritten.\n",
            "WARNING:root:The given value for groups will be overwritten.\n",
            "WARNING:root:The given value for groups will be overwritten.\n",
            "WARNING:root:The given value for groups will be overwritten.\n",
            "WARNING:root:The given value for groups will be overwritten.\n",
            "WARNING:root:The given value for groups will be overwritten.\n",
            "WARNING:root:The given value for groups will be overwritten.\n",
            "WARNING:root:The given value for groups will be overwritten.\n",
            "WARNING:root:The given value for groups will be overwritten.\n",
            "WARNING:root:The given value for groups will be overwritten.\n",
            "WARNING:root:The given value for groups will be overwritten.\n",
            "WARNING:root:The given value for groups will be overwritten.\n",
            "WARNING:root:The given value for groups will be overwritten.\n",
            "WARNING:root:The given value for groups will be overwritten.\n",
            "WARNING:root:The given value for groups will be overwritten.\n",
            "WARNING:root:The given value for groups will be overwritten.\n",
            "WARNING:root:Param value '[0.00168919 0.0018018  0.0018018  0.0018018  0.0018018  0.0018018\n",
            " 0.0018018  0.0018018  0.0012285  0.00158983 0.00142248 0.0012285\n",
            " 0.00168919 0.00142248 0.0018018  0.0018018  0.0018018  0.0018018\n",
            " 0.0018018  0.0018018  0.0018018  0.0018018  0.00180' had length 6462, which exceeded length limit of 500\n",
            "WARNING:root:Param value '[0.00540541 0.00540541 0.00540541 0.00540541 0.00540541 0.003861\n",
            " 0.00540541 0.003861   0.00540541 0.003861   0.00540541 0.003861\n",
            " 0.00540541 0.00540541 0.00540541 0.00540541 0.0045045  0.00540541\n",
            " 0.00540541 0.00540541 0.00540541 0.00540541 0.005405' had length 2168, which exceeded length limit of 500\n"
          ]
        },
        {
          "metadata": {
            "tags": null
          },
          "name": "stdout",
          "output_type": "stream",
          "text": [
            "Epoch 1/10\n",
            "  6/190 [..............................] - ETA: 19s - loss: 3.6073 - accuracy: 0.0156"
          ]
        },
        {
          "metadata": {
            "tags": null
          },
          "name": "stderr",
          "output_type": "stream",
          "text": [
            "WARNING:tensorflow:Callback method `on_train_batch_end` is slow compared to the batch time (batch time: 0.0458s vs `on_train_batch_end` time: 0.1058s). Check your callbacks.\n"
          ]
        },
        {
          "metadata": {
            "tags": null
          },
          "name": "stdout",
          "output_type": "stream",
          "text": [
            "190/190 [==============================] - 32s 126ms/step - loss: 3.4999 - accuracy: 0.0984 - val_loss: 3.2490 - val_accuracy: 0.1122\n",
            "Epoch 2/10\n",
            "190/190 [==============================] - 22s 113ms/step - loss: 3.0465 - accuracy: 0.2140 - val_loss: 2.6719 - val_accuracy: 0.2755\n",
            "Epoch 3/10\n",
            "190/190 [==============================] - 22s 114ms/step - loss: 2.6022 - accuracy: 0.3082 - val_loss: 2.3423 - val_accuracy: 0.3214\n",
            "Epoch 4/10\n",
            "190/190 [==============================] - 22s 113ms/step - loss: 2.2953 - accuracy: 0.3850 - val_loss: 2.1532 - val_accuracy: 0.4031\n",
            "Epoch 5/10\n",
            "190/190 [==============================] - 21s 112ms/step - loss: 2.1055 - accuracy: 0.4326 - val_loss: 2.0517 - val_accuracy: 0.4490\n",
            "Epoch 6/10\n",
            "190/190 [==============================] - 21s 110ms/step - loss: 1.9605 - accuracy: 0.4692 - val_loss: 2.0305 - val_accuracy: 0.4541\n",
            "Epoch 7/10\n",
            "190/190 [==============================] - 22s 113ms/step - loss: 1.8279 - accuracy: 0.5007 - val_loss: 1.8914 - val_accuracy: 0.5153\n",
            "Epoch 8/10\n",
            "190/190 [==============================] - 21s 110ms/step - loss: 1.7350 - accuracy: 0.5191 - val_loss: 1.8519 - val_accuracy: 0.5357\n",
            "Epoch 9/10\n",
            "190/190 [==============================] - 21s 112ms/step - loss: 1.6458 - accuracy: 0.5480 - val_loss: 1.7609 - val_accuracy: 0.5561\n",
            "Epoch 10/10\n",
            "190/190 [==============================] - 21s 110ms/step - loss: 1.5768 - accuracy: 0.5623 - val_loss: 1.7229 - val_accuracy: 0.5714\n"
          ]
        },
        {
          "metadata": {
            "tags": null
          },
          "name": "stderr",
          "output_type": "stream",
          "text": [
            "INFO:root:Loading only one dataset: ArrowHead\n",
            "INFO:root:Loading only one dataset: ArrowHead\n",
            "WARNING:root:The given value for groups will be overwritten.\n",
            "WARNING:root:The given value for groups will be overwritten.\n",
            "WARNING:root:The given value for groups will be overwritten.\n",
            "WARNING:root:The given value for groups will be overwritten.\n",
            "WARNING:root:The given value for groups will be overwritten.\n",
            "WARNING:root:The given value for groups will be overwritten.\n",
            "WARNING:root:The given value for groups will be overwritten.\n",
            "WARNING:root:The given value for groups will be overwritten.\n",
            "WARNING:root:The given value for groups will be overwritten.\n",
            "WARNING:root:The given value for groups will be overwritten.\n",
            "WARNING:root:The given value for groups will be overwritten.\n",
            "WARNING:root:The given value for groups will be overwritten.\n",
            "WARNING:root:The given value for groups will be overwritten.\n",
            "WARNING:root:The given value for groups will be overwritten.\n",
            "WARNING:root:The given value for groups will be overwritten.\n",
            "WARNING:root:The given value for groups will be overwritten.\n",
            "WARNING:root:The given value for groups will be overwritten.\n",
            "WARNING:root:The given value for groups will be overwritten.\n",
            "WARNING:root:The given value for groups will be overwritten.\n",
            "WARNING:root:The given value for groups will be overwritten.\n",
            "WARNING:root:Param value '[0.00680272 0.00680272 0.00680272 0.00680272 0.00555556 0.00555556\n",
            " 0.00555556 0.00680272 0.00680272 0.00680272 0.00555556 0.00680272\n",
            " 0.00555556 0.00680272 0.00680272 0.00555556 0.00555556 0.00680272\n",
            " 0.00555556 0.00680272 0.00680272 0.00680272 0.00' had length 1765, which exceeded length limit of 500\n",
            "WARNING:root:Param value '[0.02083333 0.02083333 0.01587302 0.02083333 0.01587302 0.02083333\n",
            " 0.02083333 0.02083333 0.02083333 0.02083333 0.02083333 0.01587302\n",
            " 0.01587302 0.02083333 0.01587302 0.02083333 0.01587302 0.02083333\n",
            " 0.02083333 0.02083333 0.01587302 0.02083333 0.01' had length 592, which exceeded length limit of 500\n"
          ]
        },
        {
          "metadata": {
            "tags": null
          },
          "name": "stdout",
          "output_type": "stream",
          "text": [
            "Epoch 1/10\n",
            " 6/50 [==>...........................] - ETA: 5s - loss: 1.0827 - accuracy: 0.4115"
          ]
        },
        {
          "metadata": {
            "tags": null
          },
          "name": "stderr",
          "output_type": "stream",
          "text": [
            "WARNING:tensorflow:Callback method `on_train_batch_end` is slow compared to the batch time (batch time: 0.0593s vs `on_train_batch_end` time: 0.1278s). Check your callbacks.\n"
          ]
        },
        {
          "metadata": {
            "tags": null
          },
          "name": "stdout",
          "output_type": "stream",
          "text": [
            "50/50 [==============================] - 17s 145ms/step - loss: 0.9471 - accuracy: 0.6794 - val_loss: 0.8458 - val_accuracy: 0.8679\n",
            "Epoch 2/10\n",
            "50/50 [==============================] - 6s 115ms/step - loss: 0.6816 - accuracy: 0.8025 - val_loss: 0.6038 - val_accuracy: 0.8868\n",
            "Epoch 3/10\n",
            "50/50 [==============================] - 6s 123ms/step - loss: 0.5022 - accuracy: 0.8512 - val_loss: 0.4519 - val_accuracy: 0.9057\n",
            "Epoch 4/10\n",
            "50/50 [==============================] - 6s 114ms/step - loss: 0.3736 - accuracy: 0.9062 - val_loss: 0.3538 - val_accuracy: 0.9245\n",
            "Epoch 5/10\n",
            "50/50 [==============================] - 6s 123ms/step - loss: 0.2869 - accuracy: 0.9438 - val_loss: 0.3053 - val_accuracy: 0.9245\n",
            "Epoch 6/10\n",
            "50/50 [==============================] - 6s 113ms/step - loss: 0.2232 - accuracy: 0.9706 - val_loss: 0.2637 - val_accuracy: 0.9245\n",
            "Epoch 7/10\n",
            "50/50 [==============================] - 6s 122ms/step - loss: 0.1804 - accuracy: 0.9737 - val_loss: 0.2501 - val_accuracy: 0.9245\n",
            "Epoch 8/10\n",
            "50/50 [==============================] - 6s 113ms/step - loss: 0.1511 - accuracy: 0.9781 - val_loss: 0.2262 - val_accuracy: 0.9245\n",
            "Epoch 9/10\n",
            "50/50 [==============================] - 6s 120ms/step - loss: 0.1278 - accuracy: 0.9856 - val_loss: 0.2231 - val_accuracy: 0.9245\n",
            "Epoch 10/10\n",
            "50/50 [==============================] - 6s 113ms/step - loss: 0.1050 - accuracy: 0.9862 - val_loss: 0.1960 - val_accuracy: 0.9245\n"
          ]
        },
        {
          "metadata": {
            "tags": null
          },
          "name": "stderr",
          "output_type": "stream",
          "text": [
            "INFO:root:Loading only one dataset: ArrowHead\n",
            "INFO:root:Loading only one dataset: ArrowHead\n",
            "WARNING:root:The given value for groups will be overwritten.\n",
            "WARNING:root:The given value for groups will be overwritten.\n",
            "WARNING:root:The given value for groups will be overwritten.\n",
            "WARNING:root:The given value for groups will be overwritten.\n",
            "WARNING:root:The given value for groups will be overwritten.\n",
            "WARNING:root:The given value for groups will be overwritten.\n",
            "WARNING:root:The given value for groups will be overwritten.\n",
            "WARNING:root:The given value for groups will be overwritten.\n",
            "WARNING:root:The given value for groups will be overwritten.\n",
            "WARNING:root:The given value for groups will be overwritten.\n",
            "WARNING:root:The given value for groups will be overwritten.\n",
            "WARNING:root:The given value for groups will be overwritten.\n",
            "WARNING:root:The given value for groups will be overwritten.\n",
            "WARNING:root:The given value for groups will be overwritten.\n",
            "WARNING:root:The given value for groups will be overwritten.\n",
            "WARNING:root:The given value for groups will be overwritten.\n",
            "WARNING:root:The given value for groups will be overwritten.\n",
            "WARNING:root:The given value for groups will be overwritten.\n",
            "WARNING:root:The given value for groups will be overwritten.\n",
            "WARNING:root:The given value for groups will be overwritten.\n",
            "WARNING:root:Param value '[0.00680272 0.00680272 0.00680272 0.00680272 0.00555556 0.00680272\n",
            " 0.00680272 0.00555556 0.00680272 0.00555556 0.00680272 0.00680272\n",
            " 0.00680272 0.00555556 0.00680272 0.00680272 0.00555556 0.00680272\n",
            " 0.00680272 0.00680272 0.00680272 0.00680272 0.00' had length 1765, which exceeded length limit of 500\n",
            "WARNING:root:Param value '[0.02083333 0.02083333 0.02083333 0.02083333 0.02083333 0.02083333\n",
            " 0.02083333 0.02083333 0.01587302 0.02083333 0.02083333 0.02083333\n",
            " 0.01587302 0.01587302 0.02083333 0.02083333 0.01587302 0.02083333\n",
            " 0.01587302 0.01587302 0.01587302 0.02083333 0.02' had length 592, which exceeded length limit of 500\n"
          ]
        },
        {
          "metadata": {
            "tags": null
          },
          "name": "stdout",
          "output_type": "stream",
          "text": [
            "Epoch 1/10\n",
            " 6/50 [==>...........................] - ETA: 5s - loss: 1.0888 - accuracy: 0.4688"
          ]
        },
        {
          "metadata": {
            "tags": null
          },
          "name": "stderr",
          "output_type": "stream",
          "text": [
            "WARNING:tensorflow:Callback method `on_train_batch_end` is slow compared to the batch time (batch time: 0.0580s vs `on_train_batch_end` time: 0.1239s). Check your callbacks.\n"
          ]
        },
        {
          "metadata": {
            "tags": null
          },
          "name": "stdout",
          "output_type": "stream",
          "text": [
            "50/50 [==============================] - 17s 156ms/step - loss: 0.9919 - accuracy: 0.6331 - val_loss: 0.8874 - val_accuracy: 0.7358\n",
            "Epoch 2/10\n",
            "50/50 [==============================] - 6s 113ms/step - loss: 0.7287 - accuracy: 0.7950 - val_loss: 0.6842 - val_accuracy: 0.7547\n",
            "Epoch 3/10\n",
            "50/50 [==============================] - 6s 120ms/step - loss: 0.5335 - accuracy: 0.8381 - val_loss: 0.5511 - val_accuracy: 0.7925\n",
            "Epoch 4/10\n",
            "50/50 [==============================] - 6s 120ms/step - loss: 0.4026 - accuracy: 0.8863 - val_loss: 0.4672 - val_accuracy: 0.7925\n",
            "Epoch 5/10\n",
            "50/50 [==============================] - 6s 114ms/step - loss: 0.3107 - accuracy: 0.9294 - val_loss: 0.4126 - val_accuracy: 0.7925\n",
            "Epoch 6/10\n",
            "50/50 [==============================] - 6s 120ms/step - loss: 0.2472 - accuracy: 0.9506 - val_loss: 0.3856 - val_accuracy: 0.7925\n",
            "Epoch 7/10\n",
            "50/50 [==============================] - 6s 113ms/step - loss: 0.2008 - accuracy: 0.9681 - val_loss: 0.3574 - val_accuracy: 0.8302\n",
            "Epoch 8/10\n",
            "50/50 [==============================] - 6s 117ms/step - loss: 0.1663 - accuracy: 0.9744 - val_loss: 0.3455 - val_accuracy: 0.8302\n",
            "Epoch 9/10\n",
            "50/50 [==============================] - 6s 115ms/step - loss: 0.1421 - accuracy: 0.9812 - val_loss: 0.3341 - val_accuracy: 0.8491\n",
            "Epoch 10/10\n",
            "50/50 [==============================] - 6s 112ms/step - loss: 0.1184 - accuracy: 0.9862 - val_loss: 0.3335 - val_accuracy: 0.8491\n"
          ]
        },
        {
          "metadata": {
            "tags": null
          },
          "name": "stderr",
          "output_type": "stream",
          "text": [
            "INFO:root:Loading only one dataset: BeetleFly\n",
            "INFO:root:Loading only one dataset: BeetleFly\n",
            "WARNING:root:The given value for groups will be overwritten.\n",
            "WARNING:root:The given value for groups will be overwritten.\n",
            "WARNING:root:The given value for groups will be overwritten.\n",
            "WARNING:root:The given value for groups will be overwritten.\n",
            "WARNING:root:The given value for groups will be overwritten.\n",
            "WARNING:root:The given value for groups will be overwritten.\n",
            "WARNING:root:The given value for groups will be overwritten.\n",
            "WARNING:root:The given value for groups will be overwritten.\n",
            "WARNING:root:The given value for groups will be overwritten.\n",
            "WARNING:root:The given value for groups will be overwritten.\n",
            "WARNING:root:The given value for groups will be overwritten.\n",
            "WARNING:root:The given value for groups will be overwritten.\n",
            "WARNING:root:The given value for groups will be overwritten.\n",
            "WARNING:root:The given value for groups will be overwritten.\n",
            "WARNING:root:The given value for groups will be overwritten.\n",
            "WARNING:root:The given value for groups will be overwritten.\n",
            "WARNING:root:The given value for groups will be overwritten.\n",
            "WARNING:root:The given value for groups will be overwritten.\n",
            "WARNING:root:The given value for groups will be overwritten.\n",
            "WARNING:root:The given value for groups will be overwritten.\n",
            "WARNING:root:Changing param values is not allowed. Param with key='gen_indices' was already logged with value='range(0, 30)' for run ID='f95dc6c1fd3d4a24b0b44226c7b6338b'. Attempted logging new value 'range(0, 10)'.\n"
          ]
        },
        {
          "metadata": {
            "tags": null
          },
          "name": "stdout",
          "output_type": "stream",
          "text": [
            "Epoch 1/10\n",
            " 6/10 [=================>............] - ETA: 0s - loss: 0.6985 - accuracy: 0.5208"
          ]
        },
        {
          "metadata": {
            "tags": null
          },
          "name": "stderr",
          "output_type": "stream",
          "text": [
            "WARNING:tensorflow:Callback method `on_train_batch_end` is slow compared to the batch time (batch time: 0.0418s vs `on_train_batch_end` time: 0.1000s). Check your callbacks.\n"
          ]
        },
        {
          "metadata": {
            "tags": null
          },
          "name": "stdout",
          "output_type": "stream",
          "text": [
            "10/10 [==============================] - 13s 288ms/step - loss: 0.6753 - accuracy: 0.6313 - val_loss: 0.6711 - val_accuracy: 0.8000\n",
            "Epoch 2/10\n",
            "10/10 [==============================] - 2s 140ms/step - loss: 0.5752 - accuracy: 0.9563 - val_loss: 0.6455 - val_accuracy: 0.8000\n",
            "Epoch 3/10\n",
            "10/10 [==============================] - 2s 166ms/step - loss: 0.4900 - accuracy: 0.9875 - val_loss: 0.6254 - val_accuracy: 0.9000\n",
            "Epoch 4/10\n",
            "10/10 [==============================] - 2s 165ms/step - loss: 0.4229 - accuracy: 0.9937 - val_loss: 0.6097 - val_accuracy: 0.9000\n",
            "Epoch 5/10\n",
            "10/10 [==============================] - 2s 159ms/step - loss: 0.3666 - accuracy: 1.0000 - val_loss: 0.5964 - val_accuracy: 0.9000\n",
            "Epoch 6/10\n",
            "10/10 [==============================] - 2s 142ms/step - loss: 0.3176 - accuracy: 1.0000 - val_loss: 0.5855 - val_accuracy: 0.8000\n",
            "Epoch 7/10\n",
            "10/10 [==============================] - 2s 141ms/step - loss: 0.2730 - accuracy: 1.0000 - val_loss: 0.5781 - val_accuracy: 0.9000\n",
            "Epoch 8/10\n",
            "10/10 [==============================] - 1s 139ms/step - loss: 0.2373 - accuracy: 1.0000 - val_loss: 0.5732 - val_accuracy: 0.9000\n",
            "Epoch 9/10\n",
            "10/10 [==============================] - 2s 142ms/step - loss: 0.2051 - accuracy: 1.0000 - val_loss: 0.5705 - val_accuracy: 0.9000\n",
            "Epoch 10/10\n",
            "10/10 [==============================] - 2s 143ms/step - loss: 0.1767 - accuracy: 1.0000 - val_loss: 0.5664 - val_accuracy: 0.9000\n"
          ]
        },
        {
          "metadata": {
            "tags": null
          },
          "name": "stderr",
          "output_type": "stream",
          "text": [
            "/content/drive/Othercomputers/Mój laptop/src/mlflow_logging/__init__.py:84: RuntimeWarning: More than 20 figures have been opened. Figures created through the pyplot interface (`matplotlib.pyplot.figure`) are retained until explicitly closed and may consume too much memory. (To control this warning, see the rcParam `figure.max_open_warning`). Consider using `matplotlib.pyplot.close()`.\n",
            "  fig, ax = plt.subplots(figsize=figsize)\n",
            "INFO:root:Loading only one dataset: BeetleFly\n",
            "INFO:root:Loading only one dataset: BeetleFly\n",
            "WARNING:root:The given value for groups will be overwritten.\n",
            "WARNING:root:The given value for groups will be overwritten.\n",
            "WARNING:root:The given value for groups will be overwritten.\n",
            "WARNING:root:The given value for groups will be overwritten.\n",
            "WARNING:root:The given value for groups will be overwritten.\n",
            "WARNING:root:The given value for groups will be overwritten.\n",
            "WARNING:root:The given value for groups will be overwritten.\n",
            "WARNING:root:The given value for groups will be overwritten.\n",
            "WARNING:root:The given value for groups will be overwritten.\n",
            "WARNING:root:The given value for groups will be overwritten.\n",
            "WARNING:root:The given value for groups will be overwritten.\n",
            "WARNING:root:The given value for groups will be overwritten.\n",
            "WARNING:root:The given value for groups will be overwritten.\n",
            "WARNING:root:The given value for groups will be overwritten.\n",
            "WARNING:root:The given value for groups will be overwritten.\n",
            "WARNING:root:The given value for groups will be overwritten.\n",
            "WARNING:root:The given value for groups will be overwritten.\n",
            "WARNING:root:The given value for groups will be overwritten.\n",
            "WARNING:root:The given value for groups will be overwritten.\n",
            "WARNING:root:The given value for groups will be overwritten.\n",
            "WARNING:root:Changing param values is not allowed. Param with key='gen_indices' was already logged with value='range(0, 30)' for run ID='4a18c68a74c94afaab25ae1c357d7d1f'. Attempted logging new value 'range(0, 10)'.\n"
          ]
        },
        {
          "metadata": {
            "tags": null
          },
          "name": "stdout",
          "output_type": "stream",
          "text": [
            "Epoch 1/10\n",
            " 6/10 [=================>............] - ETA: 0s - loss: 0.6759 - accuracy: 0.8021"
          ]
        },
        {
          "metadata": {
            "tags": null
          },
          "name": "stderr",
          "output_type": "stream",
          "text": [
            "WARNING:tensorflow:Callback method `on_train_batch_end` is slow compared to the batch time (batch time: 0.0494s vs `on_train_batch_end` time: 0.1289s). Check your callbacks.\n"
          ]
        },
        {
          "metadata": {
            "tags": null
          },
          "name": "stdout",
          "output_type": "stream",
          "text": [
            "10/10 [==============================] - 12s 382ms/step - loss: 0.6635 - accuracy: 0.8781 - val_loss: 0.6822 - val_accuracy: 0.7000\n",
            "Epoch 2/10\n",
            "10/10 [==============================] - 2s 161ms/step - loss: 0.6001 - accuracy: 0.9937 - val_loss: 0.6757 - val_accuracy: 0.7000\n",
            "Epoch 3/10\n",
            "10/10 [==============================] - 2s 141ms/step - loss: 0.5370 - accuracy: 1.0000 - val_loss: 0.6688 - val_accuracy: 0.7000\n",
            "Epoch 4/10\n",
            "10/10 [==============================] - 2s 142ms/step - loss: 0.4726 - accuracy: 1.0000 - val_loss: 0.6615 - val_accuracy: 0.7000\n",
            "Epoch 5/10\n",
            "10/10 [==============================] - 2s 142ms/step - loss: 0.4038 - accuracy: 1.0000 - val_loss: 0.6524 - val_accuracy: 0.7000\n",
            "Epoch 6/10\n",
            "10/10 [==============================] - 2s 142ms/step - loss: 0.3359 - accuracy: 1.0000 - val_loss: 0.6435 - val_accuracy: 0.7000\n",
            "Epoch 7/10\n",
            "10/10 [==============================] - 2s 140ms/step - loss: 0.2729 - accuracy: 1.0000 - val_loss: 0.6356 - val_accuracy: 0.7000\n",
            "Epoch 8/10\n",
            "10/10 [==============================] - 2s 143ms/step - loss: 0.2186 - accuracy: 1.0000 - val_loss: 0.6275 - val_accuracy: 0.7000\n",
            "Epoch 9/10\n",
            "10/10 [==============================] - 2s 167ms/step - loss: 0.1719 - accuracy: 1.0000 - val_loss: 0.6196 - val_accuracy: 0.7000\n",
            "Epoch 10/10\n",
            "10/10 [==============================] - 2s 166ms/step - loss: 0.1340 - accuracy: 1.0000 - val_loss: 0.6115 - val_accuracy: 0.7000\n"
          ]
        },
        {
          "metadata": {
            "tags": null
          },
          "name": "stderr",
          "output_type": "stream",
          "text": [
            "WARNING:tensorflow:5 out of the last 13 calls to <function Model.make_predict_function.<locals>.predict_function at 0x7f2569f3f5e0> triggered tf.function retracing. Tracing is expensive and the excessive number of tracings could be due to (1) creating @tf.function repeatedly in a loop, (2) passing tensors with different shapes, (3) passing Python objects instead of tensors. For (1), please define your @tf.function outside of the loop. For (2), @tf.function has experimental_relax_shapes=True option that relaxes argument shapes that can avoid unnecessary retracing. For (3), please refer to https://www.tensorflow.org/guide/function#controlling_retracing and https://www.tensorflow.org/api_docs/python/tf/function for  more details.\n",
            "INFO:root:Loading only one dataset: BirdChicken\n",
            "INFO:root:Loading only one dataset: BirdChicken\n",
            "WARNING:root:The given value for groups will be overwritten.\n",
            "WARNING:root:The given value for groups will be overwritten.\n",
            "WARNING:root:The given value for groups will be overwritten.\n",
            "WARNING:root:The given value for groups will be overwritten.\n",
            "WARNING:root:The given value for groups will be overwritten.\n",
            "WARNING:root:The given value for groups will be overwritten.\n",
            "WARNING:root:The given value for groups will be overwritten.\n",
            "WARNING:root:The given value for groups will be overwritten.\n",
            "WARNING:root:The given value for groups will be overwritten.\n",
            "WARNING:root:The given value for groups will be overwritten.\n",
            "WARNING:root:The given value for groups will be overwritten.\n",
            "WARNING:root:The given value for groups will be overwritten.\n",
            "WARNING:root:The given value for groups will be overwritten.\n",
            "WARNING:root:The given value for groups will be overwritten.\n",
            "WARNING:root:The given value for groups will be overwritten.\n",
            "WARNING:root:The given value for groups will be overwritten.\n",
            "WARNING:root:The given value for groups will be overwritten.\n",
            "WARNING:root:The given value for groups will be overwritten.\n",
            "WARNING:root:The given value for groups will be overwritten.\n",
            "WARNING:root:The given value for groups will be overwritten.\n",
            "WARNING:root:Changing param values is not allowed. Param with key='gen_indices' was already logged with value='range(0, 30)' for run ID='15eb74bfa4f248ca83d02dea2b49b1f5'. Attempted logging new value 'range(0, 10)'.\n"
          ]
        },
        {
          "metadata": {
            "tags": null
          },
          "name": "stdout",
          "output_type": "stream",
          "text": [
            "Epoch 1/10\n",
            " 6/10 [=================>............] - ETA: 0s - loss: 0.6219 - accuracy: 0.6927"
          ]
        },
        {
          "metadata": {
            "tags": null
          },
          "name": "stderr",
          "output_type": "stream",
          "text": [
            "WARNING:tensorflow:Callback method `on_train_batch_end` is slow compared to the batch time (batch time: 0.0501s vs `on_train_batch_end` time: 0.1073s). Check your callbacks.\n"
          ]
        },
        {
          "metadata": {
            "tags": null
          },
          "name": "stdout",
          "output_type": "stream",
          "text": [
            "10/10 [==============================] - 11s 382ms/step - loss: 0.6124 - accuracy: 0.7250 - val_loss: 0.6732 - val_accuracy: 0.7000\n",
            "Epoch 2/10\n",
            "10/10 [==============================] - 2s 172ms/step - loss: 0.5210 - accuracy: 0.8906 - val_loss: 0.6396 - val_accuracy: 0.7000\n",
            "Epoch 3/10\n",
            "10/10 [==============================] - 2s 160ms/step - loss: 0.4518 - accuracy: 0.9156 - val_loss: 0.6042 - val_accuracy: 0.7000\n",
            "Epoch 4/10\n",
            "10/10 [==============================] - 2s 139ms/step - loss: 0.3963 - accuracy: 0.9438 - val_loss: 0.5697 - val_accuracy: 0.7000\n",
            "Epoch 5/10\n",
            "10/10 [==============================] - 2s 143ms/step - loss: 0.3485 - accuracy: 0.9719 - val_loss: 0.5394 - val_accuracy: 0.7000\n",
            "Epoch 6/10\n",
            "10/10 [==============================] - 2s 145ms/step - loss: 0.3034 - accuracy: 0.9937 - val_loss: 0.5138 - val_accuracy: 0.7000\n",
            "Epoch 7/10\n",
            "10/10 [==============================] - 2s 142ms/step - loss: 0.2654 - accuracy: 0.9969 - val_loss: 0.4920 - val_accuracy: 0.8000\n",
            "Epoch 8/10\n",
            "10/10 [==============================] - 2s 141ms/step - loss: 0.2323 - accuracy: 1.0000 - val_loss: 0.4724 - val_accuracy: 1.0000\n",
            "Epoch 9/10\n",
            "10/10 [==============================] - 2s 148ms/step - loss: 0.2000 - accuracy: 1.0000 - val_loss: 0.4521 - val_accuracy: 1.0000\n",
            "Epoch 10/10\n",
            "10/10 [==============================] - 2s 163ms/step - loss: 0.1742 - accuracy: 1.0000 - val_loss: 0.4319 - val_accuracy: 1.0000\n"
          ]
        },
        {
          "metadata": {
            "tags": null
          },
          "name": "stderr",
          "output_type": "stream",
          "text": [
            "WARNING:tensorflow:6 out of the last 14 calls to <function Model.make_predict_function.<locals>.predict_function at 0x7f2505a895e0> triggered tf.function retracing. Tracing is expensive and the excessive number of tracings could be due to (1) creating @tf.function repeatedly in a loop, (2) passing tensors with different shapes, (3) passing Python objects instead of tensors. For (1), please define your @tf.function outside of the loop. For (2), @tf.function has experimental_relax_shapes=True option that relaxes argument shapes that can avoid unnecessary retracing. For (3), please refer to https://www.tensorflow.org/guide/function#controlling_retracing and https://www.tensorflow.org/api_docs/python/tf/function for  more details.\n",
            "INFO:root:Loading only one dataset: BirdChicken\n",
            "INFO:root:Loading only one dataset: BirdChicken\n",
            "WARNING:root:The given value for groups will be overwritten.\n",
            "WARNING:root:The given value for groups will be overwritten.\n",
            "WARNING:root:The given value for groups will be overwritten.\n",
            "WARNING:root:The given value for groups will be overwritten.\n",
            "WARNING:root:The given value for groups will be overwritten.\n",
            "WARNING:root:The given value for groups will be overwritten.\n",
            "WARNING:root:The given value for groups will be overwritten.\n",
            "WARNING:root:The given value for groups will be overwritten.\n",
            "WARNING:root:The given value for groups will be overwritten.\n",
            "WARNING:root:The given value for groups will be overwritten.\n",
            "WARNING:root:The given value for groups will be overwritten.\n",
            "WARNING:root:The given value for groups will be overwritten.\n",
            "WARNING:root:The given value for groups will be overwritten.\n",
            "WARNING:root:The given value for groups will be overwritten.\n",
            "WARNING:root:The given value for groups will be overwritten.\n",
            "WARNING:root:The given value for groups will be overwritten.\n",
            "WARNING:root:The given value for groups will be overwritten.\n",
            "WARNING:root:The given value for groups will be overwritten.\n",
            "WARNING:root:The given value for groups will be overwritten.\n",
            "WARNING:root:The given value for groups will be overwritten.\n",
            "WARNING:root:Changing param values is not allowed. Param with key='gen_indices' was already logged with value='range(0, 30)' for run ID='64e0ee87d8094b79a5c99e6e6c6999bb'. Attempted logging new value 'range(0, 10)'.\n"
          ]
        },
        {
          "metadata": {
            "tags": null
          },
          "name": "stdout",
          "output_type": "stream",
          "text": [
            "Epoch 1/10\n",
            " 6/10 [=================>............] - ETA: 0s - loss: 0.6811 - accuracy: 0.6719"
          ]
        },
        {
          "metadata": {
            "tags": null
          },
          "name": "stderr",
          "output_type": "stream",
          "text": [
            "WARNING:tensorflow:Callback method `on_train_batch_end` is slow compared to the batch time (batch time: 0.0441s vs `on_train_batch_end` time: 0.1114s). Check your callbacks.\n"
          ]
        },
        {
          "metadata": {
            "tags": null
          },
          "name": "stdout",
          "output_type": "stream",
          "text": [
            "10/10 [==============================] - 13s 302ms/step - loss: 0.6719 - accuracy: 0.7563 - val_loss: 0.6639 - val_accuracy: 0.9000\n",
            "Epoch 2/10\n",
            "10/10 [==============================] - 2s 143ms/step - loss: 0.6182 - accuracy: 0.9531 - val_loss: 0.6329 - val_accuracy: 0.9000\n",
            "Epoch 3/10\n",
            "10/10 [==============================] - 2s 143ms/step - loss: 0.5643 - accuracy: 0.9594 - val_loss: 0.6014 - val_accuracy: 0.9000\n",
            "Epoch 4/10\n",
            "10/10 [==============================] - 2s 142ms/step - loss: 0.5078 - accuracy: 0.9625 - val_loss: 0.5712 - val_accuracy: 0.9000\n",
            "Epoch 5/10\n",
            "10/10 [==============================] - 2s 160ms/step - loss: 0.4478 - accuracy: 0.9563 - val_loss: 0.5442 - val_accuracy: 0.9000\n",
            "Epoch 6/10\n",
            "10/10 [==============================] - 2s 174ms/step - loss: 0.3910 - accuracy: 0.9563 - val_loss: 0.5201 - val_accuracy: 0.9000\n",
            "Epoch 7/10\n",
            "10/10 [==============================] - 2s 166ms/step - loss: 0.3350 - accuracy: 0.9781 - val_loss: 0.4977 - val_accuracy: 0.9000\n",
            "Epoch 8/10\n",
            "10/10 [==============================] - 2s 167ms/step - loss: 0.2850 - accuracy: 0.9875 - val_loss: 0.4753 - val_accuracy: 0.9000\n",
            "Epoch 9/10\n",
            "10/10 [==============================] - 2s 143ms/step - loss: 0.2382 - accuracy: 0.9906 - val_loss: 0.4563 - val_accuracy: 0.9000\n",
            "Epoch 10/10\n",
            "10/10 [==============================] - 2s 144ms/step - loss: 0.2012 - accuracy: 0.9906 - val_loss: 0.4382 - val_accuracy: 0.9000\n"
          ]
        },
        {
          "metadata": {
            "tags": null
          },
          "name": "stderr",
          "output_type": "stream",
          "text": [
            "INFO:root:Loading only one dataset: Crop\n",
            "INFO:root:Loading only one dataset: Crop\n",
            "WARNING:root:The given value for groups will be overwritten.\n",
            "WARNING:root:The given value for groups will be overwritten.\n",
            "WARNING:root:The given value for groups will be overwritten.\n",
            "WARNING:root:The given value for groups will be overwritten.\n",
            "WARNING:root:The given value for groups will be overwritten.\n",
            "WARNING:root:The given value for groups will be overwritten.\n",
            "WARNING:root:The given value for groups will be overwritten.\n",
            "WARNING:root:The given value for groups will be overwritten.\n",
            "WARNING:root:The given value for groups will be overwritten.\n",
            "WARNING:root:The given value for groups will be overwritten.\n",
            "WARNING:root:The given value for groups will be overwritten.\n",
            "WARNING:root:The given value for groups will be overwritten.\n",
            "WARNING:root:The given value for groups will be overwritten.\n",
            "WARNING:root:The given value for groups will be overwritten.\n",
            "WARNING:root:The given value for groups will be overwritten.\n",
            "WARNING:root:The given value for groups will be overwritten.\n",
            "WARNING:root:The given value for groups will be overwritten.\n",
            "WARNING:root:The given value for groups will be overwritten.\n",
            "WARNING:root:The given value for groups will be overwritten.\n",
            "WARNING:root:The given value for groups will be overwritten.\n",
            "WARNING:root:Changing param values is not allowed. Param with key='gen_indices' was already logged with value='range(0, 18000)' for run ID='a7ce66d860274536b7676cc611412abc'. Attempted logging new value 'range(0, 6000)'.\n"
          ]
        },
        {
          "metadata": {
            "tags": null
          },
          "name": "stdout",
          "output_type": "stream",
          "text": [
            "Epoch 1/10\n",
            "   6/5630 [..............................] - ETA: 10:18 - loss: 3.1748 - accuracy: 0.0365"
          ]
        },
        {
          "metadata": {
            "tags": null
          },
          "name": "stderr",
          "output_type": "stream",
          "text": [
            "WARNING:tensorflow:Callback method `on_train_batch_end` is slow compared to the batch time (batch time: 0.0443s vs `on_train_batch_end` time: 0.1068s). Check your callbacks.\n"
          ]
        },
        {
          "output_type": "stream",
          "name": "stdout",
          "text": [
            "1985/5630 [=========>....................] - ETA: 6:42 - loss: 1.4446 - accuracy: 0.5622"
          ]
        }
      ]
    },
    {
      "cell_type": "code",
      "source": [
        "category = \"ECG\"\n",
        "component_experiment_id = \"103427775450294357\"\n",
        "for target_dataset in ConcatenatedDataset().return_datasets_for_category(category):\n",
        "    with mlflow.start_run(run_name=f\"Parent run - {target_dataset}\"):\n",
        "        ensemble_training_results = train_ensemble_model(\n",
        "            category=category,\n",
        "            target_dataset=target_dataset,\n",
        "            component_experiment_id=component_experiment_id,\n",
        "        )\n",
        "        plain_training_results = train_plain_model(\n",
        "            ensemble_training_results[\"model\"], target_dataset=target_dataset\n",
        "        )\n",
        "        history = {\n",
        "            **ensemble_training_results[\"history\"],\n",
        "            **plain_training_results[\"history\"],\n",
        "        }\n",
        "        mlflow_logging.log_history(history)"
      ],
      "metadata": {
        "id": "7_DRXzDD0yAp"
      },
      "execution_count": null,
      "outputs": []
    }
  ],
  "metadata": {
    "accelerator": "GPU",
    "colab": {
      "provenance": []
    },
    "environment": {
      "kernel": "python3",
      "name": "tf2-gpu.2-8.m100",
      "type": "gcloud",
      "uri": "gcr.io/deeplearning-platform-release/tf2-gpu.2-8:m100"
    },
    "gpuClass": "standard",
    "kernelspec": {
      "display_name": "uni",
      "language": "python",
      "name": "uni"
    },
    "language_info": {
      "codemirror_mode": {
        "name": "ipython",
        "version": 3
      },
      "file_extension": ".py",
      "mimetype": "text/x-python",
      "name": "python",
      "nbconvert_exporter": "python",
      "pygments_lexer": "ipython3",
      "version": "3.8.13"
    }
  },
  "nbformat": 4,
  "nbformat_minor": 0
}
