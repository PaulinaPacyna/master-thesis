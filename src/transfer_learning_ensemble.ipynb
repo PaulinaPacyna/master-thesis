{
  "cells": [
    {
      "cell_type": "code",
      "execution_count": 1,
      "metadata": {
        "colab": {
          "base_uri": "https://localhost:8080/"
        },
        "id": "-TcDXfukt9nE",
        "outputId": "5461c888-1869-4830-bf0c-1e1598b58732"
      },
      "outputs": [
        {
          "output_type": "stream",
          "name": "stdout",
          "text": [
            "Drive already mounted at /content/drive; to attempt to forcibly remount, call drive.mount(\"/content/drive\", force_remount=True).\n"
          ]
        }
      ],
      "source": [
        "import os, sys\n",
        "\n",
        "if os.path.abspath(\".\") == \"/content\":  # google colab\n",
        "    from google.colab import drive\n",
        "\n",
        "    drive.mount(\"/content/drive\")\n",
        "\n",
        "    os.chdir(\"/content/drive/My Drive/master-thesis/src\")\n",
        "    %pip install sktime keras==2.8.0 tensorflow==2.8.2 keras-nlp==0.4.0 mlflow GitPython tensorflow_addons==0.17.1 databricks-cli  tslearn --quiet"
      ]
    },
    {
      "cell_type": "code",
      "execution_count": null,
      "metadata": {
        "colab": {
          "base_uri": "https://localhost:8080/"
        },
        "id": "TnaJrIrQt9nH",
        "outputId": "e0c0d711-b957-425c-903c-47b8442798a4"
      },
      "outputs": [
        {
          "output_type": "stream",
          "name": "stderr",
          "text": [
            "WARNING:root:Changing param values is not allowed. Param with key='gen_indices' was already logged with value='range(0, 3358)' for run ID='8dc0fc63d0554633b73d47b1f921d49d'. Attempted logging new value 'range(0, 1120)'.\n",
            "WARNING:root:Not saving model json\n",
            "WARNING:root:Not saving model json\n",
            "WARNING:root:Not saving model json\n",
            "WARNING:root:Not saving model json\n",
            "WARNING:root:Not saving model json\n"
          ]
        },
        {
          "output_type": "stream",
          "name": "stdout",
          "text": [
            "Epoch 1/10\n",
            " 556/1050 [==============>...............] - ETA: 1:08 - loss: 1.5288 - accuracy: 0.5402"
          ]
        }
      ],
      "source": [
        "from experiments.no_transfer_learning.ensemble import main\n",
        "main(category=\"MOTION\", model=\"fcn\", experiment_id=\"541913567164685548\")"
      ]
    },
    {
      "cell_type": "code",
      "source": [],
      "metadata": {
        "id": "bC4L3jw7JNG6"
      },
      "execution_count": null,
      "outputs": []
    }
  ],
  "metadata": {
    "accelerator": "GPU",
    "colab": {
      "provenance": []
    },
    "environment": {
      "kernel": "python3",
      "name": "tf2-gpu.2-8.m100",
      "type": "gcloud",
      "uri": "gcr.io/deeplearning-platform-release/tf2-gpu.2-8:m100"
    },
    "gpuClass": "standard",
    "kernelspec": {
      "display_name": "uni",
      "language": "python",
      "name": "uni"
    },
    "language_info": {
      "codemirror_mode": {
        "name": "ipython",
        "version": 3
      },
      "file_extension": ".py",
      "mimetype": "text/x-python",
      "name": "python",
      "nbconvert_exporter": "python",
      "pygments_lexer": "ipython3",
      "version": "3.8.13"
    }
  },
  "nbformat": 4,
  "nbformat_minor": 0
}