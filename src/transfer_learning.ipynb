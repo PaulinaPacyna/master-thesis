{
 "cells": [
  {
   "cell_type": "code",
   "execution_count": 1,
   "metadata": {},
   "outputs": [],
   "source": [
    "import os, sys\n",
    "\n",
    "if os.path.abspath(\".\") == \"/content\":  # google colab\n",
    "    %pip install sktime keras==2.8.0 tensorflow==2.8.2 keras-nlp==0.4.0 mlflow GitPython tensorflow_addons==0.17.1 databricks-cli  --quiet\n",
    "    from google.colab import drive\n",
    "\n",
    "    drive.mount(\"/content/drive\")\n",
    "\n",
    "    os.chdir(\"/content/drive/My Drive/master-thesis/src\")"
   ]
  },
  {
   "cell_type": "code",
   "execution_count": 2,
   "metadata": {},
   "outputs": [],
   "source": [
    "from experiments import train_source_model, train_destination_model, train_dest_model_no_weights\n",
    "from mlflow_logging import MlFlowLogging\n",
    "import mlflow"
   ]
  },
  {
   "cell_type": "code",
   "execution_count": 3,
   "metadata": {},
   "outputs": [
    {
     "name": "stderr",
     "output_type": "stream",
     "text": [
      "INFO:root:Loading only one category: ECG\n",
      "INFO:root:Loading only one category: ECG\n"
     ]
    },
    {
     "ename": "AttributeError",
     "evalue": "'OneHotEncoder' object has no attribute 'categories_'",
     "output_type": "error",
     "traceback": [
      "\u001b[1;31m---------------------------------------------------------------------------\u001b[0m",
      "\u001b[1;31mAttributeError\u001b[0m                            Traceback (most recent call last)",
      "Input \u001b[1;32mIn [3]\u001b[0m, in \u001b[0;36m<cell line: 7>\u001b[1;34m()\u001b[0m\n\u001b[0;32m      5\u001b[0m category \u001b[38;5;241m=\u001b[39m \u001b[38;5;124m\"\u001b[39m\u001b[38;5;124mECG\u001b[39m\u001b[38;5;124m\"\u001b[39m\n\u001b[0;32m      6\u001b[0m dataset \u001b[38;5;241m=\u001b[39m \u001b[38;5;124m\"\u001b[39m\u001b[38;5;124mECG200\u001b[39m\u001b[38;5;124m\"\u001b[39m\n\u001b[1;32m----> 7\u001b[0m source_model \u001b[38;5;241m=\u001b[39m \u001b[43mtrain_source_model\u001b[49m\u001b[43m(\u001b[49m\u001b[43mcategory\u001b[49m\u001b[38;5;241;43m=\u001b[39;49m\u001b[43mcategory\u001b[49m\u001b[43m,\u001b[49m\u001b[43m \u001b[49m\u001b[43mdataset\u001b[49m\u001b[38;5;241;43m=\u001b[39;49m\u001b[43mdataset\u001b[49m\u001b[43m)\u001b[49m\n\u001b[0;32m      8\u001b[0m destination \u001b[38;5;241m=\u001b[39m train_destination_model(dataset\u001b[38;5;241m=\u001b[39mdataset, source_model\u001b[38;5;241m=\u001b[39msource_model)\n\u001b[0;32m      9\u001b[0m plain_destination \u001b[38;5;241m=\u001b[39m train_dest_model_no_weights(\n\u001b[0;32m     10\u001b[0m     model\u001b[38;5;241m=\u001b[39mdestination[\u001b[38;5;124m\"\u001b[39m\u001b[38;5;124mmodel\u001b[39m\u001b[38;5;124m\"\u001b[39m], dataset\u001b[38;5;241m=\u001b[39mdataset\n\u001b[0;32m     11\u001b[0m )\n",
      "File \u001b[1;32m~\\studia\\master-thesis\\src\\experiments\\same_category_other_datasets.py:116\u001b[0m, in \u001b[0;36mtrain_source_model\u001b[1;34m(category, dataset, batch_size, input_length, number_of_epochs)\u001b[0m\n\u001b[0;32m    110\u001b[0m X, y \u001b[38;5;241m=\u001b[39m X[\u001b[38;5;241m~\u001b[39mmask], y[\u001b[38;5;241m~\u001b[39mmask]\n\u001b[0;32m    112\u001b[0m experiment \u001b[38;5;241m=\u001b[39m Experiment(\n\u001b[0;32m    113\u001b[0m     saving_path\u001b[38;5;241m=\u001b[39m\u001b[38;5;124mf\u001b[39m\u001b[38;5;124m\"\u001b[39m\u001b[38;5;124mencoder_same_cat_other_datasets/source/category=\u001b[39m\u001b[38;5;132;01m{\u001b[39;00mcategory\u001b[38;5;132;01m}\u001b[39;00m\u001b[38;5;124m/dataset=\u001b[39m\u001b[38;5;132;01m{\u001b[39;00mdataset\u001b[38;5;132;01m}\u001b[39;00m\u001b[38;5;124m\"\u001b[39m\n\u001b[0;32m    114\u001b[0m )\n\u001b[0;32m    115\u001b[0m model \u001b[38;5;241m=\u001b[39m experiment\u001b[38;5;241m.\u001b[39mprepare_encoder_classifier(\n\u001b[1;32m--> 116\u001b[0m     number_of_classes\u001b[38;5;241m=\u001b[39m\u001b[38;5;28mlen\u001b[39m(\u001b[43mexperiment\u001b[49m\u001b[38;5;241;43m.\u001b[39;49m\u001b[43my_encoder\u001b[49m\u001b[38;5;241;43m.\u001b[39;49m\u001b[43mcategories_\u001b[49m[\u001b[38;5;241m0\u001b[39m]),\n\u001b[0;32m    117\u001b[0m     input_length\u001b[38;5;241m=\u001b[39minput_length,\n\u001b[0;32m    118\u001b[0m )\n\u001b[0;32m    119\u001b[0m data_generator_train, validation_data \u001b[38;5;241m=\u001b[39m experiment\u001b[38;5;241m.\u001b[39mprepare_generators(\n\u001b[0;32m    120\u001b[0m     X,\n\u001b[0;32m    121\u001b[0m     y,\n\u001b[1;32m   (...)\u001b[0m\n\u001b[0;32m    127\u001b[0m     test_args\u001b[38;5;241m=\u001b[39m{\u001b[38;5;124m\"\u001b[39m\u001b[38;5;124mmin_length\u001b[39m\u001b[38;5;124m\"\u001b[39m: input_length, \u001b[38;5;124m\"\u001b[39m\u001b[38;5;124mmax_length\u001b[39m\u001b[38;5;124m\"\u001b[39m: input_length},\n\u001b[0;32m    128\u001b[0m )\n\u001b[0;32m    129\u001b[0m history \u001b[38;5;241m=\u001b[39m model\u001b[38;5;241m.\u001b[39mfit(\n\u001b[0;32m    130\u001b[0m     data_generator_train,\n\u001b[0;32m    131\u001b[0m     epochs\u001b[38;5;241m=\u001b[39mnumber_of_epochs,\n\u001b[0;32m    132\u001b[0m     validation_data\u001b[38;5;241m=\u001b[39mvalidation_data,\n\u001b[0;32m    133\u001b[0m     callbacks\u001b[38;5;241m=\u001b[39mexperiment\u001b[38;5;241m.\u001b[39mcallbacks,\n\u001b[0;32m    134\u001b[0m )\n",
      "\u001b[1;31mAttributeError\u001b[0m: 'OneHotEncoder' object has no attribute 'categories_'"
     ]
    }
   ],
   "source": [
    "mlflow.set_experiment(\"Transfer learning - same category, other datasets\")\n",
    "mlflow_logging = MlFlowLogging()\n",
    "run = mlflow.start_run()\n",
    "mlflow.tensorflow.autolog()\n",
    "category = \"ECG\"\n",
    "dataset = \"ECG200\"\n",
    "source_model = train_source_model(category=category, dataset=dataset)\n",
    "destination = train_destination_model(dataset=dataset, source_model=source_model)\n",
    "plain_destination = train_dest_model_no_weights(\n",
    "    model=destination[\"model\"], dataset=dataset\n",
    ")\n",
    "history = {**destination[\"history\"], **plain_destination[\"history\"]}\n",
    "mlflow_logging.log_history(history)\n"
   ]
  }
 ],
 "metadata": {
  "accelerator": "GPU",
  "colab": {
   "provenance": []
  },
  "environment": {
   "kernel": "python3",
   "name": "tf2-gpu.2-8.m100",
   "type": "gcloud",
   "uri": "gcr.io/deeplearning-platform-release/tf2-gpu.2-8:m100"
  },
  "gpuClass": "standard",
  "kernelspec": {
   "display_name": "uni",
   "language": "python",
   "name": "uni"
  },
  "language_info": {
   "codemirror_mode": {
    "name": "ipython",
    "version": 3
   },
   "file_extension": ".py",
   "mimetype": "text/x-python",
   "name": "python",
   "nbconvert_exporter": "python",
   "pygments_lexer": "ipython3",
   "version": "3.8.13"
  }
 },
 "nbformat": 4,
 "nbformat_minor": 1
}
