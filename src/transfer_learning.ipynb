{
 "cells": [
  {
   "cell_type": "code",
   "execution_count": 1,
   "metadata": {
    "id": "-TcDXfukt9nE",
    "outputId": "e7c8bfc8-d9e0-481f-ffca-8e59243cb5ad",
    "colab": {
     "base_uri": "https://localhost:8080/"
    }
   },
   "outputs": [
    {
     "output_type": "stream",
     "name": "stdout",
     "text": [
      "Drive already mounted at /content/drive; to attempt to forcibly remount, call drive.mount(\"/content/drive\", force_remount=True).\n"
     ]
    }
   ],
   "source": [
    "import os, sys\n",
    "\n",
    "if os.path.abspath(\".\") == \"/content\":  # google colab\n",
    "    %pip install sktime keras==2.8.0 tensorflow==2.8.2 keras-nlp==0.4.0 mlflow GitPython tensorflow_addons==0.17.1 databricks-cli  --quiet\n",
    "    from google.colab import drive\n",
    "\n",
    "    drive.mount(\"/content/drive\")\n",
    "\n",
    "    os.chdir(\"/content/drive/My Drive/master-thesis/src\")"
   ]
  },
  {
   "cell_type": "code",
   "execution_count": 2,
   "metadata": {
    "id": "TnaJrIrQt9nH"
   },
   "outputs": [],
   "source": [
    "from experiments import (\n",
    "    train_source_model,\n",
    "    train_destination_model,\n",
    "    train_dest_model_no_weights,\n",
    ")\n",
    "from mlflow_logging import MlFlowLogging\n",
    "from reading import ConcatenatedDataset\n",
    "import mlflow"
   ]
  },
  {
   "cell_type": "code",
   "execution_count": null,
   "metadata": {
    "id": "_fPgbrP3t9nH",
    "outputId": "94da5bed-7eea-4ba4-dbdf-f27669566300",
    "colab": {
     "base_uri": "https://localhost:8080/"
    }
   },
   "outputs": [
    {
     "output_type": "stream",
     "name": "stderr",
     "text": [
      "INFO:root:Loading only one category: ECG\n",
      "INFO:root:Loading only one category: ECG\n"
     ]
    },
    {
     "output_type": "stream",
     "name": "stdout",
     "text": [
      "Epoch 1/20\n"
     ]
    }
   ],
   "source": [
    "mlflow.set_experiment(\"Transfer learning - same category, other datasets\")\n",
    "mlflow_logging = MlFlowLogging()\n",
    "run = mlflow.start_run()\n",
    "mlflow.tensorflow.autolog()\n",
    "category = \"ECG\"\n",
    "for dataset in ConcatenatedDataset().return_datasets_for_category(category):\n",
    "    source_model = train_source_model(\n",
    "        category=category, dataset=dataset, number_of_epochs=20\n",
    "    )\n",
    "    destination = train_destination_model(\n",
    "        dataset=dataset, source_model=source_model, number_of_epochs=20\n",
    "    )\n",
    "    plain_destination = train_dest_model_no_weights(\n",
    "        model=destination[\"model\"], dataset=dataset, number_of_epochs=20\n",
    "    )\n",
    "    history = {**destination[\"history\"], **plain_destination[\"history\"]}\n",
    "    mlflow_logging.log_history(history)"
   ]
  }
 ],
 "metadata": {
  "accelerator": "GPU",
  "colab": {
   "provenance": []
  },
  "environment": {
   "kernel": "python3",
   "name": "tf2-gpu.2-8.m100",
   "type": "gcloud",
   "uri": "gcr.io/deeplearning-platform-release/tf2-gpu.2-8:m100"
  },
  "gpuClass": "standard",
  "kernelspec": {
   "display_name": "uni",
   "language": "python",
   "name": "uni"
  },
  "language_info": {
   "codemirror_mode": {
    "name": "ipython",
    "version": 3
   },
   "file_extension": ".py",
   "mimetype": "text/x-python",
   "name": "python",
   "nbconvert_exporter": "python",
   "pygments_lexer": "ipython3",
   "version": "3.8.13"
  }
 },
 "nbformat": 4,
 "nbformat_minor": 0
}