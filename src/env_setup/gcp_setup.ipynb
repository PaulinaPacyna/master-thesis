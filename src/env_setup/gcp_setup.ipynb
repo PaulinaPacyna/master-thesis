{
 "cells": [
  {
   "cell_type": "code",
   "execution_count": null,
   "id": "ba5e901c-a676-42d5-b5b4-7568f539b829",
   "metadata": {},
   "outputs": [],
   "source": [
    "!git clone https://github.com/hfawaz/dl-4-tsc.git dl_tsc"
   ]
  },
  {
   "cell_type": "code",
   "execution_count": null,
   "id": "906e3345-db47-40f6-b78d-d6996caea0c0",
   "metadata": {},
   "outputs": [],
   "source": [
    "pip install sktime keras==2.8.0 tensorflow==2.8.2 keras-nlp==0.4.0 mlflow==2.1.1 GitPython --user"
   ]
  },
  {
   "cell_type": "code",
   "execution_count": 1,
   "id": "830c0434-be21-4fe2-9c4c-b4867b725ccb",
   "metadata": {},
   "outputs": [],
   "source": [
    "from google.cloud import storage\n",
    "\n",
    "BUCKET_NAME = \"masterthesisdata09\"\n",
    "\n",
    "storage_client = storage.Client()\n",
    "bucket = storage_client.get_bucket(BUCKET_NAME)\n",
    "bucket.blob(\"y.npy\").download_to_filename(\"../data/y.npy\")\n",
    "bucket.blob(\"X.npy\").download_to_filename(\"../data/X.npy\")"
   ]
  }
 ],
 "metadata": {
  "environment": {
   "kernel": "python3",
   "name": "tf2-gpu.2-8.m100",
   "type": "gcloud",
   "uri": "gcr.io/deeplearning-platform-release/tf2-gpu.2-8:m100"
  },
  "kernelspec": {
   "display_name": "Python 3",
   "language": "python",
   "name": "python3"
  },
  "language_info": {
   "codemirror_mode": {
    "name": "ipython",
    "version": 3
   },
   "file_extension": ".py",
   "mimetype": "text/x-python",
   "name": "python",
   "nbconvert_exporter": "python",
   "pygments_lexer": "ipython3",
   "version": "3.7.12"
  }
 },
 "nbformat": 4,
 "nbformat_minor": 5
}
