{
  "cells": [
    {
      "cell_type": "code",
      "execution_count": 1,
      "metadata": {
        "colab": {
          "base_uri": "https://localhost:8080/"
        },
        "id": "-TcDXfukt9nE",
        "outputId": "9468b4c7-eae8-409e-deb7-111f0eea6545"
      },
      "outputs": [
        {
          "output_type": "stream",
          "name": "stdout",
          "text": [
            "Drive already mounted at /content/drive; to attempt to forcibly remount, call drive.mount(\"/content/drive\", force_remount=True).\n"
          ]
        }
      ],
      "source": [
        "import os, sys\n",
        "\n",
        "if os.path.abspath(\".\") == \"/content\":  # google colab\n",
        "    %pip install sktime keras==2.8.0 tensorflow==2.8.2 keras-nlp==0.4.0 mlflow GitPython tensorflow_addons==0.17.1 databricks-cli  --quiet\n",
        "    from google.colab import drive\n",
        "\n",
        "    drive.mount(\"/content/drive\")\n",
        "\n",
        "    os.chdir(\"/content/drive/My Drive/master-thesis/src\")"
      ]
    },
    {
      "cell_type": "code",
      "execution_count": 2,
      "metadata": {
        "id": "TnaJrIrQt9nH"
      },
      "outputs": [],
      "source": [
        "import mlflow\n",
        "from experiments.self_learning import train_self_learning, train_fcn\n",
        "from mlflow_logging import MlFlowLogging\n",
        "from reading import ConcatenatedDataset"
      ]
    },
    {
      "cell_type": "code",
      "execution_count": null,
      "metadata": {
        "colab": {
          "base_uri": "https://localhost:8080/"
        },
        "id": "_fPgbrP3t9nH",
        "outputId": "831e6d70-b9ad-4fec-9ca4-7dfe709c4964"
      },
      "outputs": [
        {
          "output_type": "stream",
          "name": "stderr",
          "text": [
            "INFO:root:Loading only one dataset: CinCECGTorso\n",
            "INFO:root:Loading only one dataset: CinCECGTorso\n",
            "INFO:root:Loading only one category: ECG\n",
            "WARNING:root:Skipping logging to mlflow: Changing param values is not allowed. Param with key='dataset_train' was already logged with value='CinCECGTorso' for run ID='fe5be40cc28c49d9803c042fcfb5b023'. Attempted logging new value 'ECG'.\n",
            "\n",
            "The cause of this error is typically due to repeated calls\n",
            "to an individual run_id event logging.\n",
            "\n",
            "Incorrect Example:\n",
            "---------------------------------------\n",
            "with mlflow.start_run():\n",
            "    mlflow.log_param(\"depth\", 3)\n",
            "    mlflow.log_param(\"depth\", 5)\n",
            "---------------------------------------\n",
            "\n",
            "Which will throw an MlflowException for overwriting a\n",
            "logged parameter.\n",
            "\n",
            "Correct Example:\n",
            "---------------------------------------\n",
            "with mlflow.start_run():\n",
            "    with mlflow.start_run(nested=True):\n",
            "        mlflow.log_param(\"depth\", 3)\n",
            "    with mlflow.start_run(nested=True):\n",
            "        mlflow.log_param(\"depth\", 5)\n",
            "---------------------------------------\n",
            "\n",
            "Which will create a new nested run for each individual\n",
            "model and prevent parameter key collisions within the\n",
            "tracking store.'\n",
            "WARNING:root:Skipping logging to mlflow: Changing param values is not allowed. Param with key='shapes_train' was already logged with value='X: (40,), y: (40, 1)' for run ID='fe5be40cc28c49d9803c042fcfb5b023'. Attempted logging new value 'X: (4246,), y: (4246, 1)'.\n",
            "\n",
            "The cause of this error is typically due to repeated calls\n",
            "to an individual run_id event logging.\n",
            "\n",
            "Incorrect Example:\n",
            "---------------------------------------\n",
            "with mlflow.start_run():\n",
            "    mlflow.log_param(\"depth\", 3)\n",
            "    mlflow.log_param(\"depth\", 5)\n",
            "---------------------------------------\n",
            "\n",
            "Which will throw an MlflowException for overwriting a\n",
            "logged parameter.\n",
            "\n",
            "Correct Example:\n",
            "---------------------------------------\n",
            "with mlflow.start_run():\n",
            "    with mlflow.start_run(nested=True):\n",
            "        mlflow.log_param(\"depth\", 3)\n",
            "    with mlflow.start_run(nested=True):\n",
            "        mlflow.log_param(\"depth\", 5)\n",
            "---------------------------------------\n",
            "\n",
            "Which will create a new nested run for each individual\n",
            "model and prevent parameter key collisions within the\n",
            "tracking store.'\n",
            "INFO:root:Loading only one category: ECG\n",
            "WARNING:root:Skipping logging to mlflow: Changing param values is not allowed. Param with key='dataset_test' was already logged with value='CinCECGTorso' for run ID='fe5be40cc28c49d9803c042fcfb5b023'. Attempted logging new value 'ECG'.\n",
            "\n",
            "The cause of this error is typically due to repeated calls\n",
            "to an individual run_id event logging.\n",
            "\n",
            "Incorrect Example:\n",
            "---------------------------------------\n",
            "with mlflow.start_run():\n",
            "    mlflow.log_param(\"depth\", 3)\n",
            "    mlflow.log_param(\"depth\", 5)\n",
            "---------------------------------------\n",
            "\n",
            "Which will throw an MlflowException for overwriting a\n",
            "logged parameter.\n",
            "\n",
            "Correct Example:\n",
            "---------------------------------------\n",
            "with mlflow.start_run():\n",
            "    with mlflow.start_run(nested=True):\n",
            "        mlflow.log_param(\"depth\", 3)\n",
            "    with mlflow.start_run(nested=True):\n",
            "        mlflow.log_param(\"depth\", 5)\n",
            "---------------------------------------\n",
            "\n",
            "Which will create a new nested run for each individual\n",
            "model and prevent parameter key collisions within the\n",
            "tracking store.'\n",
            "WARNING:root:Skipping logging to mlflow: Changing param values is not allowed. Param with key='shapes_test' was already logged with value='X: (1380,), y: (1380, 1)' for run ID='fe5be40cc28c49d9803c042fcfb5b023'. Attempted logging new value 'X: (10530,), y: (10530, 1)'.\n",
            "\n",
            "The cause of this error is typically due to repeated calls\n",
            "to an individual run_id event logging.\n",
            "\n",
            "Incorrect Example:\n",
            "---------------------------------------\n",
            "with mlflow.start_run():\n",
            "    mlflow.log_param(\"depth\", 3)\n",
            "    mlflow.log_param(\"depth\", 5)\n",
            "---------------------------------------\n",
            "\n",
            "Which will throw an MlflowException for overwriting a\n",
            "logged parameter.\n",
            "\n",
            "Correct Example:\n",
            "---------------------------------------\n",
            "with mlflow.start_run():\n",
            "    with mlflow.start_run(nested=True):\n",
            "        mlflow.log_param(\"depth\", 3)\n",
            "    with mlflow.start_run(nested=True):\n",
            "        mlflow.log_param(\"depth\", 5)\n",
            "---------------------------------------\n",
            "\n",
            "Which will create a new nested run for each individual\n",
            "model and prevent parameter key collisions within the\n",
            "tracking store.'\n",
            "WARNING:root:Param value '[0.00280899 0.00280899 0.00280899 0.00284091 0.00280899 0.00280899\n",
            " 0.00280899 0.00280899 0.00280899 0.00280899 0.00280899 0.00284091\n",
            " 0.00284091 0.00284091 0.00280899 0.00284091 0.00284091 0.00280899\n",
            " 0.00284091 0.00280899 0.00280899 0.00284091 0.00' had length 3965, which exceeded length limit of 500\n",
            "WARNING:root:Not saving model json\n"
          ]
        },
        {
          "output_type": "stream",
          "name": "stdout",
          "text": [
            "Epoch 1/10\n",
            "340/340 [==============================] - 15s 31ms/step - loss: 0.7384 - accuracy: 0.7594 - val_loss: 1.7160 - val_accuracy: 0.4000\n",
            "Epoch 2/10\n",
            "340/340 [==============================] - 7s 21ms/step - loss: 0.3535 - accuracy: 0.9278 - val_loss: 0.3479 - val_accuracy: 0.9239\n",
            "Epoch 3/10\n",
            "340/340 [==============================] - 8s 22ms/step - loss: 0.2343 - accuracy: 0.9639 - val_loss: 0.2833 - val_accuracy: 0.9268\n",
            "{'loss': [0.7384470701217651, 0.3535483181476593, 0.23432758450508118], 'accuracy': [0.7593749761581421, 0.9277573823928833, 0.9638786911964417], 'val_loss': [1.7160208225250244, 0.3478822112083435, 0.28329765796661377], 'val_accuracy': [0.4000000059604645, 0.9239436388015747, 0.9267605543136597]}\n"
          ]
        },
        {
          "output_type": "stream",
          "name": "stderr",
          "text": [
            "INFO:root:Added 62 observations with a threshold of 0.95\n"
          ]
        },
        {
          "output_type": "stream",
          "name": "stdout",
          "text": [
            "Epoch 4/10\n",
            "340/340 [==============================] - 6s 18ms/step - loss: 0.2020 - accuracy: 0.9910 - val_loss: 0.3872 - val_accuracy: 0.8930\n",
            "{'loss': [0.7384470701217651, 0.3535483181476593, 0.23432758450508118, 0.20201727747917175], 'accuracy': [0.7593749761581421, 0.9277573823928833, 0.9638786911964417, 0.9909926652908325], 'val_loss': [1.7160208225250244, 0.3478822112083435, 0.28329765796661377, 0.3871901035308838], 'val_accuracy': [0.4000000059604645, 0.9239436388015747, 0.9267605543136597, 0.8929577469825745]}\n"
          ]
        },
        {
          "output_type": "stream",
          "name": "stderr",
          "text": [
            "INFO:root:Added 319 observations with a threshold of 0.95\n"
          ]
        },
        {
          "output_type": "stream",
          "name": "stdout",
          "text": [
            "Epoch 5/10\n",
            "340/340 [==============================] - 5s 14ms/step - loss: 0.1733 - accuracy: 0.9980 - val_loss: 0.3985 - val_accuracy: 0.9042\n",
            "{'loss': [0.7384470701217651, 0.3535483181476593, 0.23432758450508118, 0.20201727747917175, 0.17334988713264465], 'accuracy': [0.7593749761581421, 0.9277573823928833, 0.9638786911964417, 0.9909926652908325, 0.9979779124259949], 'val_loss': [1.7160208225250244, 0.3478822112083435, 0.28329765796661377, 0.3871901035308838, 0.3984511196613312], 'val_accuracy': [0.4000000059604645, 0.9239436388015747, 0.9267605543136597, 0.8929577469825745, 0.9042253494262695]}\n"
          ]
        },
        {
          "output_type": "stream",
          "name": "stderr",
          "text": [
            "INFO:root:Added 319 observations with a threshold of 0.95\n"
          ]
        },
        {
          "output_type": "stream",
          "name": "stdout",
          "text": [
            "Epoch 6/10\n",
            "340/340 [==============================] - 5s 13ms/step - loss: 0.1226 - accuracy: 0.9989 - val_loss: 0.3658 - val_accuracy: 0.9211\n",
            "{'loss': [0.7384470701217651, 0.3535483181476593, 0.23432758450508118, 0.20201727747917175, 0.17334988713264465, 0.12255679816007614], 'accuracy': [0.7593749761581421, 0.9277573823928833, 0.9638786911964417, 0.9909926652908325, 0.9979779124259949, 0.9988970756530762], 'val_loss': [1.7160208225250244, 0.3478822112083435, 0.28329765796661377, 0.3871901035308838, 0.3984511196613312, 0.36579573154449463], 'val_accuracy': [0.4000000059604645, 0.9239436388015747, 0.9267605543136597, 0.8929577469825745, 0.9042253494262695, 0.9211267828941345]}\n"
          ]
        },
        {
          "output_type": "stream",
          "name": "stderr",
          "text": [
            "INFO:root:Added 319 observations with a threshold of 0.95\n"
          ]
        },
        {
          "output_type": "stream",
          "name": "stdout",
          "text": [
            "Epoch 7/10\n",
            "340/340 [==============================] - 6s 16ms/step - loss: 0.1348 - accuracy: 0.9989 - val_loss: 0.3326 - val_accuracy: 0.9070\n",
            "{'loss': [0.7384470701217651, 0.3535483181476593, 0.23432758450508118, 0.20201727747917175, 0.17334988713264465, 0.12255679816007614, 0.1348411589860916], 'accuracy': [0.7593749761581421, 0.9277573823928833, 0.9638786911964417, 0.9909926652908325, 0.9979779124259949, 0.9988970756530762, 0.9988970756530762], 'val_loss': [1.7160208225250244, 0.3478822112083435, 0.28329765796661377, 0.3871901035308838, 0.3984511196613312, 0.36579573154449463, 0.3325519263744354], 'val_accuracy': [0.4000000059604645, 0.9239436388015747, 0.9267605543136597, 0.8929577469825745, 0.9042253494262695, 0.9211267828941345, 0.9070422649383545]}\n"
          ]
        },
        {
          "output_type": "stream",
          "name": "stderr",
          "text": [
            "INFO:root:Added 319 observations with a threshold of 0.95\n"
          ]
        },
        {
          "output_type": "stream",
          "name": "stdout",
          "text": [
            "Epoch 8/10\n",
            "340/340 [==============================] - 6s 17ms/step - loss: 0.1184 - accuracy: 0.9988 - val_loss: 0.3125 - val_accuracy: 0.9296\n",
            "{'loss': [0.7384470701217651, 0.3535483181476593, 0.23432758450508118, 0.20201727747917175, 0.17334988713264465, 0.12255679816007614, 0.1348411589860916, 0.11836101114749908], 'accuracy': [0.7593749761581421, 0.9277573823928833, 0.9638786911964417, 0.9909926652908325, 0.9979779124259949, 0.9988970756530762, 0.9988970756530762, 0.9988051652908325], 'val_loss': [1.7160208225250244, 0.3478822112083435, 0.28329765796661377, 0.3871901035308838, 0.3984511196613312, 0.36579573154449463, 0.3325519263744354, 0.3125207722187042], 'val_accuracy': [0.4000000059604645, 0.9239436388015747, 0.9267605543136597, 0.8929577469825745, 0.9042253494262695, 0.9211267828941345, 0.9070422649383545, 0.9295774698257446]}\n"
          ]
        },
        {
          "output_type": "stream",
          "name": "stderr",
          "text": [
            "INFO:root:Added 319 observations with a threshold of 0.95\n"
          ]
        },
        {
          "output_type": "stream",
          "name": "stdout",
          "text": [
            "Epoch 9/10\n",
            "340/340 [==============================] - 7s 21ms/step - loss: 0.1088 - accuracy: 0.9983 - val_loss: 0.4964 - val_accuracy: 0.8310\n",
            "{'loss': [0.7384470701217651, 0.3535483181476593, 0.23432758450508118, 0.20201727747917175, 0.17334988713264465, 0.12255679816007614, 0.1348411589860916, 0.11836101114749908, 0.10879438370466232], 'accuracy': [0.7593749761581421, 0.9277573823928833, 0.9638786911964417, 0.9909926652908325, 0.9979779124259949, 0.9988970756530762, 0.9988970756530762, 0.9988051652908325, 0.9982537031173706], 'val_loss': [1.7160208225250244, 0.3478822112083435, 0.28329765796661377, 0.3871901035308838, 0.3984511196613312, 0.36579573154449463, 0.3325519263744354, 0.3125207722187042, 0.4964194595813751], 'val_accuracy': [0.4000000059604645, 0.9239436388015747, 0.9267605543136597, 0.8929577469825745, 0.9042253494262695, 0.9211267828941345, 0.9070422649383545, 0.9295774698257446, 0.8309859037399292]}\n"
          ]
        },
        {
          "output_type": "stream",
          "name": "stderr",
          "text": [
            "INFO:root:Added 319 observations with a threshold of 0.95\n"
          ]
        },
        {
          "output_type": "stream",
          "name": "stdout",
          "text": [
            "Epoch 10/10\n",
            "340/340 [==============================] - 5s 15ms/step - loss: 0.0962 - accuracy: 0.9980 - val_loss: 0.4579 - val_accuracy: 0.8113\n",
            "{'loss': [0.7384470701217651, 0.3535483181476593, 0.23432758450508118, 0.20201727747917175, 0.17334988713264465, 0.12255679816007614, 0.1348411589860916, 0.11836101114749908, 0.10879438370466232, 0.096211738884449], 'accuracy': [0.7593749761581421, 0.9277573823928833, 0.9638786911964417, 0.9909926652908325, 0.9979779124259949, 0.9988970756530762, 0.9988970756530762, 0.9988051652908325, 0.9982537031173706, 0.9979779124259949], 'val_loss': [1.7160208225250244, 0.3478822112083435, 0.28329765796661377, 0.3871901035308838, 0.3984511196613312, 0.36579573154449463, 0.3325519263744354, 0.3125207722187042, 0.4964194595813751, 0.4579474627971649], 'val_accuracy': [0.4000000059604645, 0.9239436388015747, 0.9267605543136597, 0.8929577469825745, 0.9042253494262695, 0.9211267828941345, 0.9070422649383545, 0.9295774698257446, 0.8309859037399292, 0.811267614364624]}\n"
          ]
        },
        {
          "output_type": "stream",
          "name": "stderr",
          "text": [
            "INFO:root:Added 319 observations with a threshold of 0.95\n",
            "INFO:root:Loading only one dataset: CinCECGTorso\n",
            "INFO:root:Loading only one dataset: CinCECGTorso\n",
            "WARNING:root:Param value '[0.00284091 0.00280899 0.00280899 0.00280899 0.00280899 0.00280899\n",
            " 0.00284091 0.00280899 0.00284091 0.00280899 0.00280899 0.00280899\n",
            " 0.00280899 0.00284091 0.00280899 0.00280899 0.00280899 0.00284091\n",
            " 0.00284091 0.00280899 0.00280899 0.00284091 0.00' had length 3965, which exceeded length limit of 500\n",
            "WARNING:root:Not saving model json\n"
          ]
        },
        {
          "output_type": "stream",
          "name": "stdout",
          "text": [
            "Epoch 1/10\n",
            "  5/340 [..............................] - ETA: 8s - loss: 1.3720 - accuracy: 0.3187"
          ]
        },
        {
          "output_type": "stream",
          "name": "stderr",
          "text": [
            "WARNING:tensorflow:Callback method `on_train_batch_end` is slow compared to the batch time (batch time: 0.0150s vs `on_train_batch_end` time: 0.0180s). Check your callbacks.\n"
          ]
        },
        {
          "output_type": "stream",
          "name": "stdout",
          "text": [
            "340/340 [==============================] - 10s 24ms/step - loss: 0.7491 - accuracy: 0.7534 - val_loss: 1.7303 - val_accuracy: 0.2648\n",
            "Epoch 2/10\n",
            "340/340 [==============================] - 6s 17ms/step - loss: 0.3681 - accuracy: 0.9246 - val_loss: 0.3898 - val_accuracy: 0.8704\n",
            "Epoch 3/10\n",
            "340/340 [==============================] - 9s 26ms/step - loss: 0.2262 - accuracy: 0.9690 - val_loss: 0.1964 - val_accuracy: 0.9944\n",
            "Epoch 4/10\n",
            "340/340 [==============================] - 9s 27ms/step - loss: 0.1617 - accuracy: 0.9829 - val_loss: 0.1948 - val_accuracy: 0.9746\n",
            "Epoch 5/10\n",
            "340/340 [==============================] - 6s 16ms/step - loss: 0.1212 - accuracy: 0.9905 - val_loss: 0.1155 - val_accuracy: 0.9972\n",
            "Epoch 6/10\n",
            "340/340 [==============================] - 7s 20ms/step - loss: 0.0842 - accuracy: 0.9953 - val_loss: 0.1158 - val_accuracy: 0.9887\n",
            "Epoch 7/10\n",
            "340/340 [==============================] - 6s 16ms/step - loss: 0.0647 - accuracy: 0.9971 - val_loss: 0.0507 - val_accuracy: 1.0000\n",
            "Epoch 8/10\n",
            "340/340 [==============================] - 7s 20ms/step - loss: 0.0540 - accuracy: 0.9977 - val_loss: 0.0864 - val_accuracy: 0.9915\n",
            "Epoch 9/10\n",
            "340/340 [==============================] - 9s 27ms/step - loss: 0.0406 - accuracy: 0.9994 - val_loss: 0.0823 - val_accuracy: 0.9944\n",
            "Epoch 10/10\n",
            "340/340 [==============================] - 6s 17ms/step - loss: 0.0316 - accuracy: 0.9993 - val_loss: 0.3886 - val_accuracy: 0.8338\n"
          ]
        },
        {
          "output_type": "stream",
          "name": "stderr",
          "text": [
            "INFO:root:Loading only one dataset: ECG200\n",
            "INFO:root:Loading only one dataset: ECG200\n",
            "INFO:root:Loading only one category: ECG\n",
            "WARNING:root:Skipping logging to mlflow: Changing param values is not allowed. Param with key='dataset_train' was already logged with value='ECG200' for run ID='8a0ca93552f54a4396c72931a1897eb5'. Attempted logging new value 'ECG'.\n",
            "\n",
            "The cause of this error is typically due to repeated calls\n",
            "to an individual run_id event logging.\n",
            "\n",
            "Incorrect Example:\n",
            "---------------------------------------\n",
            "with mlflow.start_run():\n",
            "    mlflow.log_param(\"depth\", 3)\n",
            "    mlflow.log_param(\"depth\", 5)\n",
            "---------------------------------------\n",
            "\n",
            "Which will throw an MlflowException for overwriting a\n",
            "logged parameter.\n",
            "\n",
            "Correct Example:\n",
            "---------------------------------------\n",
            "with mlflow.start_run():\n",
            "    with mlflow.start_run(nested=True):\n",
            "        mlflow.log_param(\"depth\", 3)\n",
            "    with mlflow.start_run(nested=True):\n",
            "        mlflow.log_param(\"depth\", 5)\n",
            "---------------------------------------\n",
            "\n",
            "Which will create a new nested run for each individual\n",
            "model and prevent parameter key collisions within the\n",
            "tracking store.'\n",
            "WARNING:root:Skipping logging to mlflow: Changing param values is not allowed. Param with key='shapes_train' was already logged with value='X: (100,), y: (100, 1)' for run ID='8a0ca93552f54a4396c72931a1897eb5'. Attempted logging new value 'X: (4186,), y: (4186, 1)'.\n",
            "\n",
            "The cause of this error is typically due to repeated calls\n",
            "to an individual run_id event logging.\n",
            "\n",
            "Incorrect Example:\n",
            "---------------------------------------\n",
            "with mlflow.start_run():\n",
            "    mlflow.log_param(\"depth\", 3)\n",
            "    mlflow.log_param(\"depth\", 5)\n",
            "---------------------------------------\n",
            "\n",
            "Which will throw an MlflowException for overwriting a\n",
            "logged parameter.\n",
            "\n",
            "Correct Example:\n",
            "---------------------------------------\n",
            "with mlflow.start_run():\n",
            "    with mlflow.start_run(nested=True):\n",
            "        mlflow.log_param(\"depth\", 3)\n",
            "    with mlflow.start_run(nested=True):\n",
            "        mlflow.log_param(\"depth\", 5)\n",
            "---------------------------------------\n",
            "\n",
            "Which will create a new nested run for each individual\n",
            "model and prevent parameter key collisions within the\n",
            "tracking store.'\n",
            "INFO:root:Loading only one category: ECG\n",
            "WARNING:root:Skipping logging to mlflow: Changing param values is not allowed. Param with key='dataset_test' was already logged with value='ECG200' for run ID='8a0ca93552f54a4396c72931a1897eb5'. Attempted logging new value 'ECG'.\n",
            "\n",
            "The cause of this error is typically due to repeated calls\n",
            "to an individual run_id event logging.\n",
            "\n",
            "Incorrect Example:\n",
            "---------------------------------------\n",
            "with mlflow.start_run():\n",
            "    mlflow.log_param(\"depth\", 3)\n",
            "    mlflow.log_param(\"depth\", 5)\n",
            "---------------------------------------\n",
            "\n",
            "Which will throw an MlflowException for overwriting a\n",
            "logged parameter.\n",
            "\n",
            "Correct Example:\n",
            "---------------------------------------\n",
            "with mlflow.start_run():\n",
            "    with mlflow.start_run(nested=True):\n",
            "        mlflow.log_param(\"depth\", 3)\n",
            "    with mlflow.start_run(nested=True):\n",
            "        mlflow.log_param(\"depth\", 5)\n",
            "---------------------------------------\n",
            "\n",
            "Which will create a new nested run for each individual\n",
            "model and prevent parameter key collisions within the\n",
            "tracking store.'\n",
            "WARNING:root:Skipping logging to mlflow: Changing param values is not allowed. Param with key='shapes_test' was already logged with value='X: (100,), y: (100, 1)' for run ID='8a0ca93552f54a4396c72931a1897eb5'. Attempted logging new value 'X: (11810,), y: (11810, 1)'.\n",
            "\n",
            "The cause of this error is typically due to repeated calls\n",
            "to an individual run_id event logging.\n",
            "\n",
            "Incorrect Example:\n",
            "---------------------------------------\n",
            "with mlflow.start_run():\n",
            "    mlflow.log_param(\"depth\", 3)\n",
            "    mlflow.log_param(\"depth\", 5)\n",
            "---------------------------------------\n",
            "\n",
            "Which will throw an MlflowException for overwriting a\n",
            "logged parameter.\n",
            "\n",
            "Correct Example:\n",
            "---------------------------------------\n",
            "with mlflow.start_run():\n",
            "    with mlflow.start_run(nested=True):\n",
            "        mlflow.log_param(\"depth\", 3)\n",
            "    with mlflow.start_run(nested=True):\n",
            "        mlflow.log_param(\"depth\", 5)\n",
            "---------------------------------------\n",
            "\n",
            "Which will create a new nested run for each individual\n",
            "model and prevent parameter key collisions within the\n",
            "tracking store.'\n",
            "WARNING:root:Param value '[0.01  0.01  0.01  0.005 0.01  0.005 0.005 0.01  0.005 0.005 0.005 0.005\n",
            " 0.01  0.005 0.005 0.01  0.01  0.005 0.005 0.01  0.01  0.005 0.01  0.01\n",
            " 0.01  0.01  0.005 0.005 0.005 0.005 0.005 0.005 0.01  0.005 0.005 0.005\n",
            " 0.005 0.01  0.005 0.005 0.005 0' had length 908, which exceeded length limit of 500\n",
            "WARNING:root:Param value '[0.01515152 0.01515152 0.01515152 0.02941176 0.01515152 0.02941176\n",
            " 0.02941176 0.02941176 0.01515152 0.01515152 0.02941176 0.02941176\n",
            " 0.01515152 0.02941176 0.01515152 0.02941176 0.01515152 0.01515152\n",
            " 0.02941176 0.01515152 0.01515152 0.01515152 0.01' had length 559, which exceeded length limit of 500\n",
            "WARNING:root:Not saving model json\n"
          ]
        },
        {
          "output_type": "stream",
          "name": "stdout",
          "text": [
            "Epoch 1/10\n",
            " 5/50 [==>...........................] - ETA: 0s - loss: 0.6848 - accuracy: 0.5312 "
          ]
        },
        {
          "output_type": "stream",
          "name": "stderr",
          "text": [
            "WARNING:tensorflow:Callback method `on_train_batch_end` is slow compared to the batch time (batch time: 0.0091s vs `on_train_batch_end` time: 0.0099s). Check your callbacks.\n"
          ]
        },
        {
          "output_type": "stream",
          "name": "stdout",
          "text": [
            "50/50 [==============================] - 2s 20ms/step - loss: 0.5732 - accuracy: 0.7475 - val_loss: 0.6913 - val_accuracy: 0.4800\n",
            "Epoch 2/10\n",
            "50/50 [==============================] - 1s 13ms/step - loss: 0.4404 - accuracy: 0.8406 - val_loss: 0.7061 - val_accuracy: 0.4800\n",
            "Epoch 3/10\n",
            "50/50 [==============================] - 1s 14ms/step - loss: 0.3889 - accuracy: 0.8450 - val_loss: 0.7129 - val_accuracy: 0.4800\n",
            "{'loss': [0.5732079148292542, 0.4404182434082031, 0.38894760608673096], 'accuracy': [0.7475000023841858, 0.840624988079071, 0.8450000286102295], 'val_loss': [0.6912721395492554, 0.7060680389404297, 0.7128612995147705], 'val_accuracy': [0.47999998927116394, 0.47999998927116394, 0.47999998927116394]}\n"
          ]
        },
        {
          "output_type": "stream",
          "name": "stderr",
          "text": [
            "INFO:root:Added 0 observations with a threshold of 0.95\n"
          ]
        },
        {
          "output_type": "stream",
          "name": "stdout",
          "text": [
            "Epoch 4/10\n",
            "50/50 [==============================] - 1s 15ms/step - loss: 0.3492 - accuracy: 0.8719 - val_loss: 0.7027 - val_accuracy: 0.4800\n",
            "{'loss': [0.5732079148292542, 0.4404182434082031, 0.38894760608673096, 0.3491637110710144], 'accuracy': [0.7475000023841858, 0.840624988079071, 0.8450000286102295, 0.871874988079071], 'val_loss': [0.6912721395492554, 0.7060680389404297, 0.7128612995147705, 0.7027400135993958], 'val_accuracy': [0.47999998927116394, 0.47999998927116394, 0.47999998927116394, 0.47999998927116394]}\n"
          ]
        },
        {
          "output_type": "stream",
          "name": "stderr",
          "text": [
            "INFO:root:Added 0 observations with a threshold of 0.95\n"
          ]
        },
        {
          "output_type": "stream",
          "name": "stdout",
          "text": [
            "Epoch 5/10\n",
            "50/50 [==============================] - 1s 14ms/step - loss: 0.3310 - accuracy: 0.8637 - val_loss: 0.6584 - val_accuracy: 0.4800\n",
            "{'loss': [0.5732079148292542, 0.4404182434082031, 0.38894760608673096, 0.3491637110710144, 0.330980122089386], 'accuracy': [0.7475000023841858, 0.840624988079071, 0.8450000286102295, 0.871874988079071, 0.8637499809265137], 'val_loss': [0.6912721395492554, 0.7060680389404297, 0.7128612995147705, 0.7027400135993958, 0.6584396362304688], 'val_accuracy': [0.47999998927116394, 0.47999998927116394, 0.47999998927116394, 0.47999998927116394, 0.47999998927116394]}\n"
          ]
        },
        {
          "output_type": "stream",
          "name": "stderr",
          "text": [
            "INFO:root:Added 0 observations with a threshold of 0.95\n"
          ]
        },
        {
          "output_type": "stream",
          "name": "stdout",
          "text": [
            "Epoch 6/10\n",
            "50/50 [==============================] - 1s 22ms/step - loss: 0.3076 - accuracy: 0.8875 - val_loss: 0.6228 - val_accuracy: 0.5600\n",
            "{'loss': [0.5732079148292542, 0.4404182434082031, 0.38894760608673096, 0.3491637110710144, 0.330980122089386, 0.3076489567756653], 'accuracy': [0.7475000023841858, 0.840624988079071, 0.8450000286102295, 0.871874988079071, 0.8637499809265137, 0.887499988079071], 'val_loss': [0.6912721395492554, 0.7060680389404297, 0.7128612995147705, 0.7027400135993958, 0.6584396362304688, 0.6227678656578064], 'val_accuracy': [0.47999998927116394, 0.47999998927116394, 0.47999998927116394, 0.47999998927116394, 0.47999998927116394, 0.5600000023841858]}\n"
          ]
        },
        {
          "output_type": "stream",
          "name": "stderr",
          "text": [
            "INFO:root:Added 0 observations with a threshold of 0.95\n"
          ]
        },
        {
          "output_type": "stream",
          "name": "stdout",
          "text": [
            "Epoch 7/10\n",
            "50/50 [==============================] - 1s 14ms/step - loss: 0.2929 - accuracy: 0.8856 - val_loss: 0.6976 - val_accuracy: 0.4800\n",
            "{'loss': [0.5732079148292542, 0.4404182434082031, 0.38894760608673096, 0.3491637110710144, 0.330980122089386, 0.3076489567756653, 0.29288196563720703], 'accuracy': [0.7475000023841858, 0.840624988079071, 0.8450000286102295, 0.871874988079071, 0.8637499809265137, 0.887499988079071, 0.8856250047683716], 'val_loss': [0.6912721395492554, 0.7060680389404297, 0.7128612995147705, 0.7027400135993958, 0.6584396362304688, 0.6227678656578064, 0.6976287961006165], 'val_accuracy': [0.47999998927116394, 0.47999998927116394, 0.47999998927116394, 0.47999998927116394, 0.47999998927116394, 0.5600000023841858, 0.47999998927116394]}\n"
          ]
        },
        {
          "output_type": "stream",
          "name": "stderr",
          "text": [
            "INFO:root:Added 45 observations with a threshold of 0.95\n"
          ]
        },
        {
          "output_type": "stream",
          "name": "stdout",
          "text": [
            "Epoch 8/10\n",
            "50/50 [==============================] - 1s 17ms/step - loss: 0.2775 - accuracy: 0.9619 - val_loss: 0.6064 - val_accuracy: 0.6400\n",
            "{'loss': [0.5732079148292542, 0.4404182434082031, 0.38894760608673096, 0.3491637110710144, 0.330980122089386, 0.3076489567756653, 0.29288196563720703, 0.2774907648563385], 'accuracy': [0.7475000023841858, 0.840624988079071, 0.8450000286102295, 0.871874988079071, 0.8637499809265137, 0.887499988079071, 0.8856250047683716, 0.9618750214576721], 'val_loss': [0.6912721395492554, 0.7060680389404297, 0.7128612995147705, 0.7027400135993958, 0.6584396362304688, 0.6227678656578064, 0.6976287961006165, 0.6064103841781616], 'val_accuracy': [0.47999998927116394, 0.47999998927116394, 0.47999998927116394, 0.47999998927116394, 0.47999998927116394, 0.5600000023841858, 0.47999998927116394, 0.6399999856948853]}\n"
          ]
        },
        {
          "output_type": "stream",
          "name": "stderr",
          "text": [
            "INFO:root:Added 45 observations with a threshold of 0.95\n"
          ]
        },
        {
          "output_type": "stream",
          "name": "stdout",
          "text": [
            "Epoch 9/10\n",
            "50/50 [==============================] - 1s 21ms/step - loss: 0.2022 - accuracy: 0.9906 - val_loss: 0.8979 - val_accuracy: 0.4800\n",
            "{'loss': [0.5732079148292542, 0.4404182434082031, 0.38894760608673096, 0.3491637110710144, 0.330980122089386, 0.3076489567756653, 0.29288196563720703, 0.2774907648563385, 0.20221108198165894], 'accuracy': [0.7475000023841858, 0.840624988079071, 0.8450000286102295, 0.871874988079071, 0.8637499809265137, 0.887499988079071, 0.8856250047683716, 0.9618750214576721, 0.9906250238418579], 'val_loss': [0.6912721395492554, 0.7060680389404297, 0.7128612995147705, 0.7027400135993958, 0.6584396362304688, 0.6227678656578064, 0.6976287961006165, 0.6064103841781616, 0.8979189991950989], 'val_accuracy': [0.47999998927116394, 0.47999998927116394, 0.47999998927116394, 0.47999998927116394, 0.47999998927116394, 0.5600000023841858, 0.47999998927116394, 0.6399999856948853, 0.47999998927116394]}\n"
          ]
        },
        {
          "output_type": "stream",
          "name": "stderr",
          "text": [
            "INFO:root:Added 45 observations with a threshold of 0.95\n"
          ]
        },
        {
          "output_type": "stream",
          "name": "stdout",
          "text": [
            "Epoch 10/10\n",
            "50/50 [==============================] - 1s 17ms/step - loss: 0.0978 - accuracy: 0.9950 - val_loss: 0.7087 - val_accuracy: 0.4400\n",
            "{'loss': [0.5732079148292542, 0.4404182434082031, 0.38894760608673096, 0.3491637110710144, 0.330980122089386, 0.3076489567756653, 0.29288196563720703, 0.2774907648563385, 0.20221108198165894, 0.0978061705827713], 'accuracy': [0.7475000023841858, 0.840624988079071, 0.8450000286102295, 0.871874988079071, 0.8637499809265137, 0.887499988079071, 0.8856250047683716, 0.9618750214576721, 0.9906250238418579, 0.9950000047683716], 'val_loss': [0.6912721395492554, 0.7060680389404297, 0.7128612995147705, 0.7027400135993958, 0.6584396362304688, 0.6227678656578064, 0.6976287961006165, 0.6064103841781616, 0.8979189991950989, 0.7086808681488037], 'val_accuracy': [0.47999998927116394, 0.47999998927116394, 0.47999998927116394, 0.47999998927116394, 0.47999998927116394, 0.5600000023841858, 0.47999998927116394, 0.6399999856948853, 0.47999998927116394, 0.4399999976158142]}\n"
          ]
        },
        {
          "output_type": "stream",
          "name": "stderr",
          "text": [
            "INFO:root:Added 45 observations with a threshold of 0.95\n",
            "INFO:root:Loading only one dataset: ECG200\n",
            "INFO:root:Loading only one dataset: ECG200\n",
            "WARNING:root:Param value '[0.01  0.01  0.005 0.01  0.005 0.01  0.01  0.01  0.005 0.005 0.005 0.01\n",
            " 0.005 0.005 0.005 0.005 0.01  0.005 0.01  0.01  0.01  0.005 0.005 0.005\n",
            " 0.005 0.01  0.01  0.005 0.01  0.01  0.01  0.01  0.01  0.01  0.005 0.005\n",
            " 0.005 0.005 0.01  0.005 0.005 0' had length 910, which exceeded length limit of 500\n",
            "WARNING:root:Param value '[0.02941176 0.01515152 0.01515152 0.01515152 0.01515152 0.01515152\n",
            " 0.02941176 0.02941176 0.01515152 0.01515152 0.02941176 0.01515152\n",
            " 0.02941176 0.01515152 0.01515152 0.01515152 0.02941176 0.01515152\n",
            " 0.01515152 0.01515152 0.01515152 0.01515152 0.01' had length 559, which exceeded length limit of 500\n",
            "WARNING:root:Not saving model json\n"
          ]
        },
        {
          "output_type": "stream",
          "name": "stdout",
          "text": [
            "Epoch 1/10\n",
            " 4/50 [=>............................] - ETA: 0s - loss: 0.7533 - accuracy: 0.4375 "
          ]
        },
        {
          "output_type": "stream",
          "name": "stderr",
          "text": [
            "WARNING:tensorflow:Callback method `on_train_batch_end` is slow compared to the batch time (batch time: 0.0095s vs `on_train_batch_end` time: 0.0099s). Check your callbacks.\n"
          ]
        },
        {
          "output_type": "stream",
          "name": "stdout",
          "text": [
            "50/50 [==============================] - 2s 19ms/step - loss: 0.5743 - accuracy: 0.7606 - val_loss: 0.6866 - val_accuracy: 0.6000\n",
            "Epoch 2/10\n",
            "50/50 [==============================] - 1s 13ms/step - loss: 0.4358 - accuracy: 0.8413 - val_loss: 0.6732 - val_accuracy: 0.5400\n",
            "Epoch 3/10\n",
            "50/50 [==============================] - 1s 14ms/step - loss: 0.3823 - accuracy: 0.8562 - val_loss: 0.6730 - val_accuracy: 0.5400\n",
            "Epoch 4/10\n",
            "50/50 [==============================] - 1s 14ms/step - loss: 0.3363 - accuracy: 0.8781 - val_loss: 0.6781 - val_accuracy: 0.5400\n",
            "Epoch 5/10\n",
            "50/50 [==============================] - 1s 17ms/step - loss: 0.3122 - accuracy: 0.8975 - val_loss: 0.7035 - val_accuracy: 0.5400\n",
            "Epoch 6/10\n",
            "50/50 [==============================] - 1s 18ms/step - loss: 0.2808 - accuracy: 0.9069 - val_loss: 0.6032 - val_accuracy: 0.6000\n",
            "Epoch 7/10\n",
            "50/50 [==============================] - 1s 19ms/step - loss: 0.2644 - accuracy: 0.9112 - val_loss: 0.5526 - val_accuracy: 0.7800\n",
            "Epoch 8/10\n",
            "50/50 [==============================] - 1s 20ms/step - loss: 0.2428 - accuracy: 0.9231 - val_loss: 0.5589 - val_accuracy: 0.8000\n",
            "Epoch 9/10\n",
            "50/50 [==============================] - 1s 19ms/step - loss: 0.2217 - accuracy: 0.9281 - val_loss: 0.4507 - val_accuracy: 0.8000\n",
            "Epoch 10/10\n",
            "50/50 [==============================] - 1s 20ms/step - loss: 0.2108 - accuracy: 0.9375 - val_loss: 0.6141 - val_accuracy: 0.8000\n"
          ]
        },
        {
          "output_type": "stream",
          "name": "stderr",
          "text": [
            "INFO:root:Loading only one dataset: ECG5000\n",
            "INFO:root:Loading only one dataset: ECG5000\n",
            "INFO:root:Loading only one category: ECG\n",
            "WARNING:root:Skipping logging to mlflow: Changing param values is not allowed. Param with key='dataset_train' was already logged with value='ECG5000' for run ID='01ec1b5939234c46aeaf4c378c86738e'. Attempted logging new value 'ECG'.\n",
            "\n",
            "The cause of this error is typically due to repeated calls\n",
            "to an individual run_id event logging.\n",
            "\n",
            "Incorrect Example:\n",
            "---------------------------------------\n",
            "with mlflow.start_run():\n",
            "    mlflow.log_param(\"depth\", 3)\n",
            "    mlflow.log_param(\"depth\", 5)\n",
            "---------------------------------------\n",
            "\n",
            "Which will throw an MlflowException for overwriting a\n",
            "logged parameter.\n",
            "\n",
            "Correct Example:\n",
            "---------------------------------------\n",
            "with mlflow.start_run():\n",
            "    with mlflow.start_run(nested=True):\n",
            "        mlflow.log_param(\"depth\", 3)\n",
            "    with mlflow.start_run(nested=True):\n",
            "        mlflow.log_param(\"depth\", 5)\n",
            "---------------------------------------\n",
            "\n",
            "Which will create a new nested run for each individual\n",
            "model and prevent parameter key collisions within the\n",
            "tracking store.'\n",
            "WARNING:root:Skipping logging to mlflow: Changing param values is not allowed. Param with key='shapes_train' was already logged with value='X: (500,), y: (500, 1)' for run ID='01ec1b5939234c46aeaf4c378c86738e'. Attempted logging new value 'X: (3786,), y: (3786, 1)'.\n",
            "\n",
            "The cause of this error is typically due to repeated calls\n",
            "to an individual run_id event logging.\n",
            "\n",
            "Incorrect Example:\n",
            "---------------------------------------\n",
            "with mlflow.start_run():\n",
            "    mlflow.log_param(\"depth\", 3)\n",
            "    mlflow.log_param(\"depth\", 5)\n",
            "---------------------------------------\n",
            "\n",
            "Which will throw an MlflowException for overwriting a\n",
            "logged parameter.\n",
            "\n",
            "Correct Example:\n",
            "---------------------------------------\n",
            "with mlflow.start_run():\n",
            "    with mlflow.start_run(nested=True):\n",
            "        mlflow.log_param(\"depth\", 3)\n",
            "    with mlflow.start_run(nested=True):\n",
            "        mlflow.log_param(\"depth\", 5)\n",
            "---------------------------------------\n",
            "\n",
            "Which will create a new nested run for each individual\n",
            "model and prevent parameter key collisions within the\n",
            "tracking store.'\n",
            "INFO:root:Loading only one category: ECG\n",
            "WARNING:root:Skipping logging to mlflow: Changing param values is not allowed. Param with key='dataset_test' was already logged with value='ECG5000' for run ID='01ec1b5939234c46aeaf4c378c86738e'. Attempted logging new value 'ECG'.\n",
            "\n",
            "The cause of this error is typically due to repeated calls\n",
            "to an individual run_id event logging.\n",
            "\n",
            "Incorrect Example:\n",
            "---------------------------------------\n",
            "with mlflow.start_run():\n",
            "    mlflow.log_param(\"depth\", 3)\n",
            "    mlflow.log_param(\"depth\", 5)\n",
            "---------------------------------------\n",
            "\n",
            "Which will throw an MlflowException for overwriting a\n",
            "logged parameter.\n",
            "\n",
            "Correct Example:\n",
            "---------------------------------------\n",
            "with mlflow.start_run():\n",
            "    with mlflow.start_run(nested=True):\n",
            "        mlflow.log_param(\"depth\", 3)\n",
            "    with mlflow.start_run(nested=True):\n",
            "        mlflow.log_param(\"depth\", 5)\n",
            "---------------------------------------\n",
            "\n",
            "Which will create a new nested run for each individual\n",
            "model and prevent parameter key collisions within the\n",
            "tracking store.'\n",
            "WARNING:root:Skipping logging to mlflow: Changing param values is not allowed. Param with key='shapes_test' was already logged with value='X: (4500,), y: (4500, 1)' for run ID='01ec1b5939234c46aeaf4c378c86738e'. Attempted logging new value 'X: (7410,), y: (7410, 1)'.\n",
            "\n",
            "The cause of this error is typically due to repeated calls\n",
            "to an individual run_id event logging.\n",
            "\n",
            "Incorrect Example:\n",
            "---------------------------------------\n",
            "with mlflow.start_run():\n",
            "    mlflow.log_param(\"depth\", 3)\n",
            "    mlflow.log_param(\"depth\", 5)\n",
            "---------------------------------------\n",
            "\n",
            "Which will throw an MlflowException for overwriting a\n",
            "logged parameter.\n",
            "\n",
            "Correct Example:\n",
            "---------------------------------------\n",
            "with mlflow.start_run():\n",
            "    with mlflow.start_run(nested=True):\n",
            "        mlflow.log_param(\"depth\", 3)\n",
            "    with mlflow.start_run(nested=True):\n",
            "        mlflow.log_param(\"depth\", 5)\n",
            "---------------------------------------\n",
            "\n",
            "Which will create a new nested run for each individual\n",
            "model and prevent parameter key collisions within the\n",
            "tracking store.'\n",
            "WARNING:root:Changing param values is not allowed. Param with key='gen_indices' was already logged with value='range(0, 3750)' for run ID='01ec1b5939234c46aeaf4c378c86738e'. Attempted logging new value 'range(0, 1250)'.\n",
            "WARNING:root:Not saving model json\n"
          ]
        },
        {
          "output_type": "stream",
          "name": "stdout",
          "text": [
            "Epoch 1/10\n",
            "1180/1180 [==============================] - 19s 15ms/step - loss: 0.8681 - accuracy: 0.7031 - val_loss: 0.8400 - val_accuracy: 0.6424\n",
            "Epoch 2/10\n",
            "1032/1180 [=========================>....] - ETA: 2s - loss: 0.5180 - accuracy: 0.8357"
          ]
        }
      ],
      "source": [
        "mlflow.set_experiment(\"Self learning - FCN\")\n",
        "mlflow.tensorflow.autolog(log_models=False)\n",
        "mlflow_logging = MlFlowLogging()\n",
        "category = \"ECG\"\n",
        "for dataset in ConcatenatedDataset().return_datasets_for_category(category):\n",
        "    with mlflow.start_run(run_name=f\"Parent run - {dataset}\"):\n",
        "        self_learning_results = train_self_learning(\n",
        "            dataset=dataset, category=category\n",
        "        )\n",
        "        plain_results = train_fcn(dataset=dataset)\n",
        "        history = {**self_learning_results[\"history\"], **plain_results[\"history\"]}\n",
        "        mlflow_logging.log_history(history)"
      ]
    },
    {
      "cell_type": "code",
      "source": [],
      "metadata": {
        "id": "kuvumcD0pF3z"
      },
      "execution_count": null,
      "outputs": []
    }
  ],
  "metadata": {
    "accelerator": "GPU",
    "colab": {
      "provenance": []
    },
    "environment": {
      "kernel": "python3",
      "name": "tf2-gpu.2-8.m100",
      "type": "gcloud",
      "uri": "gcr.io/deeplearning-platform-release/tf2-gpu.2-8:m100"
    },
    "gpuClass": "standard",
    "kernelspec": {
      "display_name": "uni",
      "language": "python",
      "name": "uni"
    },
    "language_info": {
      "codemirror_mode": {
        "name": "ipython",
        "version": 3
      },
      "file_extension": ".py",
      "mimetype": "text/x-python",
      "name": "python",
      "nbconvert_exporter": "python",
      "pygments_lexer": "ipython3",
      "version": "3.8.13"
    }
  },
  "nbformat": 4,
  "nbformat_minor": 0
}