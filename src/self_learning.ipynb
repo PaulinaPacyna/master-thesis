{
  "cells": [
    {
      "cell_type": "code",
      "execution_count": 1,
      "metadata": {
        "colab": {
          "base_uri": "https://localhost:8080/"
        },
        "id": "-TcDXfukt9nE",
        "outputId": "71ac1834-cd46-4837-8baf-17a4e81fd72a"
      },
      "outputs": [
        {
          "output_type": "stream",
          "name": "stdout",
          "text": [
            "Drive already mounted at /content/drive; to attempt to forcibly remount, call drive.mount(\"/content/drive\", force_remount=True).\n"
          ]
        }
      ],
      "source": [
        "import os, sys\n",
        "\n",
        "if os.path.abspath(\".\") == \"/content\":  # google colab\n",
        "    %pip install sktime keras==2.8.0 tensorflow==2.8.2 keras-nlp==0.4.0 mlflow GitPython tensorflow_addons==0.17.1 databricks-cli  --quiet\n",
        "    from google.colab import drive\n",
        "\n",
        "    drive.mount(\"/content/drive\")\n",
        "\n",
        "    os.chdir(\"/content/drive/My Drive/master-thesis/src\")"
      ]
    },
    {
      "cell_type": "code",
      "execution_count": 2,
      "metadata": {
        "id": "TnaJrIrQt9nH"
      },
      "outputs": [],
      "source": [
        "import mlflow\n",
        "from experiments.self_learning import train_self_learning, train_fcn\n",
        "from mlflow_logging import MlFlowLogging\n",
        "from reading import ConcatenatedDataset"
      ]
    },
    {
      "cell_type": "code",
      "execution_count": null,
      "metadata": {
        "colab": {
          "base_uri": "https://localhost:8080/"
        },
        "id": "_fPgbrP3t9nH",
        "outputId": "d4032921-c2e1-456f-91bc-b0cd72786f05"
      },
      "outputs": [
        {
          "metadata": {
            "tags": null
          },
          "name": "stderr",
          "output_type": "stream",
          "text": [
            "INFO:root:Loading only one dataset: CinCECGTorso\n",
            "INFO:root:Loading only one dataset: CinCECGTorso\n",
            "INFO:root:Loading only one category: ECG\n",
            "WARNING:root:Skipping logging to mlflow: Changing param values is not allowed. Param with key='dataset_train' was already logged with value='CinCECGTorso' for run ID='120c0880b90e42c78247e196000917cd'. Attempted logging new value 'ECG'.\n",
            "\n",
            "The cause of this error is typically due to repeated calls\n",
            "to an individual run_id event logging.\n",
            "\n",
            "Incorrect Example:\n",
            "---------------------------------------\n",
            "with mlflow.start_run():\n",
            "    mlflow.log_param(\"depth\", 3)\n",
            "    mlflow.log_param(\"depth\", 5)\n",
            "---------------------------------------\n",
            "\n",
            "Which will throw an MlflowException for overwriting a\n",
            "logged parameter.\n",
            "\n",
            "Correct Example:\n",
            "---------------------------------------\n",
            "with mlflow.start_run():\n",
            "    with mlflow.start_run(nested=True):\n",
            "        mlflow.log_param(\"depth\", 3)\n",
            "    with mlflow.start_run(nested=True):\n",
            "        mlflow.log_param(\"depth\", 5)\n",
            "---------------------------------------\n",
            "\n",
            "Which will create a new nested run for each individual\n",
            "model and prevent parameter key collisions within the\n",
            "tracking store.'\n",
            "WARNING:root:Skipping logging to mlflow: Changing param values is not allowed. Param with key='shapes_train' was already logged with value='X: (40,), y: (40, 1)' for run ID='120c0880b90e42c78247e196000917cd'. Attempted logging new value 'X: (4246,), y: (4246, 1)'.\n",
            "\n",
            "The cause of this error is typically due to repeated calls\n",
            "to an individual run_id event logging.\n",
            "\n",
            "Incorrect Example:\n",
            "---------------------------------------\n",
            "with mlflow.start_run():\n",
            "    mlflow.log_param(\"depth\", 3)\n",
            "    mlflow.log_param(\"depth\", 5)\n",
            "---------------------------------------\n",
            "\n",
            "Which will throw an MlflowException for overwriting a\n",
            "logged parameter.\n",
            "\n",
            "Correct Example:\n",
            "---------------------------------------\n",
            "with mlflow.start_run():\n",
            "    with mlflow.start_run(nested=True):\n",
            "        mlflow.log_param(\"depth\", 3)\n",
            "    with mlflow.start_run(nested=True):\n",
            "        mlflow.log_param(\"depth\", 5)\n",
            "---------------------------------------\n",
            "\n",
            "Which will create a new nested run for each individual\n",
            "model and prevent parameter key collisions within the\n",
            "tracking store.'\n",
            "INFO:root:Loading only one category: ECG\n",
            "WARNING:root:Skipping logging to mlflow: Changing param values is not allowed. Param with key='dataset_test' was already logged with value='CinCECGTorso' for run ID='120c0880b90e42c78247e196000917cd'. Attempted logging new value 'ECG'.\n",
            "\n",
            "The cause of this error is typically due to repeated calls\n",
            "to an individual run_id event logging.\n",
            "\n",
            "Incorrect Example:\n",
            "---------------------------------------\n",
            "with mlflow.start_run():\n",
            "    mlflow.log_param(\"depth\", 3)\n",
            "    mlflow.log_param(\"depth\", 5)\n",
            "---------------------------------------\n",
            "\n",
            "Which will throw an MlflowException for overwriting a\n",
            "logged parameter.\n",
            "\n",
            "Correct Example:\n",
            "---------------------------------------\n",
            "with mlflow.start_run():\n",
            "    with mlflow.start_run(nested=True):\n",
            "        mlflow.log_param(\"depth\", 3)\n",
            "    with mlflow.start_run(nested=True):\n",
            "        mlflow.log_param(\"depth\", 5)\n",
            "---------------------------------------\n",
            "\n",
            "Which will create a new nested run for each individual\n",
            "model and prevent parameter key collisions within the\n",
            "tracking store.'\n",
            "WARNING:root:Skipping logging to mlflow: Changing param values is not allowed. Param with key='shapes_test' was already logged with value='X: (1380,), y: (1380, 1)' for run ID='120c0880b90e42c78247e196000917cd'. Attempted logging new value 'X: (10530,), y: (10530, 1)'.\n",
            "\n",
            "The cause of this error is typically due to repeated calls\n",
            "to an individual run_id event logging.\n",
            "\n",
            "Incorrect Example:\n",
            "---------------------------------------\n",
            "with mlflow.start_run():\n",
            "    mlflow.log_param(\"depth\", 3)\n",
            "    mlflow.log_param(\"depth\", 5)\n",
            "---------------------------------------\n",
            "\n",
            "Which will throw an MlflowException for overwriting a\n",
            "logged parameter.\n",
            "\n",
            "Correct Example:\n",
            "---------------------------------------\n",
            "with mlflow.start_run():\n",
            "    with mlflow.start_run(nested=True):\n",
            "        mlflow.log_param(\"depth\", 3)\n",
            "    with mlflow.start_run(nested=True):\n",
            "        mlflow.log_param(\"depth\", 5)\n",
            "---------------------------------------\n",
            "\n",
            "Which will create a new nested run for each individual\n",
            "model and prevent parameter key collisions within the\n",
            "tracking store.'\n",
            "WARNING:root:Param value '[0.00280899 0.00280899 0.00280899 0.00284091 0.00280899 0.00280899\n",
            " 0.00284091 0.00280899 0.00280899 0.00280899 0.00280899 0.00280899\n",
            " 0.00280899 0.00280899 0.00280899 0.00284091 0.00280899 0.00284091\n",
            " 0.00280899 0.00280899 0.00280899 0.00280899 0.00' had length 3965, which exceeded length limit of 500\n",
            "WARNING:root:Not saving model json\n"
          ]
        },
        {
          "metadata": {
            "tags": null
          },
          "name": "stdout",
          "output_type": "stream",
          "text": [
            "Epoch 1/10\n",
            "340/340 [==============================] - 15s 23ms/step - loss: 0.7790 - accuracy: 0.7426 - val_loss: 1.4175 - val_accuracy: 0.2930\n"
          ]
        },
        {
          "metadata": {
            "tags": null
          },
          "name": "stderr",
          "output_type": "stream",
          "text": [
            "INFO:root:Added 0 observations with a threshold of 0.95\n"
          ]
        },
        {
          "metadata": {
            "tags": null
          },
          "name": "stdout",
          "output_type": "stream",
          "text": [
            "(1065, 4)\n",
            "Epoch 2/10\n",
            "340/340 [==============================] - 7s 21ms/step - loss: 0.3805 - accuracy: 0.9269 - val_loss: 0.4471 - val_accuracy: 0.8563\n"
          ]
        },
        {
          "metadata": {
            "tags": null
          },
          "name": "stderr",
          "output_type": "stream",
          "text": [
            "INFO:root:Added 1490 observations with a threshold of 0.95\n"
          ]
        },
        {
          "metadata": {
            "tags": null
          },
          "name": "stdout",
          "output_type": "stream",
          "text": [
            "(2555, 4)\n",
            "Epoch 3/10\n",
            "340/340 [==============================] - 10s 30ms/step - loss: 0.2498 - accuracy: 0.9927 - val_loss: 0.7421 - val_accuracy: 0.7324\n"
          ]
        },
        {
          "metadata": {
            "tags": null
          },
          "name": "stderr",
          "output_type": "stream",
          "text": [
            "INFO:root:Added 110 observations with a threshold of 0.95\n"
          ]
        },
        {
          "metadata": {
            "tags": null
          },
          "name": "stdout",
          "output_type": "stream",
          "text": [
            "(1175, 4)\n"
          ]
        },
        {
          "metadata": {
            "tags": null
          },
          "name": "stderr",
          "output_type": "stream",
          "text": [
            "INFO:root:Added 110 observations with a threshold of 0.95\n"
          ]
        },
        {
          "metadata": {
            "tags": null
          },
          "name": "stdout",
          "output_type": "stream",
          "text": [
            "(1175, 4)\n",
            "Epoch 4/10\n",
            "340/340 [==============================] - 10s 29ms/step - loss: 0.2203 - accuracy: 0.9940 - val_loss: 0.6003 - val_accuracy: 0.8451\n"
          ]
        },
        {
          "metadata": {
            "tags": null
          },
          "name": "stderr",
          "output_type": "stream",
          "text": [
            "INFO:root:Added 44 observations with a threshold of 0.95\n"
          ]
        },
        {
          "metadata": {
            "tags": null
          },
          "name": "stdout",
          "output_type": "stream",
          "text": [
            "(1109, 4)\n"
          ]
        },
        {
          "metadata": {
            "tags": null
          },
          "name": "stderr",
          "output_type": "stream",
          "text": [
            "INFO:root:Added 44 observations with a threshold of 0.95\n"
          ]
        },
        {
          "metadata": {
            "tags": null
          },
          "name": "stdout",
          "output_type": "stream",
          "text": [
            "(1109, 4)\n",
            "Epoch 5/10\n",
            "340/340 [==============================] - 6s 19ms/step - loss: 0.2040 - accuracy: 0.9900 - val_loss: 0.4954 - val_accuracy: 0.8479\n"
          ]
        },
        {
          "metadata": {
            "tags": null
          },
          "name": "stderr",
          "output_type": "stream",
          "text": [
            "INFO:root:Added 14 observations with a threshold of 0.95\n"
          ]
        },
        {
          "metadata": {
            "tags": null
          },
          "name": "stdout",
          "output_type": "stream",
          "text": [
            "(1079, 4)\n"
          ]
        },
        {
          "metadata": {
            "tags": null
          },
          "name": "stderr",
          "output_type": "stream",
          "text": [
            "INFO:root:Added 14 observations with a threshold of 0.95\n"
          ]
        },
        {
          "metadata": {
            "tags": null
          },
          "name": "stdout",
          "output_type": "stream",
          "text": [
            "(1079, 4)\n",
            "Epoch 6/10\n",
            "340/340 [==============================] - 9s 26ms/step - loss: 0.2477 - accuracy: 0.9681 - val_loss: 0.4575 - val_accuracy: 0.8451\n"
          ]
        },
        {
          "metadata": {
            "tags": null
          },
          "name": "stderr",
          "output_type": "stream",
          "text": [
            "INFO:root:Added 11 observations with a threshold of 0.95\n"
          ]
        },
        {
          "metadata": {
            "tags": null
          },
          "name": "stdout",
          "output_type": "stream",
          "text": [
            "(1076, 4)\n"
          ]
        },
        {
          "metadata": {
            "tags": null
          },
          "name": "stderr",
          "output_type": "stream",
          "text": [
            "INFO:root:Added 11 observations with a threshold of 0.95\n"
          ]
        },
        {
          "metadata": {
            "tags": null
          },
          "name": "stdout",
          "output_type": "stream",
          "text": [
            "(1076, 4)\n",
            "Epoch 7/10\n",
            "340/340 [==============================] - 6s 17ms/step - loss: 0.2070 - accuracy: 0.9820 - val_loss: 0.3523 - val_accuracy: 0.8789\n"
          ]
        },
        {
          "metadata": {
            "tags": null
          },
          "name": "stderr",
          "output_type": "stream",
          "text": [
            "INFO:root:Added 5102 observations with a threshold of 0.95\n"
          ]
        },
        {
          "metadata": {
            "tags": null
          },
          "name": "stdout",
          "output_type": "stream",
          "text": [
            "(6167, 4)\n"
          ]
        },
        {
          "metadata": {
            "tags": null
          },
          "name": "stderr",
          "output_type": "stream",
          "text": [
            "INFO:root:Added 5102 observations with a threshold of 0.95\n"
          ]
        },
        {
          "metadata": {
            "tags": null
          },
          "name": "stdout",
          "output_type": "stream",
          "text": [
            "(6167, 4)\n",
            "Epoch 8/10\n",
            "340/340 [==============================] - 7s 19ms/step - loss: 0.1837 - accuracy: 0.9891 - val_loss: 0.9610 - val_accuracy: 0.5127\n"
          ]
        },
        {
          "metadata": {
            "tags": null
          },
          "name": "stderr",
          "output_type": "stream",
          "text": [
            "INFO:root:Added 4595 observations with a threshold of 0.95\n"
          ]
        },
        {
          "metadata": {
            "tags": null
          },
          "name": "stdout",
          "output_type": "stream",
          "text": [
            "(5660, 4)\n"
          ]
        },
        {
          "metadata": {
            "tags": null
          },
          "name": "stderr",
          "output_type": "stream",
          "text": [
            "INFO:root:Added 4595 observations with a threshold of 0.95\n"
          ]
        },
        {
          "metadata": {
            "tags": null
          },
          "name": "stdout",
          "output_type": "stream",
          "text": [
            "(5660, 4)\n",
            "Epoch 9/10\n",
            "340/340 [==============================] - 6s 19ms/step - loss: 0.1913 - accuracy: 0.9995 - val_loss: 0.9313 - val_accuracy: 0.5577\n"
          ]
        },
        {
          "metadata": {
            "tags": null
          },
          "name": "stderr",
          "output_type": "stream",
          "text": [
            "INFO:root:Added 4681 observations with a threshold of 0.95\n"
          ]
        },
        {
          "metadata": {
            "tags": null
          },
          "name": "stdout",
          "output_type": "stream",
          "text": [
            "(5746, 4)\n"
          ]
        },
        {
          "metadata": {
            "tags": null
          },
          "name": "stderr",
          "output_type": "stream",
          "text": [
            "INFO:root:Added 4681 observations with a threshold of 0.95\n"
          ]
        },
        {
          "metadata": {
            "tags": null
          },
          "name": "stdout",
          "output_type": "stream",
          "text": [
            "(5746, 4)\n",
            "Epoch 10/10\n",
            "340/340 [==============================] - 10s 28ms/step - loss: 0.1895 - accuracy: 0.9997 - val_loss: 0.8839 - val_accuracy: 0.6141\n"
          ]
        },
        {
          "metadata": {
            "tags": null
          },
          "name": "stderr",
          "output_type": "stream",
          "text": [
            "INFO:root:Added 2552 observations with a threshold of 0.95\n"
          ]
        },
        {
          "metadata": {
            "tags": null
          },
          "name": "stdout",
          "output_type": "stream",
          "text": [
            "(3617, 4)\n"
          ]
        },
        {
          "metadata": {
            "tags": null
          },
          "name": "stderr",
          "output_type": "stream",
          "text": [
            "INFO:root:Added 2552 observations with a threshold of 0.95\n"
          ]
        },
        {
          "metadata": {
            "tags": null
          },
          "name": "stdout",
          "output_type": "stream",
          "text": [
            "(3617, 4)\n"
          ]
        },
        {
          "metadata": {
            "tags": null
          },
          "name": "stderr",
          "output_type": "stream",
          "text": [
            "INFO:root:Loading only one dataset: CinCECGTorso\n",
            "INFO:root:Loading only one dataset: CinCECGTorso\n",
            "WARNING:root:Param value '[0.00280899 0.00280899 0.00280899 0.00280899 0.00280899 0.00280899\n",
            " 0.00280899 0.00284091 0.00284091 0.00284091 0.00280899 0.00280899\n",
            " 0.00280899 0.00280899 0.00284091 0.00280899 0.00280899 0.00284091\n",
            " 0.00280899 0.00280899 0.00284091 0.00280899 0.00' had length 3965, which exceeded length limit of 500\n",
            "WARNING:root:Not saving model json\n"
          ]
        },
        {
          "metadata": {
            "tags": null
          },
          "name": "stdout",
          "output_type": "stream",
          "text": [
            "Epoch 1/10\n",
            "340/340 [==============================] - 11s 28ms/step - loss: 0.7813 - accuracy: 0.7388 - val_loss: 1.6625 - val_accuracy: 0.2901\n",
            "Epoch 2/10\n",
            "340/340 [==============================] - 6s 19ms/step - loss: 0.3744 - accuracy: 0.9224 - val_loss: 0.3189 - val_accuracy: 0.9662\n",
            "Epoch 3/10\n",
            "340/340 [==============================] - 10s 29ms/step - loss: 0.2387 - accuracy: 0.9665 - val_loss: 0.2559 - val_accuracy: 0.9352\n",
            "Epoch 4/10\n",
            "340/340 [==============================] - 10s 29ms/step - loss: 0.1659 - accuracy: 0.9825 - val_loss: 0.2807 - val_accuracy: 0.9042\n",
            "Epoch 5/10\n",
            "340/340 [==============================] - 10s 29ms/step - loss: 0.1205 - accuracy: 0.9907 - val_loss: 0.1110 - val_accuracy: 0.9887\n",
            "Epoch 6/10\n",
            "340/340 [==============================] - 7s 20ms/step - loss: 0.0930 - accuracy: 0.9944 - val_loss: 0.0831 - val_accuracy: 0.9887\n",
            "Epoch 7/10\n",
            "340/340 [==============================] - 8s 24ms/step - loss: 0.0770 - accuracy: 0.9951 - val_loss: 0.1303 - val_accuracy: 0.9577\n",
            "Epoch 8/10\n",
            "340/340 [==============================] - 8s 24ms/step - loss: 0.0570 - accuracy: 0.9972 - val_loss: 0.0866 - val_accuracy: 0.9915\n",
            "Epoch 9/10\n",
            "340/340 [==============================] - 11s 31ms/step - loss: 0.0492 - accuracy: 0.9972 - val_loss: 0.0618 - val_accuracy: 0.9915\n",
            "Epoch 10/10\n",
            "340/340 [==============================] - 8s 25ms/step - loss: 0.0421 - accuracy: 0.9981 - val_loss: 0.0529 - val_accuracy: 1.0000\n"
          ]
        },
        {
          "output_type": "stream",
          "name": "stderr",
          "text": [
            "INFO:root:Loading only one dataset: ECG200\n",
            "INFO:root:Loading only one dataset: ECG200\n",
            "INFO:root:Loading only one category: ECG\n",
            "WARNING:root:Skipping logging to mlflow: Changing param values is not allowed. Param with key='dataset_train' was already logged with value='ECG200' for run ID='ee78055b66134228955364324dd6fefa'. Attempted logging new value 'ECG'.\n",
            "\n",
            "The cause of this error is typically due to repeated calls\n",
            "to an individual run_id event logging.\n",
            "\n",
            "Incorrect Example:\n",
            "---------------------------------------\n",
            "with mlflow.start_run():\n",
            "    mlflow.log_param(\"depth\", 3)\n",
            "    mlflow.log_param(\"depth\", 5)\n",
            "---------------------------------------\n",
            "\n",
            "Which will throw an MlflowException for overwriting a\n",
            "logged parameter.\n",
            "\n",
            "Correct Example:\n",
            "---------------------------------------\n",
            "with mlflow.start_run():\n",
            "    with mlflow.start_run(nested=True):\n",
            "        mlflow.log_param(\"depth\", 3)\n",
            "    with mlflow.start_run(nested=True):\n",
            "        mlflow.log_param(\"depth\", 5)\n",
            "---------------------------------------\n",
            "\n",
            "Which will create a new nested run for each individual\n",
            "model and prevent parameter key collisions within the\n",
            "tracking store.'\n",
            "WARNING:root:Skipping logging to mlflow: Changing param values is not allowed. Param with key='shapes_train' was already logged with value='X: (100,), y: (100, 1)' for run ID='ee78055b66134228955364324dd6fefa'. Attempted logging new value 'X: (4186,), y: (4186, 1)'.\n",
            "\n",
            "The cause of this error is typically due to repeated calls\n",
            "to an individual run_id event logging.\n",
            "\n",
            "Incorrect Example:\n",
            "---------------------------------------\n",
            "with mlflow.start_run():\n",
            "    mlflow.log_param(\"depth\", 3)\n",
            "    mlflow.log_param(\"depth\", 5)\n",
            "---------------------------------------\n",
            "\n",
            "Which will throw an MlflowException for overwriting a\n",
            "logged parameter.\n",
            "\n",
            "Correct Example:\n",
            "---------------------------------------\n",
            "with mlflow.start_run():\n",
            "    with mlflow.start_run(nested=True):\n",
            "        mlflow.log_param(\"depth\", 3)\n",
            "    with mlflow.start_run(nested=True):\n",
            "        mlflow.log_param(\"depth\", 5)\n",
            "---------------------------------------\n",
            "\n",
            "Which will create a new nested run for each individual\n",
            "model and prevent parameter key collisions within the\n",
            "tracking store.'\n",
            "INFO:root:Loading only one category: ECG\n",
            "WARNING:root:Skipping logging to mlflow: Changing param values is not allowed. Param with key='dataset_test' was already logged with value='ECG200' for run ID='ee78055b66134228955364324dd6fefa'. Attempted logging new value 'ECG'.\n",
            "\n",
            "The cause of this error is typically due to repeated calls\n",
            "to an individual run_id event logging.\n",
            "\n",
            "Incorrect Example:\n",
            "---------------------------------------\n",
            "with mlflow.start_run():\n",
            "    mlflow.log_param(\"depth\", 3)\n",
            "    mlflow.log_param(\"depth\", 5)\n",
            "---------------------------------------\n",
            "\n",
            "Which will throw an MlflowException for overwriting a\n",
            "logged parameter.\n",
            "\n",
            "Correct Example:\n",
            "---------------------------------------\n",
            "with mlflow.start_run():\n",
            "    with mlflow.start_run(nested=True):\n",
            "        mlflow.log_param(\"depth\", 3)\n",
            "    with mlflow.start_run(nested=True):\n",
            "        mlflow.log_param(\"depth\", 5)\n",
            "---------------------------------------\n",
            "\n",
            "Which will create a new nested run for each individual\n",
            "model and prevent parameter key collisions within the\n",
            "tracking store.'\n",
            "WARNING:root:Skipping logging to mlflow: Changing param values is not allowed. Param with key='shapes_test' was already logged with value='X: (100,), y: (100, 1)' for run ID='ee78055b66134228955364324dd6fefa'. Attempted logging new value 'X: (11810,), y: (11810, 1)'.\n",
            "\n",
            "The cause of this error is typically due to repeated calls\n",
            "to an individual run_id event logging.\n",
            "\n",
            "Incorrect Example:\n",
            "---------------------------------------\n",
            "with mlflow.start_run():\n",
            "    mlflow.log_param(\"depth\", 3)\n",
            "    mlflow.log_param(\"depth\", 5)\n",
            "---------------------------------------\n",
            "\n",
            "Which will throw an MlflowException for overwriting a\n",
            "logged parameter.\n",
            "\n",
            "Correct Example:\n",
            "---------------------------------------\n",
            "with mlflow.start_run():\n",
            "    with mlflow.start_run(nested=True):\n",
            "        mlflow.log_param(\"depth\", 3)\n",
            "    with mlflow.start_run(nested=True):\n",
            "        mlflow.log_param(\"depth\", 5)\n",
            "---------------------------------------\n",
            "\n",
            "Which will create a new nested run for each individual\n",
            "model and prevent parameter key collisions within the\n",
            "tracking store.'\n",
            "WARNING:root:Param value '[0.005 0.005 0.005 0.005 0.01  0.005 0.005 0.01  0.005 0.005 0.005 0.005\n",
            " 0.005 0.01  0.01  0.005 0.005 0.005 0.01  0.005 0.005 0.01  0.005 0.005\n",
            " 0.01  0.005 0.005 0.005 0.01  0.01  0.005 0.005 0.005 0.01  0.01  0.005\n",
            " 0.01  0.005 0.01  0.005 0.005 ' had length 909, which exceeded length limit of 500\n",
            "WARNING:root:Param value '[0.02941176 0.01515152 0.01515152 0.01515152 0.02941176 0.01515152\n",
            " 0.01515152 0.02941176 0.01515152 0.01515152 0.01515152 0.01515152\n",
            " 0.01515152 0.02941176 0.01515152 0.01515152 0.02941176 0.01515152\n",
            " 0.01515152 0.01515152 0.01515152 0.01515152 0.01' had length 559, which exceeded length limit of 500\n",
            "WARNING:root:Not saving model json\n"
          ]
        },
        {
          "output_type": "stream",
          "name": "stdout",
          "text": [
            "Epoch 1/10\n",
            "50/50 [==============================] - 3s 26ms/step - loss: 0.5536 - accuracy: 0.7744 - val_loss: 0.7142 - val_accuracy: 0.3800\n"
          ]
        },
        {
          "output_type": "stream",
          "name": "stderr",
          "text": [
            "INFO:root:Added 0 observations with a threshold of 0.95\n"
          ]
        },
        {
          "output_type": "stream",
          "name": "stdout",
          "text": [
            "(150, 2)\n",
            "Epoch 2/10\n",
            "50/50 [==============================] - 1s 16ms/step - loss: 0.4237 - accuracy: 0.8575 - val_loss: 0.7535 - val_accuracy: 0.3800\n"
          ]
        },
        {
          "output_type": "stream",
          "name": "stderr",
          "text": [
            "INFO:root:Added 0 observations with a threshold of 0.95\n"
          ]
        },
        {
          "output_type": "stream",
          "name": "stdout",
          "text": [
            "(150, 2)\n",
            "Epoch 3/10\n",
            "50/50 [==============================] - 1s 23ms/step - loss: 0.3686 - accuracy: 0.8781 - val_loss: 0.7901 - val_accuracy: 0.3800\n"
          ]
        },
        {
          "output_type": "stream",
          "name": "stderr",
          "text": [
            "INFO:root:Added 0 observations with a threshold of 0.95\n"
          ]
        },
        {
          "output_type": "stream",
          "name": "stdout",
          "text": [
            "(150, 2)\n"
          ]
        },
        {
          "output_type": "stream",
          "name": "stderr",
          "text": [
            "INFO:root:Added 0 observations with a threshold of 0.95\n"
          ]
        },
        {
          "output_type": "stream",
          "name": "stdout",
          "text": [
            "(150, 2)\n",
            "Epoch 4/10\n",
            "50/50 [==============================] - 1s 17ms/step - loss: 0.3146 - accuracy: 0.9119 - val_loss: 0.7511 - val_accuracy: 0.3800\n"
          ]
        },
        {
          "output_type": "stream",
          "name": "stderr",
          "text": [
            "INFO:root:Added 0 observations with a threshold of 0.95\n"
          ]
        },
        {
          "output_type": "stream",
          "name": "stdout",
          "text": [
            "(150, 2)\n"
          ]
        },
        {
          "output_type": "stream",
          "name": "stderr",
          "text": [
            "INFO:root:Added 0 observations with a threshold of 0.95\n"
          ]
        },
        {
          "output_type": "stream",
          "name": "stdout",
          "text": [
            "(150, 2)\n",
            "Epoch 5/10\n",
            "50/50 [==============================] - 1s 15ms/step - loss: 0.2689 - accuracy: 0.9325 - val_loss: 0.7233 - val_accuracy: 0.3800\n"
          ]
        },
        {
          "output_type": "stream",
          "name": "stderr",
          "text": [
            "INFO:root:Added 0 observations with a threshold of 0.95\n"
          ]
        },
        {
          "output_type": "stream",
          "name": "stdout",
          "text": [
            "(150, 2)\n"
          ]
        },
        {
          "output_type": "stream",
          "name": "stderr",
          "text": [
            "INFO:root:Added 0 observations with a threshold of 0.95\n"
          ]
        },
        {
          "output_type": "stream",
          "name": "stdout",
          "text": [
            "(150, 2)\n",
            "Epoch 6/10\n",
            "50/50 [==============================] - 1s 20ms/step - loss: 0.2338 - accuracy: 0.9425 - val_loss: 0.6920 - val_accuracy: 0.4400\n"
          ]
        },
        {
          "output_type": "stream",
          "name": "stderr",
          "text": [
            "INFO:root:Added 0 observations with a threshold of 0.95\n"
          ]
        },
        {
          "output_type": "stream",
          "name": "stdout",
          "text": [
            "(150, 2)\n"
          ]
        },
        {
          "output_type": "stream",
          "name": "stderr",
          "text": [
            "INFO:root:Added 0 observations with a threshold of 0.95\n"
          ]
        },
        {
          "output_type": "stream",
          "name": "stdout",
          "text": [
            "(150, 2)\n",
            "Epoch 7/10\n",
            "50/50 [==============================] - 1s 15ms/step - loss: 0.2012 - accuracy: 0.9563 - val_loss: 0.5464 - val_accuracy: 0.8000\n"
          ]
        },
        {
          "output_type": "stream",
          "name": "stderr",
          "text": [
            "INFO:root:Added 0 observations with a threshold of 0.95\n"
          ]
        },
        {
          "output_type": "stream",
          "name": "stdout",
          "text": [
            "(150, 2)\n"
          ]
        },
        {
          "output_type": "stream",
          "name": "stderr",
          "text": [
            "INFO:root:Added 0 observations with a threshold of 0.95\n"
          ]
        },
        {
          "output_type": "stream",
          "name": "stdout",
          "text": [
            "(150, 2)\n",
            "Epoch 8/10\n",
            "50/50 [==============================] - 1s 16ms/step - loss: 0.1898 - accuracy: 0.9500 - val_loss: 0.4455 - val_accuracy: 0.8200\n"
          ]
        },
        {
          "output_type": "stream",
          "name": "stderr",
          "text": [
            "INFO:root:Added 44 observations with a threshold of 0.95\n"
          ]
        },
        {
          "output_type": "stream",
          "name": "stdout",
          "text": [
            "(194, 2)\n"
          ]
        },
        {
          "output_type": "stream",
          "name": "stderr",
          "text": [
            "INFO:root:Added 44 observations with a threshold of 0.95\n"
          ]
        },
        {
          "output_type": "stream",
          "name": "stdout",
          "text": [
            "(194, 2)\n",
            "Epoch 9/10\n",
            "50/50 [==============================] - 1s 20ms/step - loss: 0.2707 - accuracy: 0.9725 - val_loss: 0.4894 - val_accuracy: 0.7400\n"
          ]
        },
        {
          "output_type": "stream",
          "name": "stderr",
          "text": [
            "INFO:root:Added 0 observations with a threshold of 0.95\n"
          ]
        },
        {
          "output_type": "stream",
          "name": "stdout",
          "text": [
            "(150, 2)\n"
          ]
        },
        {
          "output_type": "stream",
          "name": "stderr",
          "text": [
            "INFO:root:Added 0 observations with a threshold of 0.95\n"
          ]
        },
        {
          "output_type": "stream",
          "name": "stdout",
          "text": [
            "(150, 2)\n",
            "Epoch 10/10\n",
            "50/50 [==============================] - 1s 15ms/step - loss: 0.2500 - accuracy: 0.9262 - val_loss: 0.6343 - val_accuracy: 0.7000\n"
          ]
        },
        {
          "output_type": "stream",
          "name": "stderr",
          "text": [
            "INFO:root:Added 14706 observations with a threshold of 0.95\n"
          ]
        },
        {
          "output_type": "stream",
          "name": "stdout",
          "text": [
            "(14856, 2)\n"
          ]
        },
        {
          "output_type": "stream",
          "name": "stderr",
          "text": [
            "INFO:root:Added 14706 observations with a threshold of 0.95\n"
          ]
        },
        {
          "output_type": "stream",
          "name": "stdout",
          "text": [
            "(14856, 2)\n"
          ]
        },
        {
          "output_type": "stream",
          "name": "stderr",
          "text": [
            "INFO:root:Loading only one dataset: ECG200\n",
            "INFO:root:Loading only one dataset: ECG200\n",
            "WARNING:root:Param value '[0.01  0.005 0.005 0.01  0.01  0.005 0.005 0.005 0.01  0.005 0.01  0.005\n",
            " 0.005 0.01  0.005 0.01  0.005 0.01  0.01  0.005 0.005 0.005 0.005 0.005\n",
            " 0.01  0.005 0.005 0.005 0.005 0.005 0.005 0.01  0.01  0.005 0.005 0.005\n",
            " 0.01  0.005 0.005 0.005 0.01  ' had length 908, which exceeded length limit of 500\n",
            "WARNING:root:Param value '[0.02941176 0.01515152 0.01515152 0.01515152 0.01515152 0.02941176\n",
            " 0.02941176 0.01515152 0.02941176 0.01515152 0.01515152 0.02941176\n",
            " 0.02941176 0.01515152 0.02941176 0.01515152 0.02941176 0.01515152\n",
            " 0.02941176 0.02941176 0.01515152 0.01515152 0.02' had length 559, which exceeded length limit of 500\n",
            "WARNING:root:Not saving model json\n"
          ]
        },
        {
          "output_type": "stream",
          "name": "stdout",
          "text": [
            "Epoch 1/10\n",
            "50/50 [==============================] - 2s 21ms/step - loss: 0.5523 - accuracy: 0.7806 - val_loss: 0.6887 - val_accuracy: 0.5400\n",
            "Epoch 2/10\n",
            "50/50 [==============================] - 1s 15ms/step - loss: 0.4255 - accuracy: 0.8587 - val_loss: 0.7124 - val_accuracy: 0.5400\n",
            "Epoch 3/10\n",
            "50/50 [==============================] - 1s 15ms/step - loss: 0.3800 - accuracy: 0.8625 - val_loss: 0.7082 - val_accuracy: 0.5400\n",
            "Epoch 4/10\n",
            "50/50 [==============================] - 1s 16ms/step - loss: 0.3239 - accuracy: 0.8888 - val_loss: 0.6847 - val_accuracy: 0.5400\n",
            "Epoch 5/10\n",
            "50/50 [==============================] - 1s 15ms/step - loss: 0.2968 - accuracy: 0.8988 - val_loss: 0.6258 - val_accuracy: 0.5400\n",
            "Epoch 6/10\n",
            "50/50 [==============================] - 1s 16ms/step - loss: 0.2862 - accuracy: 0.8913 - val_loss: 0.6385 - val_accuracy: 0.5400\n",
            "Epoch 7/10\n",
            "50/50 [==============================] - 1s 15ms/step - loss: 0.2509 - accuracy: 0.9269 - val_loss: 0.5237 - val_accuracy: 0.8200\n",
            "Epoch 8/10\n",
            "50/50 [==============================] - 1s 15ms/step - loss: 0.2468 - accuracy: 0.9262 - val_loss: 0.4752 - val_accuracy: 0.8200\n",
            "Epoch 9/10\n",
            "50/50 [==============================] - 1s 22ms/step - loss: 0.2331 - accuracy: 0.9262 - val_loss: 0.6464 - val_accuracy: 0.5400\n",
            "Epoch 10/10\n",
            "50/50 [==============================] - 1s 23ms/step - loss: 0.2065 - accuracy: 0.9375 - val_loss: 0.3858 - val_accuracy: 0.8600\n"
          ]
        },
        {
          "output_type": "stream",
          "name": "stderr",
          "text": [
            "INFO:root:Loading only one dataset: ECG5000\n",
            "INFO:root:Loading only one dataset: ECG5000\n",
            "INFO:root:Loading only one category: ECG\n",
            "WARNING:root:Skipping logging to mlflow: Changing param values is not allowed. Param with key='dataset_train' was already logged with value='ECG5000' for run ID='f0f5e13c4b294f4dbfa1e0dfdd6cf8e3'. Attempted logging new value 'ECG'.\n",
            "\n",
            "The cause of this error is typically due to repeated calls\n",
            "to an individual run_id event logging.\n",
            "\n",
            "Incorrect Example:\n",
            "---------------------------------------\n",
            "with mlflow.start_run():\n",
            "    mlflow.log_param(\"depth\", 3)\n",
            "    mlflow.log_param(\"depth\", 5)\n",
            "---------------------------------------\n",
            "\n",
            "Which will throw an MlflowException for overwriting a\n",
            "logged parameter.\n",
            "\n",
            "Correct Example:\n",
            "---------------------------------------\n",
            "with mlflow.start_run():\n",
            "    with mlflow.start_run(nested=True):\n",
            "        mlflow.log_param(\"depth\", 3)\n",
            "    with mlflow.start_run(nested=True):\n",
            "        mlflow.log_param(\"depth\", 5)\n",
            "---------------------------------------\n",
            "\n",
            "Which will create a new nested run for each individual\n",
            "model and prevent parameter key collisions within the\n",
            "tracking store.'\n",
            "WARNING:root:Skipping logging to mlflow: Changing param values is not allowed. Param with key='shapes_train' was already logged with value='X: (500,), y: (500, 1)' for run ID='f0f5e13c4b294f4dbfa1e0dfdd6cf8e3'. Attempted logging new value 'X: (3786,), y: (3786, 1)'.\n",
            "\n",
            "The cause of this error is typically due to repeated calls\n",
            "to an individual run_id event logging.\n",
            "\n",
            "Incorrect Example:\n",
            "---------------------------------------\n",
            "with mlflow.start_run():\n",
            "    mlflow.log_param(\"depth\", 3)\n",
            "    mlflow.log_param(\"depth\", 5)\n",
            "---------------------------------------\n",
            "\n",
            "Which will throw an MlflowException for overwriting a\n",
            "logged parameter.\n",
            "\n",
            "Correct Example:\n",
            "---------------------------------------\n",
            "with mlflow.start_run():\n",
            "    with mlflow.start_run(nested=True):\n",
            "        mlflow.log_param(\"depth\", 3)\n",
            "    with mlflow.start_run(nested=True):\n",
            "        mlflow.log_param(\"depth\", 5)\n",
            "---------------------------------------\n",
            "\n",
            "Which will create a new nested run for each individual\n",
            "model and prevent parameter key collisions within the\n",
            "tracking store.'\n",
            "INFO:root:Loading only one category: ECG\n",
            "WARNING:root:Skipping logging to mlflow: Changing param values is not allowed. Param with key='dataset_test' was already logged with value='ECG5000' for run ID='f0f5e13c4b294f4dbfa1e0dfdd6cf8e3'. Attempted logging new value 'ECG'.\n",
            "\n",
            "The cause of this error is typically due to repeated calls\n",
            "to an individual run_id event logging.\n",
            "\n",
            "Incorrect Example:\n",
            "---------------------------------------\n",
            "with mlflow.start_run():\n",
            "    mlflow.log_param(\"depth\", 3)\n",
            "    mlflow.log_param(\"depth\", 5)\n",
            "---------------------------------------\n",
            "\n",
            "Which will throw an MlflowException for overwriting a\n",
            "logged parameter.\n",
            "\n",
            "Correct Example:\n",
            "---------------------------------------\n",
            "with mlflow.start_run():\n",
            "    with mlflow.start_run(nested=True):\n",
            "        mlflow.log_param(\"depth\", 3)\n",
            "    with mlflow.start_run(nested=True):\n",
            "        mlflow.log_param(\"depth\", 5)\n",
            "---------------------------------------\n",
            "\n",
            "Which will create a new nested run for each individual\n",
            "model and prevent parameter key collisions within the\n",
            "tracking store.'\n",
            "WARNING:root:Skipping logging to mlflow: Changing param values is not allowed. Param with key='shapes_test' was already logged with value='X: (4500,), y: (4500, 1)' for run ID='f0f5e13c4b294f4dbfa1e0dfdd6cf8e3'. Attempted logging new value 'X: (7410,), y: (7410, 1)'.\n",
            "\n",
            "The cause of this error is typically due to repeated calls\n",
            "to an individual run_id event logging.\n",
            "\n",
            "Incorrect Example:\n",
            "---------------------------------------\n",
            "with mlflow.start_run():\n",
            "    mlflow.log_param(\"depth\", 3)\n",
            "    mlflow.log_param(\"depth\", 5)\n",
            "---------------------------------------\n",
            "\n",
            "Which will throw an MlflowException for overwriting a\n",
            "logged parameter.\n",
            "\n",
            "Correct Example:\n",
            "---------------------------------------\n",
            "with mlflow.start_run():\n",
            "    with mlflow.start_run(nested=True):\n",
            "        mlflow.log_param(\"depth\", 3)\n",
            "    with mlflow.start_run(nested=True):\n",
            "        mlflow.log_param(\"depth\", 5)\n",
            "---------------------------------------\n",
            "\n",
            "Which will create a new nested run for each individual\n",
            "model and prevent parameter key collisions within the\n",
            "tracking store.'\n",
            "WARNING:root:Changing param values is not allowed. Param with key='gen_indices' was already logged with value='range(0, 3750)' for run ID='f0f5e13c4b294f4dbfa1e0dfdd6cf8e3'. Attempted logging new value 'range(0, 1250)'.\n",
            "WARNING:root:Not saving model json\n"
          ]
        },
        {
          "output_type": "stream",
          "name": "stdout",
          "text": [
            "Epoch 1/10\n",
            "1180/1180 [==============================] - 22s 17ms/step - loss: 0.8307 - accuracy: 0.7226 - val_loss: 0.8720 - val_accuracy: 0.6584\n"
          ]
        },
        {
          "output_type": "stream",
          "name": "stderr",
          "text": [
            "INFO:root:Added 22 observations with a threshold of 0.95\n"
          ]
        },
        {
          "output_type": "stream",
          "name": "stdout",
          "text": [
            "(3772, 5)\n",
            "Epoch 2/10\n",
            "1180/1180 [==============================] - 24s 20ms/step - loss: 0.2892 - accuracy: 0.9518 - val_loss: 0.9239 - val_accuracy: 0.6320\n"
          ]
        },
        {
          "output_type": "stream",
          "name": "stderr",
          "text": [
            "INFO:root:Added 40 observations with a threshold of 0.95\n"
          ]
        },
        {
          "output_type": "stream",
          "name": "stdout",
          "text": [
            "(3790, 5)\n",
            "Epoch 3/10\n",
            "1180/1180 [==============================] - 29s 24ms/step - loss: 0.2163 - accuracy: 0.9759 - val_loss: 1.1048 - val_accuracy: 0.6008\n"
          ]
        },
        {
          "output_type": "stream",
          "name": "stderr",
          "text": [
            "INFO:root:Added 166 observations with a threshold of 0.95\n"
          ]
        },
        {
          "output_type": "stream",
          "name": "stdout",
          "text": [
            "(3916, 5)\n"
          ]
        },
        {
          "output_type": "stream",
          "name": "stderr",
          "text": [
            "INFO:root:Added 166 observations with a threshold of 0.95\n"
          ]
        },
        {
          "output_type": "stream",
          "name": "stdout",
          "text": [
            "(3916, 5)\n",
            "Epoch 4/10\n",
            "1180/1180 [==============================] - 32s 27ms/step - loss: 0.1749 - accuracy: 0.9935 - val_loss: 1.3016 - val_accuracy: 0.6136\n"
          ]
        },
        {
          "output_type": "stream",
          "name": "stderr",
          "text": [
            "INFO:root:Added 216 observations with a threshold of 0.95\n"
          ]
        },
        {
          "output_type": "stream",
          "name": "stdout",
          "text": [
            "(3966, 5)\n"
          ]
        },
        {
          "output_type": "stream",
          "name": "stderr",
          "text": [
            "INFO:root:Added 216 observations with a threshold of 0.95\n"
          ]
        },
        {
          "output_type": "stream",
          "name": "stdout",
          "text": [
            "(3966, 5)\n",
            "Epoch 5/10\n",
            "1180/1180 [==============================] - 32s 27ms/step - loss: 0.1639 - accuracy: 0.9946 - val_loss: 1.0297 - val_accuracy: 0.5688\n"
          ]
        },
        {
          "output_type": "stream",
          "name": "stderr",
          "text": [
            "INFO:root:Added 120 observations with a threshold of 0.95\n"
          ]
        },
        {
          "output_type": "stream",
          "name": "stdout",
          "text": [
            "(3870, 5)\n"
          ]
        },
        {
          "output_type": "stream",
          "name": "stderr",
          "text": [
            "INFO:root:Added 120 observations with a threshold of 0.95\n"
          ]
        },
        {
          "output_type": "stream",
          "name": "stdout",
          "text": [
            "(3870, 5)\n",
            "Epoch 6/10\n",
            "1180/1180 [==============================] - 31s 26ms/step - loss: 0.1687 - accuracy: 0.9918 - val_loss: 0.9164 - val_accuracy: 0.6552\n"
          ]
        },
        {
          "output_type": "stream",
          "name": "stderr",
          "text": [
            "INFO:root:Added 129 observations with a threshold of 0.95\n"
          ]
        },
        {
          "output_type": "stream",
          "name": "stdout",
          "text": [
            "(3879, 5)\n"
          ]
        },
        {
          "output_type": "stream",
          "name": "stderr",
          "text": [
            "INFO:root:Added 129 observations with a threshold of 0.95\n"
          ]
        },
        {
          "output_type": "stream",
          "name": "stdout",
          "text": [
            "(3879, 5)\n",
            "Epoch 7/10\n",
            "1180/1180 [==============================] - 28s 23ms/step - loss: 0.1772 - accuracy: 0.9924 - val_loss: 0.9044 - val_accuracy: 0.5872\n"
          ]
        },
        {
          "output_type": "stream",
          "name": "stderr",
          "text": [
            "INFO:root:Added 306 observations with a threshold of 0.95\n"
          ]
        },
        {
          "output_type": "stream",
          "name": "stdout",
          "text": [
            "(4056, 5)\n"
          ]
        },
        {
          "output_type": "stream",
          "name": "stderr",
          "text": [
            "INFO:root:Added 306 observations with a threshold of 0.95\n"
          ]
        },
        {
          "output_type": "stream",
          "name": "stdout",
          "text": [
            "(4056, 5)\n",
            "Epoch 8/10\n",
            "1180/1180 [==============================] - 26s 22ms/step - loss: 0.1646 - accuracy: 0.9965 - val_loss: 0.8260 - val_accuracy: 0.6520\n"
          ]
        },
        {
          "output_type": "stream",
          "name": "stderr",
          "text": [
            "INFO:root:Added 668 observations with a threshold of 0.95\n"
          ]
        },
        {
          "output_type": "stream",
          "name": "stdout",
          "text": [
            "(4418, 5)\n"
          ]
        },
        {
          "output_type": "stream",
          "name": "stderr",
          "text": [
            "INFO:root:Added 668 observations with a threshold of 0.95\n"
          ]
        },
        {
          "output_type": "stream",
          "name": "stdout",
          "text": [
            "(4418, 5)\n",
            "Epoch 9/10\n",
            "1180/1180 [==============================] - 22s 19ms/step - loss: 0.2296 - accuracy: 0.9934 - val_loss: 0.9788 - val_accuracy: 0.6184\n"
          ]
        },
        {
          "output_type": "stream",
          "name": "stderr",
          "text": [
            "INFO:root:Added 1402 observations with a threshold of 0.95\n"
          ]
        },
        {
          "output_type": "stream",
          "name": "stdout",
          "text": [
            "(5152, 5)\n"
          ]
        },
        {
          "output_type": "stream",
          "name": "stderr",
          "text": [
            "INFO:root:Added 1402 observations with a threshold of 0.95\n"
          ]
        },
        {
          "output_type": "stream",
          "name": "stdout",
          "text": [
            "(5152, 5)\n",
            "Epoch 10/10\n",
            "1180/1180 [==============================] - 25s 21ms/step - loss: 0.1868 - accuracy: 0.9990 - val_loss: 0.9995 - val_accuracy: 0.5696\n"
          ]
        },
        {
          "output_type": "stream",
          "name": "stderr",
          "text": [
            "INFO:root:Added 1645 observations with a threshold of 0.95\n"
          ]
        },
        {
          "output_type": "stream",
          "name": "stdout",
          "text": [
            "(5395, 5)\n"
          ]
        },
        {
          "output_type": "stream",
          "name": "stderr",
          "text": [
            "INFO:root:Added 1645 observations with a threshold of 0.95\n"
          ]
        },
        {
          "output_type": "stream",
          "name": "stdout",
          "text": [
            "(5395, 5)\n"
          ]
        },
        {
          "output_type": "stream",
          "name": "stderr",
          "text": [
            "/content/drive/Othercomputers/Mój laptop/src/mlflow_logging/__init__.py:47: RuntimeWarning: More than 20 figures have been opened. Figures created through the pyplot interface (`matplotlib.pyplot.figure`) are retained until explicitly closed and may consume too much memory. (To control this warning, see the rcParam `figure.max_open_warning`).\n",
            "  figure, ax = plt.subplots(figsize=(20, 20))\n",
            "INFO:root:Loading only one dataset: ECG5000\n",
            "INFO:root:Loading only one dataset: ECG5000\n",
            "WARNING:root:Changing param values is not allowed. Param with key='gen_indices' was already logged with value='range(0, 3750)' for run ID='2500e6246d07466a85ff21b5b405b174'. Attempted logging new value 'range(0, 1250)'.\n",
            "WARNING:root:Not saving model json\n"
          ]
        },
        {
          "output_type": "stream",
          "name": "stdout",
          "text": [
            "Epoch 1/10\n",
            "  16/1180 [..............................] - ETA: 30s - loss: 1.5214 - accuracy: 0.3887"
          ]
        }
      ],
      "source": [
        "mlflow.set_experiment(\"Self learning - FCN\")\n",
        "mlflow.tensorflow.autolog(log_models=False)\n",
        "mlflow_logging = MlFlowLogging()\n",
        "category = \"ECG\"\n",
        "for dataset in ConcatenatedDataset().return_datasets_for_category(category):\n",
        "    with mlflow.start_run(run_name=f\"Parent run - {dataset}\"):\n",
        "        self_learning_results = train_self_learning(\n",
        "            dataset=dataset, category=category\n",
        "        )\n",
        "        plain_results = train_fcn(dataset=dataset)\n",
        "        history = {**self_learning_results[\"history\"], **plain_results[\"history\"]}\n",
        "        mlflow_logging.log_history(history)"
      ]
    },
    {
      "cell_type": "code",
      "source": [],
      "metadata": {
        "id": "kuvumcD0pF3z"
      },
      "execution_count": null,
      "outputs": []
    }
  ],
  "metadata": {
    "accelerator": "GPU",
    "colab": {
      "provenance": []
    },
    "environment": {
      "kernel": "python3",
      "name": "tf2-gpu.2-8.m100",
      "type": "gcloud",
      "uri": "gcr.io/deeplearning-platform-release/tf2-gpu.2-8:m100"
    },
    "gpuClass": "standard",
    "kernelspec": {
      "display_name": "uni",
      "language": "python",
      "name": "uni"
    },
    "language_info": {
      "codemirror_mode": {
        "name": "ipython",
        "version": 3
      },
      "file_extension": ".py",
      "mimetype": "text/x-python",
      "name": "python",
      "nbconvert_exporter": "python",
      "pygments_lexer": "ipython3",
      "version": "3.8.13"
    }
  },
  "nbformat": 4,
  "nbformat_minor": 0
}