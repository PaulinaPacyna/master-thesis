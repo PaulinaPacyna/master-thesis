{
 "cells": [
  {
   "cell_type": "code",
   "execution_count": null,
   "metadata": {
    "id": "61GyTOmlhnCj"
   },
   "outputs": [],
   "source": [
    "import sys, os\n",
    "from models import FCN, WarpingLayer, input_layer\n",
    "from preprocessing import ConstantLengthDataGenerator\n",
    "import numpy as np\n",
    "import tensorflow.keras as keras\n",
    "import matplotlib.pyplot as plt\n",
    "import sklearn\n",
    "from sklearn.model_selection import train_test_split"
   ]
  },
  {
   "cell_type": "code",
   "execution_count": null,
   "metadata": {
    "id": "CiW2q4Tii_OB"
   },
   "outputs": [],
   "source": [
    "data_path = \"./data\"\n",
    "X, y = np.load(f\"{data_path}/X.npy\", allow_pickle=True), np.load(f\"{data_path}/y.npy\")\n",
    "y.shape, X.shape"
   ]
  },
  {
   "cell_type": "code",
   "execution_count": null,
   "metadata": {
    "id": "CiW2q4Tii_OB",
    "scrolled": true
   },
   "outputs": [],
   "source": [
    "mask = np.char.startswith(y, \"GunPoint\").reshape(-1)\n",
    "y = y[mask, :]\n",
    "X = X[mask]"
   ]
  },
  {
   "cell_type": "code",
   "execution_count": null,
   "metadata": {
    "id": "CiW2q4Tii_OB"
   },
   "outputs": [],
   "source": [
    "y_encoder = sklearn.preprocessing.OneHotEncoder(categories=\"auto\")\n",
    "y = y_encoder.fit_transform(y.reshape(-1, 1)).toarray()\n",
    "y.shape, X.shape"
   ]
  },
  {
   "cell_type": "code",
   "execution_count": null,
   "metadata": {
    "id": "Q7cJtoLrlqdq"
   },
   "outputs": [],
   "source": [
    "number_of_classes = y.shape[1]\n",
    "initial_learning_rate = 1e-4\n",
    "output_directory = f\"{data_path}/models/fcn_warping/outputs\"\n",
    "batch_size = min(64, X.shape[0])\n",
    "os.makedirs(output_directory, exist_ok=True)"
   ]
  },
  {
   "cell_type": "code",
   "execution_count": null,
   "metadata": {},
   "outputs": [],
   "source": [
    "input_layer = keras.layers.Input(shape=(None, 1))\n",
    "warping_layer = WarpingLayer(256)(input_layer)\n",
    "fcn_model = FCN_model(number_of_classes)(warping_layer)  # number of classes\n",
    "\n",
    "lr_schedule = keras.optimizers.schedules.ExponentialDecay(\n",
    "    initial_learning_rate=initial_learning_rate, decay_steps=3, decay_rate=1\n",
    ")\n",
    "model.compile(\n",
    "    loss=\"categorical_crossentropy\",\n",
    "    optimizer=keras.optimizers.Adam(lr_schedule),\n",
    "    metrics=[\"accuracy\"],\n",
    "    #     run_eagerly=True,\n",
    ")"
   ]
  },
  {
   "cell_type": "code",
   "execution_count": null,
   "metadata": {},
   "outputs": [],
   "source": [
    "model.summary()"
   ]
  },
  {
   "cell_type": "code",
   "execution_count": null,
   "metadata": {
    "id": "uG9EUD_ZmF2S"
   },
   "outputs": [],
   "source": [
    "X_train, X_val, y_train, y_val = train_test_split(X, y, test_size=0.25)"
   ]
  },
  {
   "cell_type": "code",
   "execution_count": null,
   "metadata": {
    "id": "nO3nt3xTmXcv"
   },
   "outputs": [],
   "source": [
    "kwargs = {\"min_length\": 256, \"max_length\": 256}\n",
    "data_generator_train = ConstantLengthDataGenerator(\n",
    "    X_train, y_train, batch_size=batch_size, **kwargs\n",
    ")\n",
    "data_generator_val = ConstantLengthDataGenerator(\n",
    "    X_val, y_val, batch_size=len(y_val), **kwargs\n",
    ")"
   ]
  },
  {
   "cell_type": "code",
   "execution_count": null,
   "metadata": {
    "colab": {
     "base_uri": "https://localhost:8080/",
     "height": 487
    },
    "id": "6czMUmfDmMkL",
    "outputId": "96440ebd-7715-455d-ad4c-741de27ea5b5",
    "scrolled": true,
    "tags": []
   },
   "outputs": [],
   "source": [
    "history = model.fit(\n",
    "    data_generator_train, epochs=30, validation_data=next(data_generator_val)\n",
    ")"
   ]
  },
  {
   "cell_type": "code",
   "execution_count": null,
   "metadata": {},
   "outputs": [],
   "source": [
    "figure = plt.figure()\n",
    "plt.plot(history.history[\"accuracy\"])\n",
    "plt.plot(history.history[\"val_accuracy\"])\n",
    "plt.title(\"model accuracy\")\n",
    "plt.ylabel(\"accuracy\")\n",
    "plt.xlabel(\"epoch\")\n",
    "plt.legend([\"train\", \"validation\"], loc=\"upper left\")\n",
    "figure"
   ]
  },
  {
   "cell_type": "code",
   "execution_count": null,
   "metadata": {},
   "outputs": [],
   "source": [
    "figure = plt.figure()\n",
    "plt.plot(history.history[\"loss\"])\n",
    "plt.plot(history.history[\"val_loss\"])\n",
    "plt.title(\"model loss\")\n",
    "plt.ylabel(\"loss\")\n",
    "plt.xlabel(\"epoch\")\n",
    "plt.legend([\"train\", \"validation\"], loc=\"upper left\")\n",
    "figure"
   ]
  }
 ],
 "metadata": {
  "accelerator": "GPU",
  "colab": {
   "authorship_tag": "ABX9TyOrHJZU4U+gCTLkVeidFSBQ",
   "include_colab_link": true,
   "mount_file_id": "1v9_e2FfKNUJ3QhzXBLbRFtVs2gx3kfOR",
   "provenance": []
  },
  "environment": {
   "kernel": "python3",
   "name": "tf2-gpu.2-8.m100",
   "type": "gcloud",
   "uri": "gcr.io/deeplearning-platform-release/tf2-gpu.2-8:m100"
  },
  "gpuClass": "standard",
  "kernelspec": {
   "display_name": "Python 3 (ipykernel)",
   "language": "python",
   "name": "python3"
  },
  "language_info": {
   "codemirror_mode": {
    "name": "ipython",
    "version": 3
   },
   "file_extension": ".py",
   "mimetype": "text/x-python",
   "name": "python",
   "nbconvert_exporter": "python",
   "pygments_lexer": "ipython3",
   "version": "3.8.13"
  }
 },
 "nbformat": 4,
 "nbformat_minor": 4
}
