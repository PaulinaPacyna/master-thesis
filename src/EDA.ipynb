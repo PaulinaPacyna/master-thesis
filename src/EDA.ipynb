{
 "cells": [
  {
   "cell_type": "code",
   "execution_count": 1,
   "id": "119684ee",
   "metadata": {},
   "outputs": [],
   "source": [
    "from sktime.datasets import load_from_tsfile\n",
    "from preprocessing import get_paths, read_univariate_ts, random_sub_interval, TargetEncoder\n",
    "import os\n",
    "import numpy as np\n",
    "from itertools import chain\n",
    "import pandas as pd\n",
    "import matplotlib.pyplot as plt"
   ]
  },
  {
   "cell_type": "markdown",
   "id": "7c5f67db",
   "metadata": {},
   "source": [
    "Number of classes:"
   ]
  },
  {
   "cell_type": "code",
   "execution_count": 2,
   "id": "bf36b8d9",
   "metadata": {
    "scrolled": true
   },
   "outputs": [
    {
     "data": {
      "text/plain": [
       "1118"
      ]
     },
     "execution_count": 2,
     "metadata": {},
     "output_type": "execute_result"
    }
   ],
   "source": [
    "sum(len(np.unique(load_from_tsfile(path)[1])) for path in get_paths())"
   ]
  },
  {
   "cell_type": "markdown",
   "id": "a91a7539",
   "metadata": {},
   "source": [
    "Distribution of lengths of the series."
   ]
  },
  {
   "cell_type": "code",
   "execution_count": 3,
   "id": "59591bb3",
   "metadata": {},
   "outputs": [],
   "source": [
    "lengths_of_datasets =[]\n",
    "for path in get_paths():\n",
    "    X, _ = load_from_tsfile(path)\n",
    "    lengths_of_datasets += X.applymap(len).values.reshape(-1).tolist() "
   ]
  },
  {
   "cell_type": "code",
   "execution_count": 5,
   "id": "b953201d",
   "metadata": {
    "scrolled": true
   },
   "outputs": [
    {
     "data": {
      "image/png": "[encoded data removed]",
      "text/plain": [
       "<Figure size 432x288 with 1 Axes>"
      ]
     },
     "metadata": {
      "needs_background": "light"
     },
     "output_type": "display_data"
    }
   ],
   "source": [
    "_=plt.hist(lengths_of_datasets, bins=50)"
   ]
  }
 ],
 "metadata": {
  "kernelspec": {
   "display_name": "uni",
   "language": "python",
   "name": "uni"
  },
  "language_info": {
   "codemirror_mode": {
    "name": "ipython",
    "version": 3
   },
   "file_extension": ".py",
   "mimetype": "text/x-python",
   "name": "python",
   "nbconvert_exporter": "python",
   "pygments_lexer": "ipython3",
   "version": "3.8.13"
  }
 },
 "nbformat": 4,
 "nbformat_minor": 5
}
