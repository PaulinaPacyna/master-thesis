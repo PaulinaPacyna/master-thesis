{
 "cells": [
  {
   "cell_type": "code",
   "execution_count": null,
   "id": "c08dec93",
   "metadata": {},
   "outputs": [],
   "source": [
    "import numpy as np\n",
    "from preprocessing import ConstantLengthDataGenerator, plot\n",
    "from collections import Counter\n",
    "import matplotlib.pyplot as plt"
   ]
  },
  {
   "cell_type": "code",
   "execution_count": null,
   "id": "8a329e14",
   "metadata": {},
   "outputs": [],
   "source": [
    "data_path = './data/concatenated'\n",
    "X, y = np.load(f\"{data_path}/X.npy\", allow_pickle=True), np.load(f\"{data_path}//y.npy\")\n",
    "print(\"X shape:\", X.shape)\n",
    "print(\"y shape:\", y.shape)"
   ]
  },
  {
   "cell_type": "code",
   "execution_count": null,
   "id": "cb23cd82",
   "metadata": {},
   "outputs": [],
   "source": [
    "X[0]"
   ]
  },
  {
   "cell_type": "code",
   "execution_count": null,
   "id": "4542474d",
   "metadata": {},
   "outputs": [],
   "source": [
    "y[0]"
   ]
  },
  {
   "cell_type": "code",
   "execution_count": null,
   "id": "29d502eb",
   "metadata": {},
   "outputs": [],
   "source": [
    "generator = ConstantLengthDataGenerator(X, y, batch_size=8, max_length=16)"
   ]
  },
  {
   "cell_type": "code",
   "execution_count": null,
   "id": "303e79b4",
   "metadata": {},
   "outputs": [],
   "source": [
    "X_batch, y_batch = next(generator)\n",
    "X_batch"
   ]
  },
  {
   "cell_type": "code",
   "execution_count": null,
   "id": "edafbf9f",
   "metadata": {
    "scrolled": false
   },
   "outputs": [],
   "source": [
    "y_batch"
   ]
  },
  {
   "cell_type": "code",
   "execution_count": null,
   "id": "72cda72e",
   "metadata": {},
   "outputs": [],
   "source": [
    "plot(X_batch, y_batch)\n",
    "plt.legend(y_batch)"
   ]
  },
  {
   "cell_type": "code",
   "execution_count": null,
   "id": "3f1ccd5f",
   "metadata": {},
   "outputs": [],
   "source": [
    "classes = []\n",
    "for i in range(5000):\n",
    "    _, y = next(generator)\n",
    "    classes += y.ravel().tolist()\n",
    "\n",
    "counts = Counter(classes)\n",
    "counts"
   ]
  },
  {
   "cell_type": "code",
   "execution_count": null,
   "id": "fcaf3e32",
   "metadata": {},
   "outputs": [],
   "source": [
    "_ = plt.bar(*zip(*counts.items()))"
   ]
  },
  {
   "cell_type": "code",
   "execution_count": null,
   "id": "91412d0d",
   "metadata": {},
   "outputs": [],
   "source": []
  }
 ],
 "metadata": {
  "kernelspec": {
   "display_name": "uni",
   "language": "python",
   "name": "uni"
  },
  "language_info": {
   "codemirror_mode": {
    "name": "ipython",
    "version": 3
   },
   "file_extension": ".py",
   "mimetype": "text/x-python",
   "name": "python",
   "nbconvert_exporter": "python",
   "pygments_lexer": "ipython3",
   "version": "3.8.13"
  }
 },
 "nbformat": 4,
 "nbformat_minor": 5
}
