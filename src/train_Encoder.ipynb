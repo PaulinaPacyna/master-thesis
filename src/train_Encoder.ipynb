{
  "cells": [
    {
      "cell_type": "code",
      "execution_count": null,
      "metadata": {
        "id": "8qrMrkqUL_tr"
      },
      "outputs": [],
      "source": [
        "import os, sys\n",
        "\n",
        "if os.path.abspath(\".\") == \"/content\":  # google colab\n",
        "    %pip install sktime keras==2.8.0 tensorflow==2.8.2 keras-nlp==0.4.0 mlflow GitPython tensorflow_addons==0.17.1 databricks-cli  --quiet\n",
        "    from google.colab import drive\n",
        "    drive.mount(\"/content/drive\")\n",
        "\n",
        "    os.chdir(\"/content/drive/My Drive/master-thesis/src\")"
      ]
    },
    {
      "cell_type": "code",
      "execution_count": null,
      "metadata": {
        "id": "61GyTOmlhnCj"
      },
      "outputs": [],
      "source": [
        "import sys, os\n",
        "from models import Encoder_model\n",
        "from preprocessing import ConstantLengthDataGenerator, plot\n",
        "from mlflow_logging import MlFlowLogging\n",
        "from reading import ConcatenatedDataset\n",
        "import numpy as np\n",
        "import tensorflow.keras as keras\n",
        "import matplotlib.pyplot as plt\n",
        "import sklearn\n",
        "import shutil\n",
        "from sklearn.model_selection import train_test_split\n",
        "import mlflow\n",
        "import tensorflow as tf\n",
        "import logging"
      ]
    },
    {
      "cell_type": "code",
      "source": [
        "mlflow.set_experiment(\"Encoder\")"
      ],
      "metadata": {
        "id": "vtMYf93bAMOq"
      },
      "execution_count": null,
      "outputs": []
    },
    {
      "cell_type": "code",
      "execution_count": null,
      "metadata": {
        "id": "0AjbFufc-DRJ"
      },
      "outputs": [],
      "source": [
        "logger = logging.getLogger()\n",
        "logger.setLevel(logging.INFO)\n",
        "mlflow_logging = MlFlowLogging()\n",
        "mlflow.tensorflow.autolog()"
      ]
    },
    {
      "cell_type": "code",
      "execution_count": null,
      "metadata": {
        "id": "CiW2q4Tii_OB"
      },
      "outputs": [],
      "source": [
        "category = \"MOTION\"\n",
        "X, y = ConcatenatedDataset().read_dataset(dataset=\"ECG200\")"
      ]
    },
    {
      "cell_type": "code",
      "execution_count": null,
      "metadata": {
        "id": "gJ2XCphMHMol"
      },
      "outputs": [],
      "source": [
        "y_encoder = sklearn.preprocessing.OneHotEncoder(categories=\"auto\")\n",
        "y = y_encoder.fit_transform(y.reshape(-1, 1)).toarray()\n",
        "mlflow.log_param(\"y.shape\", y.shape)\n",
        "y.shape, X.shape"
      ]
    },
    {
      "cell_type": "code",
      "execution_count": null,
      "metadata": {
        "id": "uG9EUD_ZmF2S"
      },
      "outputs": [],
      "source": [
        "X_train, X_val, y_train, y_val = train_test_split(X, y, test_size=0.25, stratify=y)"
      ]
    },
    {
      "cell_type": "markdown",
      "metadata": {
        "id": "OUq0BPGk-DRO"
      },
      "source": [
        "# Model"
      ]
    },
    {
      "cell_type": "code",
      "execution_count": null,
      "metadata": {
        "id": "Q7cJtoLrlqdq"
      },
      "outputs": [],
      "source": [
        "number_of_classes = y.shape[1]\n",
        "output_directory = f\"./data/models/encoder/category={category}\"\n",
        "batch_size = 256\n",
        "input_length = 256\n",
        "os.makedirs(output_directory, exist_ok=True)"
      ]
    },
    {
      "cell_type": "code",
      "execution_count": null,
      "metadata": {
        "id": "ZWUxn4uUHMom",
        "tags": []
      },
      "outputs": [],
      "source": [
        "input_layer = keras.layers.Input(shape=(input_length, 1))\n",
        "fcn_model = Encoder_model(number_of_classes=y.shape[1])(input_layer)\n",
        "model = keras.models.Model(inputs=input_layer, outputs=fcn_model)\n",
        "\n",
        "lr_schedule = keras.optimizers.schedules.ExponentialDecay(\n",
        "    initial_learning_rate=1e-4, decay_steps=int(1e6), decay_rate=.5\n",
        ")\n",
        "\n",
        "callbacks = []\n",
        "callbacks.append(\n",
        "    tf.keras.callbacks.ModelCheckpoint(\n",
        "        filepath=output_directory, monitor=\"val_accuracy\", save_best_only=True\n",
        "    )\n",
        ")\n",
        "\n",
        "model.compile(\n",
        "    loss=\"categorical_crossentropy\",\n",
        "    optimizer=keras.optimizers.Adam(lr_schedule),\n",
        "    metrics=[\"accuracy\"],\n",
        ")"
      ]
    },
    {
      "cell_type": "code",
      "execution_count": null,
      "metadata": {
        "id": "H2CBXfL8HMoo"
      },
      "outputs": [],
      "source": [
        "model.summary()"
      ]
    },
    {
      "cell_type": "code",
      "execution_count": null,
      "metadata": {
        "id": "nO3nt3xTmXcv"
      },
      "outputs": [],
      "source": [
        "kwargs = {\n",
        "    \"min_length\": input_length,\n",
        "    \"max_length\": input_length,\n",
        "    \"logging_call\": mlflow.log_params,\n",
        "}\n",
        "data_generator_train = ConstantLengthDataGenerator(\n",
        "    X_train,\n",
        "    y_train,\n",
        "    batch_size=batch_size,\n",
        "    augmentation_probability=0.2,\n",
        "    cutting_probability=0.2,\n",
        "    padding_probability=0.5,\n",
        "    **kwargs\n",
        ")\n",
        "data_generator_val = ConstantLengthDataGenerator(\n",
        "    X_val,\n",
        "    y_val,\n",
        "    batch_size=len(y_val),\n",
        "    augmentation_probability=0,\n",
        "    cutting_probability=0,\n",
        "    padding_probability=1,\n",
        "    **kwargs\n",
        ")\n",
        "validation_data = next(data_generator_val)"
      ]
    },
    {
      "cell_type": "code",
      "execution_count": null,
      "metadata": {
        "id": "6czMUmfDmMkL",
        "scrolled": true,
        "tags": []
      },
      "outputs": [],
      "source": [
        "history = model.fit(\n",
        "    data_generator_train,\n",
        "    epochs=5,\n",
        "    validation_data=validation_data,\n",
        "    callbacks=callbacks,\n",
        ")"
      ]
    },
    {
      "cell_type": "markdown",
      "metadata": {
        "id": "ivkDApYWrucq"
      },
      "source": [
        "# Logging the results"
      ]
    },
    {
      "cell_type": "code",
      "execution_count": null,
      "metadata": {
        "id": "xGQPgMhwrucs"
      },
      "outputs": [],
      "source": [
        "summary, loss, acc = mlflow_logging.log_history(history.history)\n",
        "mlflow.log_figure(summary, \"summary.txt\")\n",
        "mlflow.log_figure(loss, \"loss.png\")\n",
        "mlflow.log_figure(acc, \"acc.png\")"
      ]
    },
    {
      "cell_type": "code",
      "source": [
        "conf_matrix, conf_summary = mlflow_logging.log_confusion_matrix(*validation_data, classifier=model, y_encoder=y_encoder)\n",
        "mlflow.log_figure(conf_matrix, \"conf_matrix.png\")\n",
        "mlflow.log_text(conf_summary, \"conf_summary.txt\")"
      ],
      "metadata": {
        "id": "LbGK9MFS_wT5"
      },
      "execution_count": null,
      "outputs": []
    },
    {
      "cell_type": "code",
      "source": [
        "examples = mlflow_logging.log_example_data(*next(data_generator_train), encoder=y_encoder)\n",
        "mlflow.log(examples, \"example_data.png\")"
      ],
      "metadata": {
        "id": "Q1f3IrJW_q6a"
      },
      "execution_count": null,
      "outputs": []
    },
    {
      "cell_type": "code",
      "execution_count": null,
      "metadata": {
        "id": "-OZIQwzdHMox"
      },
      "outputs": [],
      "source": [
        "mlflow.end_run()"
      ]
    }
  ],
  "metadata": {
    "accelerator": "GPU",
    "colab": {
      "provenance": []
    },
    "environment": {
      "kernel": "python3",
      "name": "tf2-gpu.2-8.m100",
      "type": "gcloud",
      "uri": "gcr.io/deeplearning-platform-release/tf2-gpu.2-8:m100"
    },
    "gpuClass": "standard",
    "kernelspec": {
      "display_name": "uni",
      "language": "python",
      "name": "uni"
    },
    "language_info": {
      "codemirror_mode": {
        "name": "ipython",
        "version": 3
      },
      "file_extension": ".py",
      "mimetype": "text/x-python",
      "name": "python",
      "nbconvert_exporter": "python",
      "pygments_lexer": "ipython3",
      "version": "3.8.13"
    }
  },
  "nbformat": 4,
  "nbformat_minor": 0
}